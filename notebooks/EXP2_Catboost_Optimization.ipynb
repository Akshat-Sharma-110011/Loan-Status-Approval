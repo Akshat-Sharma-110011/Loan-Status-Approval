{
 "cells": [
  {
   "cell_type": "code",
   "id": "initial_id",
   "metadata": {
    "collapsed": true,
    "ExecuteTime": {
     "end_time": "2025-05-03T09:00:21.430134Z",
     "start_time": "2025-05-03T09:00:21.423593Z"
    }
   },
   "source": "import pandas as pd",
   "outputs": [],
   "execution_count": 1
  },
  {
   "metadata": {
    "ExecuteTime": {
     "end_time": "2025-05-03T09:00:21.963817Z",
     "start_time": "2025-05-03T09:00:21.881809Z"
    }
   },
   "cell_type": "code",
   "source": [
    "df = pd.read_csv('loan_data.csv')\n",
    "df.head()"
   ],
   "id": "f31af588bc907ca1",
   "outputs": [
    {
     "data": {
      "text/plain": [
       "   person_age person_gender person_education  person_income  person_emp_exp  \\\n",
       "0        22.0        female           Master        71948.0               0   \n",
       "1        21.0        female      High School        12282.0               0   \n",
       "2        25.0        female      High School        12438.0               3   \n",
       "3        23.0        female         Bachelor        79753.0               0   \n",
       "4        24.0          male           Master        66135.0               1   \n",
       "\n",
       "  person_home_ownership  loan_amnt loan_intent  loan_int_rate  \\\n",
       "0                  RENT    35000.0    PERSONAL          16.02   \n",
       "1                   OWN     1000.0   EDUCATION          11.14   \n",
       "2              MORTGAGE     5500.0     MEDICAL          12.87   \n",
       "3                  RENT    35000.0     MEDICAL          15.23   \n",
       "4                  RENT    35000.0     MEDICAL          14.27   \n",
       "\n",
       "   loan_percent_income  cb_person_cred_hist_length  credit_score  \\\n",
       "0                 0.49                         3.0           561   \n",
       "1                 0.08                         2.0           504   \n",
       "2                 0.44                         3.0           635   \n",
       "3                 0.44                         2.0           675   \n",
       "4                 0.53                         4.0           586   \n",
       "\n",
       "  previous_loan_defaults_on_file  loan_status  \n",
       "0                             No            1  \n",
       "1                            Yes            0  \n",
       "2                             No            1  \n",
       "3                             No            1  \n",
       "4                             No            1  "
      ],
      "text/html": [
       "<div>\n",
       "<style scoped>\n",
       "    .dataframe tbody tr th:only-of-type {\n",
       "        vertical-align: middle;\n",
       "    }\n",
       "\n",
       "    .dataframe tbody tr th {\n",
       "        vertical-align: top;\n",
       "    }\n",
       "\n",
       "    .dataframe thead th {\n",
       "        text-align: right;\n",
       "    }\n",
       "</style>\n",
       "<table border=\"1\" class=\"dataframe\">\n",
       "  <thead>\n",
       "    <tr style=\"text-align: right;\">\n",
       "      <th></th>\n",
       "      <th>person_age</th>\n",
       "      <th>person_gender</th>\n",
       "      <th>person_education</th>\n",
       "      <th>person_income</th>\n",
       "      <th>person_emp_exp</th>\n",
       "      <th>person_home_ownership</th>\n",
       "      <th>loan_amnt</th>\n",
       "      <th>loan_intent</th>\n",
       "      <th>loan_int_rate</th>\n",
       "      <th>loan_percent_income</th>\n",
       "      <th>cb_person_cred_hist_length</th>\n",
       "      <th>credit_score</th>\n",
       "      <th>previous_loan_defaults_on_file</th>\n",
       "      <th>loan_status</th>\n",
       "    </tr>\n",
       "  </thead>\n",
       "  <tbody>\n",
       "    <tr>\n",
       "      <th>0</th>\n",
       "      <td>22.0</td>\n",
       "      <td>female</td>\n",
       "      <td>Master</td>\n",
       "      <td>71948.0</td>\n",
       "      <td>0</td>\n",
       "      <td>RENT</td>\n",
       "      <td>35000.0</td>\n",
       "      <td>PERSONAL</td>\n",
       "      <td>16.02</td>\n",
       "      <td>0.49</td>\n",
       "      <td>3.0</td>\n",
       "      <td>561</td>\n",
       "      <td>No</td>\n",
       "      <td>1</td>\n",
       "    </tr>\n",
       "    <tr>\n",
       "      <th>1</th>\n",
       "      <td>21.0</td>\n",
       "      <td>female</td>\n",
       "      <td>High School</td>\n",
       "      <td>12282.0</td>\n",
       "      <td>0</td>\n",
       "      <td>OWN</td>\n",
       "      <td>1000.0</td>\n",
       "      <td>EDUCATION</td>\n",
       "      <td>11.14</td>\n",
       "      <td>0.08</td>\n",
       "      <td>2.0</td>\n",
       "      <td>504</td>\n",
       "      <td>Yes</td>\n",
       "      <td>0</td>\n",
       "    </tr>\n",
       "    <tr>\n",
       "      <th>2</th>\n",
       "      <td>25.0</td>\n",
       "      <td>female</td>\n",
       "      <td>High School</td>\n",
       "      <td>12438.0</td>\n",
       "      <td>3</td>\n",
       "      <td>MORTGAGE</td>\n",
       "      <td>5500.0</td>\n",
       "      <td>MEDICAL</td>\n",
       "      <td>12.87</td>\n",
       "      <td>0.44</td>\n",
       "      <td>3.0</td>\n",
       "      <td>635</td>\n",
       "      <td>No</td>\n",
       "      <td>1</td>\n",
       "    </tr>\n",
       "    <tr>\n",
       "      <th>3</th>\n",
       "      <td>23.0</td>\n",
       "      <td>female</td>\n",
       "      <td>Bachelor</td>\n",
       "      <td>79753.0</td>\n",
       "      <td>0</td>\n",
       "      <td>RENT</td>\n",
       "      <td>35000.0</td>\n",
       "      <td>MEDICAL</td>\n",
       "      <td>15.23</td>\n",
       "      <td>0.44</td>\n",
       "      <td>2.0</td>\n",
       "      <td>675</td>\n",
       "      <td>No</td>\n",
       "      <td>1</td>\n",
       "    </tr>\n",
       "    <tr>\n",
       "      <th>4</th>\n",
       "      <td>24.0</td>\n",
       "      <td>male</td>\n",
       "      <td>Master</td>\n",
       "      <td>66135.0</td>\n",
       "      <td>1</td>\n",
       "      <td>RENT</td>\n",
       "      <td>35000.0</td>\n",
       "      <td>MEDICAL</td>\n",
       "      <td>14.27</td>\n",
       "      <td>0.53</td>\n",
       "      <td>4.0</td>\n",
       "      <td>586</td>\n",
       "      <td>No</td>\n",
       "      <td>1</td>\n",
       "    </tr>\n",
       "  </tbody>\n",
       "</table>\n",
       "</div>"
      ]
     },
     "execution_count": 2,
     "metadata": {},
     "output_type": "execute_result"
    }
   ],
   "execution_count": 2
  },
  {
   "metadata": {
    "ExecuteTime": {
     "end_time": "2025-05-03T09:00:37.917481Z",
     "start_time": "2025-05-03T09:00:37.905630Z"
    }
   },
   "cell_type": "code",
   "source": [
    "categorical_cols= ['person_gender', 'person_education', 'person_home_ownership', 'loan_intent', 'previous_loan_defaults_on_file']\n",
    "numerical_cols = ['person_age', 'person_income', 'person_emp_exp', 'loan_amnt', 'loan_int_rate', 'loan_percent_income', 'cb_person_cred_hist_length', 'credit_score']"
   ],
   "id": "f3718cc8fc9b9b43",
   "outputs": [],
   "execution_count": 3
  },
  {
   "metadata": {
    "ExecuteTime": {
     "end_time": "2025-05-03T09:00:48.292826Z",
     "start_time": "2025-05-03T09:00:48.281035Z"
    }
   },
   "cell_type": "code",
   "source": [
    "skewed_cols = ['person_age', 'person_income', 'person_emp_exp',\n",
    "               'loan_amnt', 'loan_percent_income',\n",
    "               'cb_person_cred_hist_length', 'credit_score']\n",
    "\n",
    "norm_cols= ['loan_int_rate']"
   ],
   "id": "71f7c0690b8a36d3",
   "outputs": [],
   "execution_count": 4
  },
  {
   "metadata": {
    "ExecuteTime": {
     "end_time": "2025-05-03T09:00:56.976032Z",
     "start_time": "2025-05-03T09:00:56.837701Z"
    }
   },
   "cell_type": "code",
   "source": [
    "from sklearn.preprocessing import StandardScaler\n",
    "from sklearn.preprocessing import PowerTransformer"
   ],
   "id": "5dbb8cdb212ce652",
   "outputs": [],
   "execution_count": 5
  },
  {
   "metadata": {
    "ExecuteTime": {
     "end_time": "2025-05-03T09:01:03.196649Z",
     "start_time": "2025-05-03T09:01:03.182961Z"
    }
   },
   "cell_type": "code",
   "source": [
    "def apply_yeo_johnson_on_left_skewed(df: pd.DataFrame, skewed_cols: list):\n",
    "    pt = PowerTransformer(method='yeo-johnson')\n",
    "    df_transformed = df.copy()\n",
    "\n",
    "    for col in skewed_cols:  # Consider it left-skewed\n",
    "        reshaped = df[[col]].dropna()  # Drop NaNs temporarily\n",
    "        transformed = pt.fit_transform(reshaped)\n",
    "        df_transformed.loc[reshaped.index, col] = transformed\n",
    "\n",
    "    return df_transformed"
   ],
   "id": "48a2b83a87e7bfa0",
   "outputs": [],
   "execution_count": 6
  },
  {
   "metadata": {
    "ExecuteTime": {
     "end_time": "2025-05-03T09:01:11.499507Z",
     "start_time": "2025-05-03T09:01:11.299286Z"
    }
   },
   "cell_type": "code",
   "source": "df_transformed = apply_yeo_johnson_on_left_skewed(df, skewed_cols)",
   "id": "8673da761cc6686d",
   "outputs": [
    {
     "name": "stderr",
     "output_type": "stream",
     "text": [
      "C:\\Users\\Akshay\\AppData\\Local\\Temp\\ipykernel_10980\\2535163183.py:8: FutureWarning: Setting an item of incompatible dtype is deprecated and will raise an error in a future version of pandas. Value '[-1.45090001 -1.45090001 -0.08360331 ...  0.65070681  0.14896785\n",
      " -0.78360458]' has dtype incompatible with int64, please explicitly cast to a compatible dtype first.\n",
      "  df_transformed.loc[reshaped.index, col] = transformed\n",
      "C:\\Users\\Akshay\\AppData\\Local\\Temp\\ipykernel_10980\\2535163183.py:8: FutureWarning: Setting an item of incompatible dtype is deprecated and will raise an error in a future version of pandas. Value '[-1.37672516 -2.11601292 -0.06033249 ...  0.67879598 -0.66584082\n",
      " -0.20431105]' has dtype incompatible with int64, please explicitly cast to a compatible dtype first.\n",
      "  df_transformed.loc[reshaped.index, col] = transformed\n"
     ]
    }
   ],
   "execution_count": 7
  },
  {
   "metadata": {
    "ExecuteTime": {
     "end_time": "2025-05-03T09:01:23.332342Z",
     "start_time": "2025-05-03T09:01:23.319330Z"
    }
   },
   "cell_type": "code",
   "source": [
    "def create_dummies(df: pd.DataFrame, drop_first: bool = True):\n",
    "    df_encoded = pd.get_dummies(df, columns=categorical_cols, drop_first=drop_first, dtype=int)\n",
    "    return df_encoded"
   ],
   "id": "7fef79779edddd12",
   "outputs": [],
   "execution_count": 8
  },
  {
   "metadata": {
    "ExecuteTime": {
     "end_time": "2025-05-03T09:01:31.646650Z",
     "start_time": "2025-05-03T09:01:31.603300Z"
    }
   },
   "cell_type": "code",
   "source": "df_final = create_dummies(df_transformed)",
   "id": "dd446b0dbc990fc7",
   "outputs": [],
   "execution_count": 9
  },
  {
   "metadata": {
    "ExecuteTime": {
     "end_time": "2025-05-03T09:01:39.452534Z",
     "start_time": "2025-05-03T09:01:39.440200Z"
    }
   },
   "cell_type": "code",
   "source": [
    "X = df_final.drop('loan_status', axis=1)\n",
    "y = df_final['loan_status']"
   ],
   "id": "75e0ec689d3694af",
   "outputs": [],
   "execution_count": 10
  },
  {
   "metadata": {
    "ExecuteTime": {
     "end_time": "2025-05-03T09:01:47.483900Z",
     "start_time": "2025-05-03T09:01:46.722181Z"
    }
   },
   "cell_type": "code",
   "source": [
    "from sklearn.model_selection import train_test_split\n",
    "from imblearn.over_sampling import SMOTE\n",
    "\n",
    "# Step 1: Split your data\n",
    "X_train, X_test, y_train, y_test = train_test_split(X, y, test_size=0.2, random_state=42, stratify=y)\n",
    "\n",
    "# Step 2: Apply SMOTE on the training set only\n",
    "smote = SMOTE(random_state=42)\n",
    "X_train_resampled, y_train_resampled = smote.fit_resample(X_train, y_train)"
   ],
   "id": "d0b2ca957bcf7b89",
   "outputs": [
    {
     "name": "stderr",
     "output_type": "stream",
     "text": [
      "C:\\Users\\Akshay\\anaconda3\\envs\\Loan-Status-Approval\\lib\\site-packages\\joblib\\externals\\loky\\backend\\context.py:136: UserWarning: Could not find the number of physical cores for the following reason:\n",
      "[WinError 2] The system cannot find the file specified\n",
      "Returning the number of logical cores instead. You can silence this warning by setting LOKY_MAX_CPU_COUNT to the number of cores you want to use.\n",
      "  warnings.warn(\n",
      "  File \"C:\\Users\\Akshay\\anaconda3\\envs\\Loan-Status-Approval\\lib\\site-packages\\joblib\\externals\\loky\\backend\\context.py\", line 257, in _count_physical_cores\n",
      "    cpu_info = subprocess.run(\n",
      "  File \"C:\\Users\\Akshay\\anaconda3\\envs\\Loan-Status-Approval\\lib\\subprocess.py\", line 503, in run\n",
      "    with Popen(*popenargs, **kwargs) as process:\n",
      "  File \"C:\\Users\\Akshay\\anaconda3\\envs\\Loan-Status-Approval\\lib\\subprocess.py\", line 971, in __init__\n",
      "    self._execute_child(args, executable, preexec_fn, close_fds,\n",
      "  File \"C:\\Users\\Akshay\\anaconda3\\envs\\Loan-Status-Approval\\lib\\subprocess.py\", line 1456, in _execute_child\n",
      "    hp, ht, pid, tid = _winapi.CreateProcess(executable, args,\n"
     ]
    }
   ],
   "execution_count": 11
  },
  {
   "metadata": {
    "ExecuteTime": {
     "end_time": "2025-05-03T09:02:23.221896Z",
     "start_time": "2025-05-03T09:02:21.402441Z"
    }
   },
   "cell_type": "code",
   "source": [
    "import os\n",
    "import dagshub\n",
    "import mlflow\n",
    "from mlflow.exceptions import MlflowException\n",
    "\n",
    "# Configuration - Replace with your actual details\n",
    "DAGSHUB_USERNAME = \"Akshat-Sharma-110011\"\n",
    "DAGSHUB_TOKEN = \"268f8944c99d48868fa3235eb38ea909e929c70c\"  # Keep this secret!\n",
    "REPO_NAME = \"Loan-Status-Approval\"\n",
    "\n",
    "# 1. Set environment variables\n",
    "os.environ[\"MLFLOW_TRACKING_USERNAME\"] = DAGSHUB_USERNAME\n",
    "os.environ[\"MLFLOW_TRACKING_PASSWORD\"] = DAGSHUB_TOKEN\n",
    "\n",
    "# 2. Initialize DagsHub - do this first\n",
    "dagshub.init(\n",
    "    repo_owner=DAGSHUB_USERNAME,\n",
    "    repo_name=REPO_NAME,\n",
    "    mlflow=True\n",
    ")\n",
    "\n",
    "# 3. Set the tracking URI with the correct format\n",
    "mlflow.set_tracking_uri(f\"https://dagshub.com/{DAGSHUB_USERNAME}/{REPO_NAME}.mlflow\")\n",
    "\n",
    "# 4. Handle experiment creation more robustly\n",
    "EXPERIMENT_NAME = \"CatBoost Optimizer\"\n",
    "\n",
    "try:\n",
    "    # Check if experiment exists\n",
    "    if not mlflow.get_experiment_by_name(EXPERIMENT_NAME):\n",
    "        print(f\"Experiment '{EXPERIMENT_NAME}' does not exist. Creating...\")\n",
    "        mlflow.create_experiment(EXPERIMENT_NAME)\n",
    "    mlflow.set_experiment(EXPERIMENT_NAME)\n",
    "    print(f\"Successfully set experiment: {EXPERIMENT_NAME}\")\n",
    "\n",
    "except MlflowException as e:\n",
    "    print(f\"MLflow Error: {e}\")\n",
    "except Exception as e:\n",
    "    print(f\"Unexpected Error: {e}\")"
   ],
   "id": "f63119c67aee8860",
   "outputs": [
    {
     "data": {
      "text/plain": [
       "Initialized MLflow to track repo \u001B[32m\"Akshat-Sharma-110011/Loan-Status-Approval\"\u001B[0m\n"
      ],
      "text/html": [
       "<pre style=\"white-space:pre;overflow-x:auto;line-height:normal;font-family:Menlo,'DejaVu Sans Mono',consolas,'Courier New',monospace\">Initialized MLflow to track repo <span style=\"color: #008000; text-decoration-color: #008000\">\"Akshat-Sharma-110011/Loan-Status-Approval\"</span>\n",
       "</pre>\n"
      ]
     },
     "metadata": {},
     "output_type": "display_data"
    },
    {
     "data": {
      "text/plain": [
       "Repository Akshat-Sharma-\u001B[1;36m110011\u001B[0m/Loan-Status-Approval initialized!\n"
      ],
      "text/html": [
       "<pre style=\"white-space:pre;overflow-x:auto;line-height:normal;font-family:Menlo,'DejaVu Sans Mono',consolas,'Courier New',monospace\">Repository Akshat-Sharma-<span style=\"color: #008080; text-decoration-color: #008080; font-weight: bold\">110011</span>/Loan-Status-Approval initialized!\n",
       "</pre>\n"
      ]
     },
     "metadata": {},
     "output_type": "display_data"
    },
    {
     "name": "stdout",
     "output_type": "stream",
     "text": [
      "Experiment 'CatBoost Optimizer' does not exist. Creating...\n",
      "Successfully set experiment: CatBoost Optimizer\n"
     ]
    }
   ],
   "execution_count": 13
  },
  {
   "metadata": {
    "ExecuteTime": {
     "end_time": "2025-05-03T09:11:39.825194Z",
     "start_time": "2025-05-03T09:05:45.102369Z"
    }
   },
   "cell_type": "code",
   "source": [
    "import logging\n",
    "import time\n",
    "import mlflow\n",
    "import optuna\n",
    "from catboost import CatBoostClassifier\n",
    "from sklearn.metrics import accuracy_score, precision_score, recall_score, f1_score\n",
    "\n",
    "# Configure logging\n",
    "logging.basicConfig(level=logging.INFO, format=\"%(asctime)s - %(levelname)s - %(message)s\")\n",
    "\n",
    "# Define Optuna objective function\n",
    "def objective(trial):\n",
    "    # Start a new child run for each Optuna trial\n",
    "    with mlflow.start_run(nested=True):\n",
    "        # Suggest hyperparameters\n",
    "        params = {\n",
    "            \"iterations\": trial.suggest_int(\"iterations\", 100, 1000, step=100),\n",
    "            \"learning_rate\": trial.suggest_float(\"learning_rate\", 0.01, 0.3, log=True),\n",
    "            \"depth\": trial.suggest_int(\"depth\", 3, 10),\n",
    "            \"random_state\": 42,\n",
    "            \"verbose\": 0\n",
    "        }\n",
    "\n",
    "        # Log trial parameters\n",
    "        mlflow.log_params(params)\n",
    "\n",
    "        # Train model\n",
    "        model = CatBoostClassifier(**params)\n",
    "        model.fit(X_train_resampled, y_train_resampled)\n",
    "\n",
    "        # Predict and evaluate\n",
    "        y_pred = model.predict(X_test)\n",
    "        accuracy = accuracy_score(y_test, y_pred)\n",
    "        precision = precision_score(y_test, y_pred)\n",
    "        recall = recall_score(y_test, y_pred)\n",
    "        f1 = f1_score(y_test, y_pred)\n",
    "\n",
    "        # Log metrics\n",
    "        mlflow.log_metrics({\n",
    "            \"accuracy\": accuracy,\n",
    "            \"precision\": precision,\n",
    "            \"recall\": recall,\n",
    "            \"f1_score\": f1\n",
    "        })\n",
    "\n",
    "        # Return F1 for optimization\n",
    "        return f1\n",
    "\n",
    "# Start parent run\n",
    "logging.info(\"Starting MLflow parent run and Optuna study...\")\n",
    "with mlflow.start_run(run_name=\"CatBoost_Optuna_HPO\") as parent_run:\n",
    "    start_time = time.time()\n",
    "\n",
    "    # Log general experiment settings\n",
    "    mlflow.log_param(\"random_state\", 42)\n",
    "    mlflow.log_param(\"test_size\", 0.2)\n",
    "    mlflow.set_tag(\"mlflow.runType\", \"parent\")\n",
    "\n",
    "    # Run Optuna Study\n",
    "    study = optuna.create_study(direction=\"maximize\", study_name=\"CatBoost Optimization\")\n",
    "    study.optimize(objective, n_trials=30)\n",
    "\n",
    "    # Log best trial\n",
    "    best_params = study.best_trial.params\n",
    "    mlflow.log_params({f\"best_{k}\": v for k, v in best_params.items()})\n",
    "    mlflow.log_metric(\"best_f1_score\", study.best_value)\n",
    "\n",
    "    # Train final model on best parameters\n",
    "    logging.info(\"Training final model with best parameters...\")\n",
    "    final_model = CatBoostClassifier(**best_params, random_state=42, verbose=0)\n",
    "    final_model.fit(X_train_resampled, y_train_resampled)\n",
    "\n",
    "    y_final_pred = final_model.predict(X_test)\n",
    "    final_accuracy = accuracy_score(y_test, y_final_pred)\n",
    "    final_precision = precision_score(y_test, y_final_pred)\n",
    "    final_recall = recall_score(y_test, y_final_pred)\n",
    "    final_f1 = f1_score(y_test, y_final_pred)\n",
    "\n",
    "    mlflow.log_metrics({\n",
    "        \"final_accuracy\": final_accuracy,\n",
    "        \"final_precision\": final_precision,\n",
    "        \"final_recall\": final_recall,\n",
    "        \"final_f1_score\": final_f1\n",
    "    })\n",
    "\n",
    "    # Log final model\n",
    "    mlflow.sklearn.log_model(final_model, \"final_model\")\n",
    "\n",
    "    end_time = time.time()\n",
    "    logging.info(f\"Total tuning + final training time: {end_time - start_time:.2f} seconds.\")\n"
   ],
   "id": "475c37f80722ec9b",
   "outputs": [
    {
     "name": "stderr",
     "output_type": "stream",
     "text": [
      "C:\\Users\\Akshay\\anaconda3\\envs\\Loan-Status-Approval\\lib\\site-packages\\tqdm\\auto.py:21: TqdmWarning: IProgress not found. Please update jupyter and ipywidgets. See https://ipywidgets.readthedocs.io/en/stable/user_install.html\n",
      "  from .autonotebook import tqdm as notebook_tqdm\n",
      "2025-05-03 14:35:45,263 - INFO - Starting MLflow parent run and Optuna study...\n",
      "[I 2025-05-03 14:35:46,997] A new study created in memory with name: CatBoost Optimization\n"
     ]
    },
    {
     "name": "stdout",
     "output_type": "stream",
     "text": [
      "🏃 View run masked-shoat-180 at: https://dagshub.com/Akshat-Sharma-110011/Loan-Status-Approval.mlflow/#/experiments/1/runs/3284e4c2b9ea404fa71083330868bc5e\n",
      "🧪 View experiment at: https://dagshub.com/Akshat-Sharma-110011/Loan-Status-Approval.mlflow/#/experiments/1\n"
     ]
    },
    {
     "name": "stderr",
     "output_type": "stream",
     "text": [
      "[I 2025-05-03 14:36:05,128] Trial 0 finished with value: 0.8484693877551021 and parameters: {'iterations': 700, 'learning_rate': 0.22272277530025023, 'depth': 9}. Best is trial 0 with value: 0.8484693877551021.\n"
     ]
    },
    {
     "name": "stdout",
     "output_type": "stream",
     "text": [
      "🏃 View run unruly-horse-762 at: https://dagshub.com/Akshat-Sharma-110011/Loan-Status-Approval.mlflow/#/experiments/1/runs/5e34c6bc5a2a4619aaeb7e5bff95ae05\n",
      "🧪 View experiment at: https://dagshub.com/Akshat-Sharma-110011/Loan-Status-Approval.mlflow/#/experiments/1\n"
     ]
    },
    {
     "name": "stderr",
     "output_type": "stream",
     "text": [
      "[I 2025-05-03 14:36:16,172] Trial 1 finished with value: 0.8096885813148789 and parameters: {'iterations': 500, 'learning_rate': 0.014196924848219071, 'depth': 6}. Best is trial 0 with value: 0.8484693877551021.\n"
     ]
    },
    {
     "name": "stdout",
     "output_type": "stream",
     "text": [
      "🏃 View run colorful-mink-256 at: https://dagshub.com/Akshat-Sharma-110011/Loan-Status-Approval.mlflow/#/experiments/1/runs/6a31b2029e914e319dc16b7153137628\n",
      "🧪 View experiment at: https://dagshub.com/Akshat-Sharma-110011/Loan-Status-Approval.mlflow/#/experiments/1\n"
     ]
    },
    {
     "name": "stderr",
     "output_type": "stream",
     "text": [
      "[I 2025-05-03 14:36:21,303] Trial 2 finished with value: 0.8359196133299415 and parameters: {'iterations': 400, 'learning_rate': 0.08216504965327792, 'depth': 5}. Best is trial 0 with value: 0.8484693877551021.\n"
     ]
    },
    {
     "name": "stdout",
     "output_type": "stream",
     "text": [
      "🏃 View run capricious-vole-445 at: https://dagshub.com/Akshat-Sharma-110011/Loan-Status-Approval.mlflow/#/experiments/1/runs/7d736a8a598d4bb8892212ecc2dc4a6f\n",
      "🧪 View experiment at: https://dagshub.com/Akshat-Sharma-110011/Loan-Status-Approval.mlflow/#/experiments/1\n"
     ]
    },
    {
     "name": "stderr",
     "output_type": "stream",
     "text": [
      "[I 2025-05-03 14:36:24,244] Trial 3 finished with value: 0.8163459253979568 and parameters: {'iterations': 100, 'learning_rate': 0.08729526586974556, 'depth': 7}. Best is trial 0 with value: 0.8484693877551021.\n"
     ]
    },
    {
     "name": "stdout",
     "output_type": "stream",
     "text": [
      "🏃 View run grandiose-dog-625 at: https://dagshub.com/Akshat-Sharma-110011/Loan-Status-Approval.mlflow/#/experiments/1/runs/104b73b2f9644ca39fd2c088227f4b44\n",
      "🧪 View experiment at: https://dagshub.com/Akshat-Sharma-110011/Loan-Status-Approval.mlflow/#/experiments/1\n"
     ]
    },
    {
     "name": "stderr",
     "output_type": "stream",
     "text": [
      "[I 2025-05-03 14:36:32,979] Trial 4 finished with value: 0.8535327488396081 and parameters: {'iterations': 500, 'learning_rate': 0.21848643147296196, 'depth': 5}. Best is trial 4 with value: 0.8535327488396081.\n"
     ]
    },
    {
     "name": "stdout",
     "output_type": "stream",
     "text": [
      "🏃 View run bittersweet-fowl-271 at: https://dagshub.com/Akshat-Sharma-110011/Loan-Status-Approval.mlflow/#/experiments/1/runs/563fb29664cf493497fb692c3c4ddc79\n",
      "🧪 View experiment at: https://dagshub.com/Akshat-Sharma-110011/Loan-Status-Approval.mlflow/#/experiments/1\n"
     ]
    },
    {
     "name": "stderr",
     "output_type": "stream",
     "text": [
      "[I 2025-05-03 14:36:40,565] Trial 5 finished with value: 0.8359275325338097 and parameters: {'iterations': 900, 'learning_rate': 0.04724623440450996, 'depth': 4}. Best is trial 4 with value: 0.8535327488396081.\n"
     ]
    },
    {
     "name": "stdout",
     "output_type": "stream",
     "text": [
      "🏃 View run caring-crab-632 at: https://dagshub.com/Akshat-Sharma-110011/Loan-Status-Approval.mlflow/#/experiments/1/runs/254d462ac78c43cdb22941f55fd0eb76\n",
      "🧪 View experiment at: https://dagshub.com/Akshat-Sharma-110011/Loan-Status-Approval.mlflow/#/experiments/1\n"
     ]
    },
    {
     "name": "stderr",
     "output_type": "stream",
     "text": [
      "[I 2025-05-03 14:36:51,523] Trial 6 finished with value: 0.8469805527123848 and parameters: {'iterations': 500, 'learning_rate': 0.15724823310520358, 'depth': 8}. Best is trial 4 with value: 0.8535327488396081.\n"
     ]
    },
    {
     "name": "stdout",
     "output_type": "stream",
     "text": [
      "🏃 View run mysterious-snipe-900 at: https://dagshub.com/Akshat-Sharma-110011/Loan-Status-Approval.mlflow/#/experiments/1/runs/698f0cafbc204eed82b93b7680709c15\n",
      "🧪 View experiment at: https://dagshub.com/Akshat-Sharma-110011/Loan-Status-Approval.mlflow/#/experiments/1\n"
     ]
    },
    {
     "name": "stderr",
     "output_type": "stream",
     "text": [
      "[I 2025-05-03 14:37:04,194] Trial 7 finished with value: 0.8465473145780051 and parameters: {'iterations': 600, 'learning_rate': 0.18624392263854922, 'depth': 7}. Best is trial 4 with value: 0.8535327488396081.\n"
     ]
    },
    {
     "name": "stdout",
     "output_type": "stream",
     "text": [
      "🏃 View run judicious-bass-547 at: https://dagshub.com/Akshat-Sharma-110011/Loan-Status-Approval.mlflow/#/experiments/1/runs/9d1fd6559b4b439eb0d6545c4f50cd54\n",
      "🧪 View experiment at: https://dagshub.com/Akshat-Sharma-110011/Loan-Status-Approval.mlflow/#/experiments/1\n"
     ]
    },
    {
     "name": "stderr",
     "output_type": "stream",
     "text": [
      "[I 2025-05-03 14:37:16,855] Trial 8 finished with value: 0.8398576512455516 and parameters: {'iterations': 900, 'learning_rate': 0.028300315882220248, 'depth': 6}. Best is trial 4 with value: 0.8535327488396081.\n"
     ]
    },
    {
     "name": "stdout",
     "output_type": "stream",
     "text": [
      "🏃 View run luxuriant-carp-619 at: https://dagshub.com/Akshat-Sharma-110011/Loan-Status-Approval.mlflow/#/experiments/1/runs/acc89aaf455b4d42bc869f3f828a2e46\n",
      "🧪 View experiment at: https://dagshub.com/Akshat-Sharma-110011/Loan-Status-Approval.mlflow/#/experiments/1\n"
     ]
    },
    {
     "name": "stderr",
     "output_type": "stream",
     "text": [
      "[I 2025-05-03 14:37:58,069] Trial 9 finished with value: 0.8367816091954023 and parameters: {'iterations': 600, 'learning_rate': 0.2978027534172899, 'depth': 10}. Best is trial 4 with value: 0.8535327488396081.\n"
     ]
    },
    {
     "name": "stdout",
     "output_type": "stream",
     "text": [
      "🏃 View run casual-koi-56 at: https://dagshub.com/Akshat-Sharma-110011/Loan-Status-Approval.mlflow/#/experiments/1/runs/0b0260029fad45ecaf20b8395a653653\n",
      "🧪 View experiment at: https://dagshub.com/Akshat-Sharma-110011/Loan-Status-Approval.mlflow/#/experiments/1\n"
     ]
    },
    {
     "name": "stderr",
     "output_type": "stream",
     "text": [
      "[I 2025-05-03 14:38:01,703] Trial 10 finished with value: 0.8219518251800347 and parameters: {'iterations': 200, 'learning_rate': 0.11030204662951318, 'depth': 4}. Best is trial 4 with value: 0.8535327488396081.\n"
     ]
    },
    {
     "name": "stdout",
     "output_type": "stream",
     "text": [
      "🏃 View run stately-frog-428 at: https://dagshub.com/Akshat-Sharma-110011/Loan-Status-Approval.mlflow/#/experiments/1/runs/dfbd9e3921bf4b7ea430719bfe95d029\n",
      "🧪 View experiment at: https://dagshub.com/Akshat-Sharma-110011/Loan-Status-Approval.mlflow/#/experiments/1\n"
     ]
    },
    {
     "name": "stderr",
     "output_type": "stream",
     "text": [
      "[I 2025-05-03 14:38:50,470] Trial 11 finished with value: 0.8453871709685663 and parameters: {'iterations': 800, 'learning_rate': 0.23988934205662257, 'depth': 10}. Best is trial 4 with value: 0.8535327488396081.\n"
     ]
    },
    {
     "name": "stdout",
     "output_type": "stream",
     "text": [
      "🏃 View run nebulous-wolf-423 at: https://dagshub.com/Akshat-Sharma-110011/Loan-Status-Approval.mlflow/#/experiments/1/runs/9e5a7e51428740fdb21ce6fcba3d7d19\n",
      "🧪 View experiment at: https://dagshub.com/Akshat-Sharma-110011/Loan-Status-Approval.mlflow/#/experiments/1\n"
     ]
    },
    {
     "name": "stderr",
     "output_type": "stream",
     "text": [
      "[I 2025-05-03 14:38:58,327] Trial 12 finished with value: 0.8477026329375322 and parameters: {'iterations': 700, 'learning_rate': 0.1396977133003325, 'depth': 3}. Best is trial 4 with value: 0.8535327488396081.\n"
     ]
    },
    {
     "name": "stdout",
     "output_type": "stream",
     "text": [
      "🏃 View run learned-frog-85 at: https://dagshub.com/Akshat-Sharma-110011/Loan-Status-Approval.mlflow/#/experiments/1/runs/6b4d5a41a97f4255816deb24053d24e3\n",
      "🧪 View experiment at: https://dagshub.com/Akshat-Sharma-110011/Loan-Status-Approval.mlflow/#/experiments/1\n"
     ]
    },
    {
     "name": "stderr",
     "output_type": "stream",
     "text": [
      "[I 2025-05-03 14:39:05,110] Trial 13 finished with value: 0.8355754857997011 and parameters: {'iterations': 300, 'learning_rate': 0.04766108236839862, 'depth': 9}. Best is trial 4 with value: 0.8535327488396081.\n"
     ]
    },
    {
     "name": "stdout",
     "output_type": "stream",
     "text": [
      "🏃 View run bedecked-dolphin-830 at: https://dagshub.com/Akshat-Sharma-110011/Loan-Status-Approval.mlflow/#/experiments/1/runs/078a8070ee554020b01b7dacdac25fce\n",
      "🧪 View experiment at: https://dagshub.com/Akshat-Sharma-110011/Loan-Status-Approval.mlflow/#/experiments/1\n"
     ]
    },
    {
     "name": "stderr",
     "output_type": "stream",
     "text": [
      "[I 2025-05-03 14:39:18,558] Trial 14 finished with value: 0.8531969309462916 and parameters: {'iterations': 700, 'learning_rate': 0.21964142069021997, 'depth': 8}. Best is trial 4 with value: 0.8535327488396081.\n"
     ]
    },
    {
     "name": "stdout",
     "output_type": "stream",
     "text": [
      "🏃 View run powerful-rat-236 at: https://dagshub.com/Akshat-Sharma-110011/Loan-Status-Approval.mlflow/#/experiments/1/runs/7f65eb0079e147e28fc3792d0d2a04de\n",
      "🧪 View experiment at: https://dagshub.com/Akshat-Sharma-110011/Loan-Status-Approval.mlflow/#/experiments/1\n"
     ]
    },
    {
     "name": "stderr",
     "output_type": "stream",
     "text": [
      "[I 2025-05-03 14:39:31,156] Trial 15 finished with value: 0.8488282255987638 and parameters: {'iterations': 1000, 'learning_rate': 0.06860479102686423, 'depth': 5}. Best is trial 4 with value: 0.8535327488396081.\n"
     ]
    },
    {
     "name": "stdout",
     "output_type": "stream",
     "text": [
      "🏃 View run unique-stoat-312 at: https://dagshub.com/Akshat-Sharma-110011/Loan-Status-Approval.mlflow/#/experiments/1/runs/f6cfa707230348c6aca3123bc83097f4\n",
      "🧪 View experiment at: https://dagshub.com/Akshat-Sharma-110011/Loan-Status-Approval.mlflow/#/experiments/1\n"
     ]
    },
    {
     "name": "stderr",
     "output_type": "stream",
     "text": [
      "[I 2025-05-03 14:39:37,560] Trial 16 finished with value: 0.8246468582562104 and parameters: {'iterations': 400, 'learning_rate': 0.02670025003218741, 'depth': 8}. Best is trial 4 with value: 0.8535327488396081.\n"
     ]
    },
    {
     "name": "stdout",
     "output_type": "stream",
     "text": [
      "🏃 View run placid-croc-859 at: https://dagshub.com/Akshat-Sharma-110011/Loan-Status-Approval.mlflow/#/experiments/1/runs/e49b8c643f6949f2927121b3c4242ddc\n",
      "🧪 View experiment at: https://dagshub.com/Akshat-Sharma-110011/Loan-Status-Approval.mlflow/#/experiments/1\n"
     ]
    },
    {
     "name": "stderr",
     "output_type": "stream",
     "text": [
      "[I 2025-05-03 14:39:47,209] Trial 17 finished with value: 0.8533883019840247 and parameters: {'iterations': 700, 'learning_rate': 0.12692587347482204, 'depth': 5}. Best is trial 4 with value: 0.8535327488396081.\n"
     ]
    },
    {
     "name": "stdout",
     "output_type": "stream",
     "text": [
      "🏃 View run enchanting-stag-727 at: https://dagshub.com/Akshat-Sharma-110011/Loan-Status-Approval.mlflow/#/experiments/1/runs/a122e5f3755145a093193f785d226ac5\n",
      "🧪 View experiment at: https://dagshub.com/Akshat-Sharma-110011/Loan-Status-Approval.mlflow/#/experiments/1\n"
     ]
    },
    {
     "name": "stderr",
     "output_type": "stream",
     "text": [
      "[I 2025-05-03 14:39:51,067] Trial 18 finished with value: 0.8344845228958813 and parameters: {'iterations': 400, 'learning_rate': 0.12475811493906566, 'depth': 3}. Best is trial 4 with value: 0.8535327488396081.\n"
     ]
    },
    {
     "name": "stdout",
     "output_type": "stream",
     "text": [
      "🏃 View run amusing-finch-808 at: https://dagshub.com/Akshat-Sharma-110011/Loan-Status-Approval.mlflow/#/experiments/1/runs/7155c08b50b74e85b0caacf32400b055\n",
      "🧪 View experiment at: https://dagshub.com/Akshat-Sharma-110011/Loan-Status-Approval.mlflow/#/experiments/1\n"
     ]
    },
    {
     "name": "stderr",
     "output_type": "stream",
     "text": [
      "[I 2025-05-03 14:40:02,367] Trial 19 finished with value: 0.8536018590240124 and parameters: {'iterations': 800, 'learning_rate': 0.10707836689849982, 'depth': 5}. Best is trial 19 with value: 0.8536018590240124.\n"
     ]
    },
    {
     "name": "stdout",
     "output_type": "stream",
     "text": [
      "🏃 View run vaunted-gull-97 at: https://dagshub.com/Akshat-Sharma-110011/Loan-Status-Approval.mlflow/#/experiments/1/runs/b2654b78e9454538bc8ebc37796017d3\n",
      "🧪 View experiment at: https://dagshub.com/Akshat-Sharma-110011/Loan-Status-Approval.mlflow/#/experiments/1\n"
     ]
    },
    {
     "name": "stderr",
     "output_type": "stream",
     "text": [
      "[I 2025-05-03 14:40:13,458] Trial 20 finished with value: 0.8351090816844241 and parameters: {'iterations': 1000, 'learning_rate': 0.03516439678177183, 'depth': 4}. Best is trial 19 with value: 0.8536018590240124.\n"
     ]
    },
    {
     "name": "stdout",
     "output_type": "stream",
     "text": [
      "🏃 View run upbeat-hound-969 at: https://dagshub.com/Akshat-Sharma-110011/Loan-Status-Approval.mlflow/#/experiments/1/runs/20c97ce462da4fdeae60b4684852b0f9\n",
      "🧪 View experiment at: https://dagshub.com/Akshat-Sharma-110011/Loan-Status-Approval.mlflow/#/experiments/1\n"
     ]
    },
    {
     "name": "stderr",
     "output_type": "stream",
     "text": [
      "[I 2025-05-03 14:40:21,128] Trial 21 finished with value: 0.8474838709677419 and parameters: {'iterations': 800, 'learning_rate': 0.10331133156710384, 'depth': 5}. Best is trial 19 with value: 0.8536018590240124.\n"
     ]
    },
    {
     "name": "stdout",
     "output_type": "stream",
     "text": [
      "🏃 View run languid-tern-347 at: https://dagshub.com/Akshat-Sharma-110011/Loan-Status-Approval.mlflow/#/experiments/1/runs/5abbb089c25d4db0b8cd4554343442ba\n",
      "🧪 View experiment at: https://dagshub.com/Akshat-Sharma-110011/Loan-Status-Approval.mlflow/#/experiments/1\n"
     ]
    },
    {
     "name": "stderr",
     "output_type": "stream",
     "text": [
      "[I 2025-05-03 14:40:29,396] Trial 22 finished with value: 0.85692268173645 and parameters: {'iterations': 800, 'learning_rate': 0.16599409787390676, 'depth': 6}. Best is trial 22 with value: 0.85692268173645.\n"
     ]
    },
    {
     "name": "stdout",
     "output_type": "stream",
     "text": [
      "🏃 View run polite-finch-135 at: https://dagshub.com/Akshat-Sharma-110011/Loan-Status-Approval.mlflow/#/experiments/1/runs/dfcf2bdb5452465f909296ef18f91b55\n",
      "🧪 View experiment at: https://dagshub.com/Akshat-Sharma-110011/Loan-Status-Approval.mlflow/#/experiments/1\n"
     ]
    },
    {
     "name": "stderr",
     "output_type": "stream",
     "text": [
      "[I 2025-05-03 14:40:38,186] Trial 23 finished with value: 0.851510496671787 and parameters: {'iterations': 800, 'learning_rate': 0.17027907321690616, 'depth': 6}. Best is trial 22 with value: 0.85692268173645.\n"
     ]
    },
    {
     "name": "stdout",
     "output_type": "stream",
     "text": [
      "🏃 View run glamorous-grouse-771 at: https://dagshub.com/Akshat-Sharma-110011/Loan-Status-Approval.mlflow/#/experiments/1/runs/d9d9393f077a4234ba6af13a3dec4770\n",
      "🧪 View experiment at: https://dagshub.com/Akshat-Sharma-110011/Loan-Status-Approval.mlflow/#/experiments/1\n"
     ]
    },
    {
     "name": "stderr",
     "output_type": "stream",
     "text": [
      "[I 2025-05-03 14:40:47,805] Trial 24 finished with value: 0.8455284552845529 and parameters: {'iterations': 900, 'learning_rate': 0.2939989527788668, 'depth': 6}. Best is trial 22 with value: 0.85692268173645.\n"
     ]
    },
    {
     "name": "stdout",
     "output_type": "stream",
     "text": [
      "🏃 View run orderly-moose-37 at: https://dagshub.com/Akshat-Sharma-110011/Loan-Status-Approval.mlflow/#/experiments/1/runs/c9bb377734fa47bf84ff9dc81e3e93bc\n",
      "🧪 View experiment at: https://dagshub.com/Akshat-Sharma-110011/Loan-Status-Approval.mlflow/#/experiments/1\n"
     ]
    },
    {
     "name": "stderr",
     "output_type": "stream",
     "text": [
      "[I 2025-05-03 14:40:55,424] Trial 25 finished with value: 0.8356234096692112 and parameters: {'iterations': 600, 'learning_rate': 0.06361616407121023, 'depth': 4}. Best is trial 22 with value: 0.85692268173645.\n"
     ]
    },
    {
     "name": "stdout",
     "output_type": "stream",
     "text": [
      "🏃 View run awesome-crow-205 at: https://dagshub.com/Akshat-Sharma-110011/Loan-Status-Approval.mlflow/#/experiments/1/runs/c7f19505542b4296aa66db33c3ba1fc6\n",
      "🧪 View experiment at: https://dagshub.com/Akshat-Sharma-110011/Loan-Status-Approval.mlflow/#/experiments/1\n"
     ]
    },
    {
     "name": "stderr",
     "output_type": "stream",
     "text": [
      "[I 2025-05-03 14:41:02,684] Trial 26 finished with value: 0.8517948717948718 and parameters: {'iterations': 500, 'learning_rate': 0.18351463435229748, 'depth': 7}. Best is trial 22 with value: 0.85692268173645.\n"
     ]
    },
    {
     "name": "stdout",
     "output_type": "stream",
     "text": [
      "🏃 View run omniscient-steed-471 at: https://dagshub.com/Akshat-Sharma-110011/Loan-Status-Approval.mlflow/#/experiments/1/runs/507c5ef187e3427fa18960861b245e19\n",
      "🧪 View experiment at: https://dagshub.com/Akshat-Sharma-110011/Loan-Status-Approval.mlflow/#/experiments/1\n"
     ]
    },
    {
     "name": "stderr",
     "output_type": "stream",
     "text": [
      "[I 2025-05-03 14:41:06,729] Trial 27 finished with value: 0.8360406091370558 and parameters: {'iterations': 300, 'learning_rate': 0.0865814533698404, 'depth': 5}. Best is trial 22 with value: 0.85692268173645.\n"
     ]
    },
    {
     "name": "stdout",
     "output_type": "stream",
     "text": [
      "🏃 View run trusting-stork-133 at: https://dagshub.com/Akshat-Sharma-110011/Loan-Status-Approval.mlflow/#/experiments/1/runs/b4a24bb61c4c45fba1f017c57a98b9ea\n",
      "🧪 View experiment at: https://dagshub.com/Akshat-Sharma-110011/Loan-Status-Approval.mlflow/#/experiments/1\n"
     ]
    },
    {
     "name": "stderr",
     "output_type": "stream",
     "text": [
      "[I 2025-05-03 14:41:15,026] Trial 28 finished with value: 0.816089168887812 and parameters: {'iterations': 800, 'learning_rate': 0.014792738876250879, 'depth': 6}. Best is trial 22 with value: 0.85692268173645.\n"
     ]
    },
    {
     "name": "stdout",
     "output_type": "stream",
     "text": [
      "🏃 View run popular-roo-530 at: https://dagshub.com/Akshat-Sharma-110011/Loan-Status-Approval.mlflow/#/experiments/1/runs/b116257b7c9c4af08255c7fbba0de317\n",
      "🧪 View experiment at: https://dagshub.com/Akshat-Sharma-110011/Loan-Status-Approval.mlflow/#/experiments/1\n"
     ]
    },
    {
     "name": "stderr",
     "output_type": "stream",
     "text": [
      "[I 2025-05-03 14:41:20,676] Trial 29 finished with value: 0.8545595453371222 and parameters: {'iterations': 600, 'learning_rate': 0.22136631391989617, 'depth': 4}. Best is trial 22 with value: 0.85692268173645.\n",
      "2025-05-03 14:41:21,414 - INFO - Training final model with best parameters...\n",
      "2025/05/03 14:41:34 WARNING mlflow.models.model: Model logged without a signature and input example. Please set `input_example` parameter when logging the model to auto infer the model signature.\n",
      "2025-05-03 14:41:39,095 - INFO - Total tuning + final training time: 353.25 seconds.\n"
     ]
    },
    {
     "name": "stdout",
     "output_type": "stream",
     "text": [
      "🏃 View run CatBoost_Optuna_HPO at: https://dagshub.com/Akshat-Sharma-110011/Loan-Status-Approval.mlflow/#/experiments/1/runs/b75db6ed31944681a9e7bfe450db8d4e\n",
      "🧪 View experiment at: https://dagshub.com/Akshat-Sharma-110011/Loan-Status-Approval.mlflow/#/experiments/1\n"
     ]
    }
   ],
   "execution_count": 14
  },
  {
   "metadata": {},
   "cell_type": "code",
   "outputs": [],
   "execution_count": null,
   "source": "",
   "id": "aa1c7264a502ae46"
  }
 ],
 "metadata": {
  "kernelspec": {
   "display_name": "Python 3",
   "language": "python",
   "name": "python3"
  },
  "language_info": {
   "codemirror_mode": {
    "name": "ipython",
    "version": 2
   },
   "file_extension": ".py",
   "mimetype": "text/x-python",
   "name": "python",
   "nbconvert_exporter": "python",
   "pygments_lexer": "ipython2",
   "version": "2.7.6"
  }
 },
 "nbformat": 4,
 "nbformat_minor": 5
}
