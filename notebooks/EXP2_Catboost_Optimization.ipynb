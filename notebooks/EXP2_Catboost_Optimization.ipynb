{
 "cells": [
  {
   "cell_type": "code",
   "id": "initial_id",
   "metadata": {
    "collapsed": true,
    "ExecuteTime": {
     "end_time": "2025-05-07T13:22:51.935961Z",
     "start_time": "2025-05-07T13:22:49.913607Z"
    }
   },
   "source": "import pandas as pd",
   "outputs": [],
   "execution_count": 1
  },
  {
   "metadata": {
    "ExecuteTime": {
     "end_time": "2025-05-07T13:22:52.144621Z",
     "start_time": "2025-05-07T13:22:52.034571Z"
    }
   },
   "cell_type": "code",
   "source": [
    "df = pd.read_csv('loan_data.csv')\n",
    "df.head()"
   ],
   "id": "f31af588bc907ca1",
   "outputs": [
    {
     "data": {
      "text/plain": [
       "   person_age person_gender person_education  person_income  person_emp_exp  \\\n",
       "0        22.0        female           Master        71948.0               0   \n",
       "1        21.0        female      High School        12282.0               0   \n",
       "2        25.0        female      High School        12438.0               3   \n",
       "3        23.0        female         Bachelor        79753.0               0   \n",
       "4        24.0          male           Master        66135.0               1   \n",
       "\n",
       "  person_home_ownership  loan_amnt loan_intent  loan_int_rate  \\\n",
       "0                  RENT    35000.0    PERSONAL          16.02   \n",
       "1                   OWN     1000.0   EDUCATION          11.14   \n",
       "2              MORTGAGE     5500.0     MEDICAL          12.87   \n",
       "3                  RENT    35000.0     MEDICAL          15.23   \n",
       "4                  RENT    35000.0     MEDICAL          14.27   \n",
       "\n",
       "   loan_percent_income  cb_person_cred_hist_length  credit_score  \\\n",
       "0                 0.49                         3.0           561   \n",
       "1                 0.08                         2.0           504   \n",
       "2                 0.44                         3.0           635   \n",
       "3                 0.44                         2.0           675   \n",
       "4                 0.53                         4.0           586   \n",
       "\n",
       "  previous_loan_defaults_on_file  loan_status  \n",
       "0                             No            1  \n",
       "1                            Yes            0  \n",
       "2                             No            1  \n",
       "3                             No            1  \n",
       "4                             No            1  "
      ],
      "text/html": [
       "<div>\n",
       "<style scoped>\n",
       "    .dataframe tbody tr th:only-of-type {\n",
       "        vertical-align: middle;\n",
       "    }\n",
       "\n",
       "    .dataframe tbody tr th {\n",
       "        vertical-align: top;\n",
       "    }\n",
       "\n",
       "    .dataframe thead th {\n",
       "        text-align: right;\n",
       "    }\n",
       "</style>\n",
       "<table border=\"1\" class=\"dataframe\">\n",
       "  <thead>\n",
       "    <tr style=\"text-align: right;\">\n",
       "      <th></th>\n",
       "      <th>person_age</th>\n",
       "      <th>person_gender</th>\n",
       "      <th>person_education</th>\n",
       "      <th>person_income</th>\n",
       "      <th>person_emp_exp</th>\n",
       "      <th>person_home_ownership</th>\n",
       "      <th>loan_amnt</th>\n",
       "      <th>loan_intent</th>\n",
       "      <th>loan_int_rate</th>\n",
       "      <th>loan_percent_income</th>\n",
       "      <th>cb_person_cred_hist_length</th>\n",
       "      <th>credit_score</th>\n",
       "      <th>previous_loan_defaults_on_file</th>\n",
       "      <th>loan_status</th>\n",
       "    </tr>\n",
       "  </thead>\n",
       "  <tbody>\n",
       "    <tr>\n",
       "      <th>0</th>\n",
       "      <td>22.0</td>\n",
       "      <td>female</td>\n",
       "      <td>Master</td>\n",
       "      <td>71948.0</td>\n",
       "      <td>0</td>\n",
       "      <td>RENT</td>\n",
       "      <td>35000.0</td>\n",
       "      <td>PERSONAL</td>\n",
       "      <td>16.02</td>\n",
       "      <td>0.49</td>\n",
       "      <td>3.0</td>\n",
       "      <td>561</td>\n",
       "      <td>No</td>\n",
       "      <td>1</td>\n",
       "    </tr>\n",
       "    <tr>\n",
       "      <th>1</th>\n",
       "      <td>21.0</td>\n",
       "      <td>female</td>\n",
       "      <td>High School</td>\n",
       "      <td>12282.0</td>\n",
       "      <td>0</td>\n",
       "      <td>OWN</td>\n",
       "      <td>1000.0</td>\n",
       "      <td>EDUCATION</td>\n",
       "      <td>11.14</td>\n",
       "      <td>0.08</td>\n",
       "      <td>2.0</td>\n",
       "      <td>504</td>\n",
       "      <td>Yes</td>\n",
       "      <td>0</td>\n",
       "    </tr>\n",
       "    <tr>\n",
       "      <th>2</th>\n",
       "      <td>25.0</td>\n",
       "      <td>female</td>\n",
       "      <td>High School</td>\n",
       "      <td>12438.0</td>\n",
       "      <td>3</td>\n",
       "      <td>MORTGAGE</td>\n",
       "      <td>5500.0</td>\n",
       "      <td>MEDICAL</td>\n",
       "      <td>12.87</td>\n",
       "      <td>0.44</td>\n",
       "      <td>3.0</td>\n",
       "      <td>635</td>\n",
       "      <td>No</td>\n",
       "      <td>1</td>\n",
       "    </tr>\n",
       "    <tr>\n",
       "      <th>3</th>\n",
       "      <td>23.0</td>\n",
       "      <td>female</td>\n",
       "      <td>Bachelor</td>\n",
       "      <td>79753.0</td>\n",
       "      <td>0</td>\n",
       "      <td>RENT</td>\n",
       "      <td>35000.0</td>\n",
       "      <td>MEDICAL</td>\n",
       "      <td>15.23</td>\n",
       "      <td>0.44</td>\n",
       "      <td>2.0</td>\n",
       "      <td>675</td>\n",
       "      <td>No</td>\n",
       "      <td>1</td>\n",
       "    </tr>\n",
       "    <tr>\n",
       "      <th>4</th>\n",
       "      <td>24.0</td>\n",
       "      <td>male</td>\n",
       "      <td>Master</td>\n",
       "      <td>66135.0</td>\n",
       "      <td>1</td>\n",
       "      <td>RENT</td>\n",
       "      <td>35000.0</td>\n",
       "      <td>MEDICAL</td>\n",
       "      <td>14.27</td>\n",
       "      <td>0.53</td>\n",
       "      <td>4.0</td>\n",
       "      <td>586</td>\n",
       "      <td>No</td>\n",
       "      <td>1</td>\n",
       "    </tr>\n",
       "  </tbody>\n",
       "</table>\n",
       "</div>"
      ]
     },
     "execution_count": 2,
     "metadata": {},
     "output_type": "execute_result"
    }
   ],
   "execution_count": 2
  },
  {
   "metadata": {},
   "cell_type": "code",
   "outputs": [],
   "execution_count": null,
   "source": "",
   "id": "119aa94cd247e2df"
  },
  {
   "metadata": {
    "ExecuteTime": {
     "end_time": "2025-05-03T09:00:37.917481Z",
     "start_time": "2025-05-03T09:00:37.905630Z"
    }
   },
   "cell_type": "code",
   "source": [
    "categorical_cols= ['person_gender', 'person_education', 'person_home_ownership', 'loan_intent', 'previous_loan_defaults_on_file']\n",
    "numerical_cols = ['person_age', 'person_income', 'person_emp_exp', 'loan_amnt', 'loan_int_rate', 'loan_percent_income', 'cb_person_cred_hist_length', 'credit_score']"
   ],
   "id": "f3718cc8fc9b9b43",
   "outputs": [],
   "execution_count": 3
  },
  {
   "metadata": {
    "ExecuteTime": {
     "end_time": "2025-05-03T09:00:48.292826Z",
     "start_time": "2025-05-03T09:00:48.281035Z"
    }
   },
   "cell_type": "code",
   "source": [
    "skewed_cols = ['person_age', 'person_income', 'person_emp_exp',\n",
    "               'loan_amnt', 'loan_percent_income',\n",
    "               'cb_person_cred_hist_length', 'credit_score']\n",
    "\n",
    "norm_cols= ['loan_int_rate']"
   ],
   "id": "71f7c0690b8a36d3",
   "outputs": [],
   "execution_count": 4
  },
  {
   "metadata": {
    "ExecuteTime": {
     "end_time": "2025-05-03T09:00:56.976032Z",
     "start_time": "2025-05-03T09:00:56.837701Z"
    }
   },
   "cell_type": "code",
   "source": [
    "from sklearn.preprocessing import StandardScaler\n",
    "from sklearn.preprocessing import PowerTransformer"
   ],
   "id": "5dbb8cdb212ce652",
   "outputs": [],
   "execution_count": 5
  },
  {
   "metadata": {
    "ExecuteTime": {
     "end_time": "2025-05-03T09:01:03.196649Z",
     "start_time": "2025-05-03T09:01:03.182961Z"
    }
   },
   "cell_type": "code",
   "source": [
    "def apply_yeo_johnson_on_left_skewed(df: pd.DataFrame, skewed_cols: list):\n",
    "    pt = PowerTransformer(method='yeo-johnson')\n",
    "    df_transformed = df.copy()\n",
    "\n",
    "    for col in skewed_cols:  # Consider it left-skewed\n",
    "        reshaped = df[[col]].dropna()  # Drop NaNs temporarily\n",
    "        transformed = pt.fit_transform(reshaped)\n",
    "        df_transformed.loc[reshaped.index, col] = transformed\n",
    "\n",
    "    return df_transformed"
   ],
   "id": "48a2b83a87e7bfa0",
   "outputs": [],
   "execution_count": 6
  },
  {
   "metadata": {
    "ExecuteTime": {
     "end_time": "2025-05-03T09:01:11.499507Z",
     "start_time": "2025-05-03T09:01:11.299286Z"
    }
   },
   "cell_type": "code",
   "source": "df_transformed = apply_yeo_johnson_on_left_skewed(df, skewed_cols)",
   "id": "8673da761cc6686d",
   "outputs": [
    {
     "name": "stderr",
     "output_type": "stream",
     "text": [
      "C:\\Users\\Akshay\\AppData\\Local\\Temp\\ipykernel_10980\\2535163183.py:8: FutureWarning: Setting an item of incompatible dtype is deprecated and will raise an error in a future version of pandas. Value '[-1.45090001 -1.45090001 -0.08360331 ...  0.65070681  0.14896785\n",
      " -0.78360458]' has dtype incompatible with int64, please explicitly cast to a compatible dtype first.\n",
      "  df_transformed.loc[reshaped.index, col] = transformed\n",
      "C:\\Users\\Akshay\\AppData\\Local\\Temp\\ipykernel_10980\\2535163183.py:8: FutureWarning: Setting an item of incompatible dtype is deprecated and will raise an error in a future version of pandas. Value '[-1.37672516 -2.11601292 -0.06033249 ...  0.67879598 -0.66584082\n",
      " -0.20431105]' has dtype incompatible with int64, please explicitly cast to a compatible dtype first.\n",
      "  df_transformed.loc[reshaped.index, col] = transformed\n"
     ]
    }
   ],
   "execution_count": 7
  },
  {
   "metadata": {
    "ExecuteTime": {
     "end_time": "2025-05-03T09:01:23.332342Z",
     "start_time": "2025-05-03T09:01:23.319330Z"
    }
   },
   "cell_type": "code",
   "source": [
    "def create_dummies(df: pd.DataFrame, drop_first: bool = True):\n",
    "    df_encoded = pd.get_dummies(df, columns=categorical_cols, drop_first=drop_first, dtype=int)\n",
    "    return df_encoded"
   ],
   "id": "7fef79779edddd12",
   "outputs": [],
   "execution_count": 8
  },
  {
   "metadata": {
    "ExecuteTime": {
     "end_time": "2025-05-03T09:01:31.646650Z",
     "start_time": "2025-05-03T09:01:31.603300Z"
    }
   },
   "cell_type": "code",
   "source": "df_final = create_dummies(df_transformed)",
   "id": "dd446b0dbc990fc7",
   "outputs": [],
   "execution_count": 9
  },
  {
   "metadata": {
    "ExecuteTime": {
     "end_time": "2025-05-07T13:23:37.989695Z",
     "start_time": "2025-05-07T13:23:37.962358Z"
    }
   },
   "cell_type": "code",
   "source": [
    "X = df.drop('loan_status', axis=1)\n",
    "y = df['loan_status']"
   ],
   "id": "75e0ec689d3694af",
   "outputs": [],
   "execution_count": 3
  },
  {
   "metadata": {
    "ExecuteTime": {
     "end_time": "2025-05-07T13:27:55.735372Z",
     "start_time": "2025-05-07T13:27:55.634696Z"
    }
   },
   "cell_type": "code",
   "source": [
    "from src.data.data_transformation import PreprocessingPipeline\n",
    "import joblib\n",
    "\n",
    "pipeline_path = \"../models/preprocessor/preprocessing_pipeline.pkl\"\n",
    "preprocessing_pipeline = joblib.load(pipeline_path)\n",
    "\n",
    "X_transformed = preprocessing_pipeline.transform(X)"
   ],
   "id": "faf0759afb7b7644",
   "outputs": [],
   "execution_count": 5
  },
  {
   "metadata": {
    "ExecuteTime": {
     "end_time": "2025-05-07T13:37:09.716575Z",
     "start_time": "2025-05-07T13:37:09.481932Z"
    }
   },
   "cell_type": "code",
   "source": [
    "from sklearn.model_selection import train_test_split\n",
    "from imblearn.over_sampling import SMOTE\n",
    "\n",
    "# Step 1: Split your data into train+validation and test sets (80/20)\n",
    "X_temp, X_test, y_temp, y_test = train_test_split(X_transformed, y, test_size=0.2, random_state=42, stratify=y)\n",
    "\n",
    "# Step 2: Further split the temp set to get 70/10 split from the original data\n",
    "# This means we need to split the 80% temp data into 87.5% train and 12.5% validation\n",
    "# (because 87.5% of 80% = 70%, and 12.5% of 80% = 10%)\n",
    "X_train, X_val, y_train, y_val = train_test_split(X_temp, y_temp, test_size=0.125, random_state=42, stratify=y_temp)\n",
    "\n",
    "# Step 3: Apply SMOTE on the training set only\n",
    "smote = SMOTE(random_state=42)\n",
    "X_train_resampled, y_train_resampled = smote.fit_resample(X_train, y_train)"
   ],
   "id": "d0b2ca957bcf7b89",
   "outputs": [],
   "execution_count": 8
  },
  {
   "metadata": {
    "ExecuteTime": {
     "end_time": "2025-05-07T13:28:38.249102Z",
     "start_time": "2025-05-07T13:28:31.511576Z"
    }
   },
   "cell_type": "code",
   "source": [
    "import os\n",
    "import dagshub\n",
    "import mlflow\n",
    "from mlflow.exceptions import MlflowException\n",
    "\n",
    "# Configuration - Replace with your actual details\n",
    "DAGSHUB_USERNAME = \"Akshat-Sharma-110011\"\n",
    "DAGSHUB_TOKEN = \"268f8944c99d48868fa3235eb38ea909e929c70c\"  # Keep this secret!\n",
    "REPO_NAME = \"Loan-Status-Approval\"\n",
    "\n",
    "# 1. Set environment variables\n",
    "os.environ[\"MLFLOW_TRACKING_USERNAME\"] = DAGSHUB_USERNAME\n",
    "os.environ[\"MLFLOW_TRACKING_PASSWORD\"] = DAGSHUB_TOKEN\n",
    "\n",
    "# 2. Initialize DagsHub - do this first\n",
    "dagshub.init(\n",
    "    repo_owner=DAGSHUB_USERNAME,\n",
    "    repo_name=REPO_NAME,\n",
    "    mlflow=True\n",
    ")\n",
    "\n",
    "# 3. Set the tracking URI with the correct format\n",
    "mlflow.set_tracking_uri(f\"https://dagshub.com/{DAGSHUB_USERNAME}/{REPO_NAME}.mlflow\")\n",
    "\n",
    "# 4. Handle experiment creation more robustly\n",
    "EXPERIMENT_NAME = \"CatBoost Optimizer\"\n",
    "\n",
    "try:\n",
    "    # Check if experiment exists\n",
    "    if not mlflow.get_experiment_by_name(EXPERIMENT_NAME):\n",
    "        print(f\"Experiment '{EXPERIMENT_NAME}' does not exist. Creating...\")\n",
    "        mlflow.create_experiment(EXPERIMENT_NAME)\n",
    "    mlflow.set_experiment(EXPERIMENT_NAME)\n",
    "    print(f\"Successfully set experiment: {EXPERIMENT_NAME}\")\n",
    "\n",
    "except MlflowException as e:\n",
    "    print(f\"MLflow Error: {e}\")\n",
    "except Exception as e:\n",
    "    print(f\"Unexpected Error: {e}\")"
   ],
   "id": "f63119c67aee8860",
   "outputs": [
    {
     "data": {
      "text/plain": [
       "Accessing as Akshat-Sharma-\u001B[1;36m110011\u001B[0m\n"
      ],
      "text/html": [
       "<pre style=\"white-space:pre;overflow-x:auto;line-height:normal;font-family:Menlo,'DejaVu Sans Mono',consolas,'Courier New',monospace\">Accessing as Akshat-Sharma-<span style=\"color: #008080; text-decoration-color: #008080; font-weight: bold\">110011</span>\n",
       "</pre>\n"
      ]
     },
     "metadata": {},
     "output_type": "display_data"
    },
    {
     "name": "stdout",
     "output_type": "stream",
     "text": [
      "[✓] 2025-05-07 18:58:36 | dagshub         | INFO  | Accessing as Akshat-Sharma-110011\n",
      "[✓] 2025-05-07 18:58:36 | dagshub         | INFO  | Accessing as Akshat-Sharma-110011\n"
     ]
    },
    {
     "data": {
      "text/plain": [
       "Initialized MLflow to track repo \u001B[32m\"Akshat-Sharma-110011/Loan-Status-Approval\"\u001B[0m\n"
      ],
      "text/html": [
       "<pre style=\"white-space:pre;overflow-x:auto;line-height:normal;font-family:Menlo,'DejaVu Sans Mono',consolas,'Courier New',monospace\">Initialized MLflow to track repo <span style=\"color: #008000; text-decoration-color: #008000\">\"Akshat-Sharma-110011/Loan-Status-Approval\"</span>\n",
       "</pre>\n"
      ]
     },
     "metadata": {},
     "output_type": "display_data"
    },
    {
     "name": "stdout",
     "output_type": "stream",
     "text": [
      "[✓] 2025-05-07 18:58:37 | dagshub         | INFO  | Initialized MLflow to track repo \"Akshat-Sharma-110011/Loan-Status-Approval\"\n",
      "[✓] 2025-05-07 18:58:37 | dagshub         | INFO  | Initialized MLflow to track repo \"Akshat-Sharma-110011/Loan-Status-Approval\"\n"
     ]
    },
    {
     "data": {
      "text/plain": [
       "Repository Akshat-Sharma-\u001B[1;36m110011\u001B[0m/Loan-Status-Approval initialized!\n"
      ],
      "text/html": [
       "<pre style=\"white-space:pre;overflow-x:auto;line-height:normal;font-family:Menlo,'DejaVu Sans Mono',consolas,'Courier New',monospace\">Repository Akshat-Sharma-<span style=\"color: #008080; text-decoration-color: #008080; font-weight: bold\">110011</span>/Loan-Status-Approval initialized!\n",
       "</pre>\n"
      ]
     },
     "metadata": {},
     "output_type": "display_data"
    },
    {
     "name": "stdout",
     "output_type": "stream",
     "text": [
      "[✓] 2025-05-07 18:58:37 | dagshub         | INFO  | Repository Akshat-Sharma-110011/Loan-Status-Approval initialized!\n",
      "[✓] 2025-05-07 18:58:37 | dagshub         | INFO  | Repository Akshat-Sharma-110011/Loan-Status-Approval initialized!\n",
      "Successfully set experiment: CatBoost Optimizer\n"
     ]
    }
   ],
   "execution_count": 7
  },
  {
   "metadata": {
    "ExecuteTime": {
     "end_time": "2025-05-07T14:02:47.737821Z",
     "start_time": "2025-05-07T13:37:23.580923Z"
    }
   },
   "cell_type": "code",
   "source": [
    "import logging\n",
    "import time\n",
    "import mlflow\n",
    "import optuna\n",
    "import numpy as np\n",
    "from catboost import CatBoostClassifier\n",
    "from sklearn.metrics import accuracy_score, precision_score, recall_score, f1_score, classification_report, confusion_matrix\n",
    "\n",
    "# Configure logging\n",
    "logging.basicConfig(level=logging.INFO, format=\"%(asctime)s - %(levelname)s - %(message)s\")\n",
    "\n",
    "# Define Optuna objective function\n",
    "def objective(trial):\n",
    "    # Start a new child run for each Optuna trial\n",
    "    with mlflow.start_run(nested=True):\n",
    "        # Suggest hyperparameters - EXPANDED SET\n",
    "        params = {\n",
    "            # Core parameters\n",
    "            \"iterations\": trial.suggest_int(\"iterations\", 100, 1500, step=100),\n",
    "            \"learning_rate\": trial.suggest_float(\"learning_rate\", 0.001, 0.3, log=True),\n",
    "            \"depth\": trial.suggest_int(\"depth\", 3, 10),\n",
    "\n",
    "            # Regularization parameters\n",
    "            \"l2_leaf_reg\": trial.suggest_float(\"l2_leaf_reg\", 1.0, 10.0),\n",
    "            \"random_strength\": trial.suggest_float(\"random_strength\", 0.1, 10.0, log=True),\n",
    "\n",
    "            # Overfitting prevention\n",
    "            \"early_stopping_rounds\": trial.suggest_int(\"early_stopping_rounds\", 50, 200),\n",
    "            \"bagging_temperature\": trial.suggest_float(\"bagging_temperature\", 0.0, 10.0),\n",
    "\n",
    "            # Boosting parameters\n",
    "            \"boosting_type\": trial.suggest_categorical(\"boosting_type\", [\"Ordered\", \"Plain\"]),\n",
    "            \"bootstrap_type\": trial.suggest_categorical(\"bootstrap_type\", [\"Bayesian\", \"Bernoulli\", \"MVS\"]),\n",
    "\n",
    "            # Tree construction\n",
    "            \"grow_policy\": trial.suggest_categorical(\"grow_policy\", [\"SymmetricTree\", \"Depthwise\", \"Lossguide\"]),\n",
    "            \"leaf_estimation_method\": trial.suggest_categorical(\"leaf_estimation_method\", [\"Newton\", \"Gradient\"]),\n",
    "\n",
    "            # Fixed parameters\n",
    "            \"random_state\": 42,\n",
    "            \"verbose\": 0,\n",
    "            \"task_type\": \"CPU\"  # Change to \"GPU\" if available\n",
    "        }\n",
    "\n",
    "        # Conditional parameters\n",
    "        if params[\"bootstrap_type\"] == \"Bayesian\":\n",
    "            params[\"bagging_temperature\"] = trial.suggest_float(\"bagging_temperature\", 0.0, 10.0)\n",
    "        elif params[\"bootstrap_type\"] == \"Bernoulli\":\n",
    "            params[\"subsample\"] = trial.suggest_float(\"subsample\", 0.1, 1.0)\n",
    "\n",
    "        if params[\"grow_policy\"] in [\"Lossguide\", \"Depthwise\"]:\n",
    "            params[\"min_data_in_leaf\"] = trial.suggest_int(\"min_data_in_leaf\", 1, 100)\n",
    "\n",
    "        # Log trial parameters\n",
    "        mlflow.log_params(params)\n",
    "\n",
    "        # Train model\n",
    "        model = CatBoostClassifier(**params)\n",
    "        try:\n",
    "            model.fit(X_train_resampled, y_train_resampled,\n",
    "                      eval_set=[(X_val, y_val)],\n",
    "                      use_best_model=True,\n",
    "                      early_stopping_rounds=params[\"early_stopping_rounds\"],\n",
    "                      verbose=0)\n",
    "\n",
    "            # Predict and evaluate\n",
    "            y_pred = model.predict(X_test)\n",
    "            accuracy = accuracy_score(y_test, y_pred)\n",
    "            precision = precision_score(y_test, y_pred, average='weighted')\n",
    "            recall = recall_score(y_test, y_pred, average='weighted')\n",
    "            f1 = f1_score(y_test, y_pred, average='weighted')\n",
    "\n",
    "            # Log metrics\n",
    "            mlflow.log_metrics({\n",
    "                \"accuracy\": accuracy,\n",
    "                \"precision\": precision,\n",
    "                \"recall\": recall,\n",
    "                \"f1_score\": f1\n",
    "            })\n",
    "\n",
    "            # Log progress for current trial\n",
    "            logging.info(f\"Trial {trial.number} finished with f1: {f1:.4f} - params: {trial.params}\")\n",
    "\n",
    "            return f1\n",
    "\n",
    "        except Exception as e:\n",
    "            logging.error(f\"Trial {trial.number} failed: {str(e)}\")\n",
    "            return float('-inf')\n",
    "\n",
    "# Start parent run\n",
    "logging.info(\"Starting MLflow parent run and Optuna study...\")\n",
    "with mlflow.start_run(run_name=\"CatBoost_Optuna_HPO\") as parent_run:\n",
    "    start_time = time.time()\n",
    "\n",
    "    # Log general experiment settings\n",
    "    mlflow.log_param(\"random_state\", 42)\n",
    "    mlflow.log_param(\"test_size\", 0.2)\n",
    "    mlflow.set_tag(\"mlflow.runType\", \"parent\")\n",
    "\n",
    "    # Run Optuna Study\n",
    "    study = optuna.create_study(direction=\"maximize\", study_name=\"CatBoost Optimization\")\n",
    "    study.optimize(objective, n_trials=100)\n",
    "\n",
    "    # Get and display best trial info\n",
    "    best_trial = study.best_trial\n",
    "    best_params = best_trial.params\n",
    "\n",
    "    # Print best parameters and value in a formatted way\n",
    "    logging.info(\"=\" * 50)\n",
    "    logging.info(\"Best Trial Information:\")\n",
    "    logging.info(f\"Best Trial Number: {best_trial.number}\")\n",
    "    logging.info(f\"Best F1 Score: {best_trial.value:.4f}\")\n",
    "    logging.info(\"Best Parameters:\")\n",
    "    for param, value in best_params.items():\n",
    "        logging.info(f\"  {param}: {value}\")\n",
    "    logging.info(\"=\" * 50)\n",
    "\n",
    "    # Log best parameters to MLflow\n",
    "    mlflow.log_params({f\"best_{k}\": v for k, v in best_params.items()})\n",
    "    mlflow.log_metric(\"best_f1_score\", study.best_value)\n",
    "\n",
    "    # Visualize optimization history\n",
    "    try:\n",
    "        fig = optuna.visualization.plot_optimization_history(study)\n",
    "        fig.write_html(\"optimization_history.html\")\n",
    "        mlflow.log_artifact(\"optimization_history.html\")\n",
    "\n",
    "        fig = optuna.visualization.plot_param_importances(study)\n",
    "        fig.write_html(\"param_importances.html\")\n",
    "        mlflow.log_artifact(\"param_importances.html\")\n",
    "\n",
    "        logging.info(\"Saved optimization visualizations to artifacts\")\n",
    "    except Exception as e:\n",
    "        logging.warning(f\"Could not generate visualizations: {str(e)}\")\n",
    "\n",
    "    # Train final model on best parameters\n",
    "    logging.info(\"Training final model with best parameters...\")\n",
    "    final_model = CatBoostClassifier(**best_params, random_state=42, verbose=0)\n",
    "    final_model.fit(X_train_resampled, y_train_resampled)\n",
    "\n",
    "    y_final_pred = final_model.predict(X_test)\n",
    "    final_accuracy = accuracy_score(y_test, y_final_pred)\n",
    "    final_precision = precision_score(y_test, y_final_pred, average='weighted')\n",
    "    final_recall = recall_score(y_test, y_final_pred, average='weighted')\n",
    "    final_f1 = f1_score(y_test, y_final_pred, average='weighted')\n",
    "\n",
    "    # Log final metrics\n",
    "    final_metrics = {\n",
    "        \"final_accuracy\": final_accuracy,\n",
    "        \"final_precision\": final_precision,\n",
    "        \"final_recall\": final_recall,\n",
    "        \"final_f1_score\": final_f1\n",
    "    }\n",
    "\n",
    "    mlflow.log_metrics(final_metrics)\n",
    "\n",
    "    # Print final model performance summary\n",
    "    logging.info(\"=\" * 50)\n",
    "    logging.info(\"Final Model Performance:\")\n",
    "    for metric_name, metric_value in final_metrics.items():\n",
    "        logging.info(f\"  {metric_name}: {metric_value:.4f}\")\n",
    "\n",
    "    # Print classification report\n",
    "    logging.info(\"\\nClassification Report:\")\n",
    "    report = classification_report(y_test, y_final_pred)\n",
    "    logging.info(f\"\\n{report}\")\n",
    "\n",
    "    # Print confusion matrix\n",
    "    logging.info(\"\\nConfusion Matrix:\")\n",
    "    cm = confusion_matrix(y_test, y_final_pred)\n",
    "    logging.info(f\"\\n{cm}\")\n",
    "    logging.info(\"=\" * 50)\n",
    "\n",
    "    # Log final model\n",
    "    mlflow.sklearn.log_model(final_model, \"final_model\")\n",
    "\n",
    "    # Log feature importance\n",
    "    feature_importances = final_model.get_feature_importance()\n",
    "    feature_names = X_train_resampled.columns if hasattr(X_train_resampled, 'columns') else [f\"feature_{i}\" for i in range(X_train_resampled.shape[1])]\n",
    "    importance_df = {\n",
    "        \"feature\": feature_names,\n",
    "        \"importance\": feature_importances\n",
    "    }\n",
    "    mlflow.log_dict(importance_df, \"feature_importances.json\")\n",
    "\n",
    "    # Log top 10 most important features\n",
    "    sorted_idx = np.argsort(feature_importances)[::-1]\n",
    "    top_features = [(feature_names[i], feature_importances[i]) for i in sorted_idx[:10]]\n",
    "    logging.info(\"\\nTop 10 Important Features:\")\n",
    "    for feature, importance in top_features:\n",
    "        logging.info(f\"  {feature}: {importance:.4f}\")\n",
    "\n",
    "    end_time = time.time()\n",
    "    total_time = end_time - start_time\n",
    "    logging.info(f\"\\nTotal tuning + final training time: {total_time:.2f} seconds ({total_time/60:.2f} minutes)\")\n",
    "    mlflow.log_metric(\"total_training_time_seconds\", total_time)\n",
    "\n",
    "    # Return best model and parameters for potential further use\n",
    "    logging.info(\"\\nOptimization complete! Best model saved to MLflow.\")"
   ],
   "id": "475c37f80722ec9b",
   "outputs": [
    {
     "name": "stderr",
     "output_type": "stream",
     "text": [
      "C:\\Users\\Akshay\\anaconda3\\envs\\Loan-Status-Approval\\lib\\site-packages\\tqdm\\auto.py:21: TqdmWarning: IProgress not found. Please update jupyter and ipywidgets. See https://ipywidgets.readthedocs.io/en/stable/user_install.html\n",
      "  from .autonotebook import tqdm as notebook_tqdm\n"
     ]
    },
    {
     "name": "stdout",
     "output_type": "stream",
     "text": [
      "[✓] 2025-05-07 19:07:23 | root            | INFO  | Starting MLflow parent run and Optuna study...\n",
      "[✓] 2025-05-07 19:07:23 | root            | INFO  | Starting MLflow parent run and Optuna study...\n"
     ]
    },
    {
     "name": "stderr",
     "output_type": "stream",
     "text": [
      "[I 2025-05-07 19:07:26,273] A new study created in memory with name: CatBoost Optimization\n"
     ]
    },
    {
     "name": "stdout",
     "output_type": "stream",
     "text": [
      "[✗] 2025-05-07 19:07:28 | root            | ERROR | Trial 0 failed: catboost/private/libs/options/catboost_options.cpp:758: Ordered boosting is not supported for nonsymmetric trees.\n",
      "[✗] 2025-05-07 19:07:28 | root            | ERROR | Trial 0 failed: catboost/private/libs/options/catboost_options.cpp:758: Ordered boosting is not supported for nonsymmetric trees.\n"
     ]
    },
    {
     "name": "stderr",
     "output_type": "stream",
     "text": [
      "2025/05/07 19:07:29 INFO mlflow.tracking._tracking_service.client: 🏃 View run marvelous-mule-907 at: https://dagshub.com/Akshat-Sharma-110011/Loan-Status-Approval.mlflow/#/experiments/1/runs/bffbe0716a494dc0ae60079c4544d5a6.\n",
      "2025/05/07 19:07:29 INFO mlflow.tracking._tracking_service.client: 🧪 View experiment at: https://dagshub.com/Akshat-Sharma-110011/Loan-Status-Approval.mlflow/#/experiments/1.\n",
      "[I 2025-05-07 19:07:30,176] Trial 0 finished with value: -inf and parameters: {'iterations': 900, 'learning_rate': 0.05790013180021423, 'depth': 9, 'l2_leaf_reg': 9.846970397143009, 'random_strength': 1.6617595305342436, 'early_stopping_rounds': 181, 'bagging_temperature': 9.925843098794715, 'boosting_type': 'Ordered', 'bootstrap_type': 'MVS', 'grow_policy': 'Depthwise', 'leaf_estimation_method': 'Newton', 'min_data_in_leaf': 23}. Best is trial 0 with value: -inf.\n"
     ]
    },
    {
     "name": "stdout",
     "output_type": "stream",
     "text": [
      "[✗] 2025-05-07 19:07:32 | root            | ERROR | Trial 1 failed: catboost/private/libs/options/catboost_options.cpp:758: Ordered boosting is not supported for nonsymmetric trees.\n",
      "[✗] 2025-05-07 19:07:32 | root            | ERROR | Trial 1 failed: catboost/private/libs/options/catboost_options.cpp:758: Ordered boosting is not supported for nonsymmetric trees.\n"
     ]
    },
    {
     "name": "stderr",
     "output_type": "stream",
     "text": [
      "2025/05/07 19:07:33 INFO mlflow.tracking._tracking_service.client: 🏃 View run languid-vole-373 at: https://dagshub.com/Akshat-Sharma-110011/Loan-Status-Approval.mlflow/#/experiments/1/runs/b7f74e5c1d794429b5a904d4980b5aa7.\n",
      "2025/05/07 19:07:33 INFO mlflow.tracking._tracking_service.client: 🧪 View experiment at: https://dagshub.com/Akshat-Sharma-110011/Loan-Status-Approval.mlflow/#/experiments/1.\n",
      "[I 2025-05-07 19:07:34,130] Trial 1 finished with value: -inf and parameters: {'iterations': 700, 'learning_rate': 0.21213134059499936, 'depth': 8, 'l2_leaf_reg': 2.217175340795566, 'random_strength': 0.14856908536445265, 'early_stopping_rounds': 110, 'bagging_temperature': 0.9174837567931338, 'boosting_type': 'Ordered', 'bootstrap_type': 'Bayesian', 'grow_policy': 'Lossguide', 'leaf_estimation_method': 'Gradient', 'min_data_in_leaf': 25}. Best is trial 0 with value: -inf.\n"
     ]
    },
    {
     "name": "stdout",
     "output_type": "stream",
     "text": [
      "[✓] 2025-05-07 19:07:38 | root            | INFO  | Trial 2 finished with f1: 0.9236 - params: {'iterations': 100, 'learning_rate': 0.2932771800608919, 'depth': 9, 'l2_leaf_reg': 9.194159807306274, 'random_strength': 1.0144125086819396, 'early_stopping_rounds': 106, 'bagging_temperature': 9.558965849899224, 'boosting_type': 'Plain', 'bootstrap_type': 'MVS', 'grow_policy': 'Depthwise', 'leaf_estimation_method': 'Newton', 'min_data_in_leaf': 92}\n",
      "[✓] 2025-05-07 19:07:38 | root            | INFO  | Trial 2 finished with f1: 0.9236 - params: {'iterations': 100, 'learning_rate': 0.2932771800608919, 'depth': 9, 'l2_leaf_reg': 9.194159807306274, 'random_strength': 1.0144125086819396, 'early_stopping_rounds': 106, 'bagging_temperature': 9.558965849899224, 'boosting_type': 'Plain', 'bootstrap_type': 'MVS', 'grow_policy': 'Depthwise', 'leaf_estimation_method': 'Newton', 'min_data_in_leaf': 92}\n"
     ]
    },
    {
     "name": "stderr",
     "output_type": "stream",
     "text": [
      "2025/05/07 19:07:38 INFO mlflow.tracking._tracking_service.client: 🏃 View run sneaky-hound-151 at: https://dagshub.com/Akshat-Sharma-110011/Loan-Status-Approval.mlflow/#/experiments/1/runs/2999f483a26d4467831906bbe4dda827.\n",
      "2025/05/07 19:07:38 INFO mlflow.tracking._tracking_service.client: 🧪 View experiment at: https://dagshub.com/Akshat-Sharma-110011/Loan-Status-Approval.mlflow/#/experiments/1.\n",
      "[I 2025-05-07 19:07:39,248] Trial 2 finished with value: 0.923563750066861 and parameters: {'iterations': 100, 'learning_rate': 0.2932771800608919, 'depth': 9, 'l2_leaf_reg': 9.194159807306274, 'random_strength': 1.0144125086819396, 'early_stopping_rounds': 106, 'bagging_temperature': 9.558965849899224, 'boosting_type': 'Plain', 'bootstrap_type': 'MVS', 'grow_policy': 'Depthwise', 'leaf_estimation_method': 'Newton', 'min_data_in_leaf': 92}. Best is trial 2 with value: 0.923563750066861.\n"
     ]
    },
    {
     "name": "stdout",
     "output_type": "stream",
     "text": [
      "[✗] 2025-05-07 19:07:40 | root            | ERROR | Trial 3 failed: catboost/private/libs/options/catboost_options.cpp:758: Ordered boosting is not supported for nonsymmetric trees.\n",
      "[✗] 2025-05-07 19:07:40 | root            | ERROR | Trial 3 failed: catboost/private/libs/options/catboost_options.cpp:758: Ordered boosting is not supported for nonsymmetric trees.\n"
     ]
    },
    {
     "name": "stderr",
     "output_type": "stream",
     "text": [
      "2025/05/07 19:07:40 INFO mlflow.tracking._tracking_service.client: 🏃 View run intrigued-rook-899 at: https://dagshub.com/Akshat-Sharma-110011/Loan-Status-Approval.mlflow/#/experiments/1/runs/630fb284245548b68b91991e1b2554c9.\n",
      "2025/05/07 19:07:40 INFO mlflow.tracking._tracking_service.client: 🧪 View experiment at: https://dagshub.com/Akshat-Sharma-110011/Loan-Status-Approval.mlflow/#/experiments/1.\n",
      "[I 2025-05-07 19:07:41,143] Trial 3 finished with value: -inf and parameters: {'iterations': 300, 'learning_rate': 0.018116042277875364, 'depth': 5, 'l2_leaf_reg': 6.596258149005362, 'random_strength': 1.0591547726963721, 'early_stopping_rounds': 93, 'bagging_temperature': 8.87840751950513, 'boosting_type': 'Ordered', 'bootstrap_type': 'MVS', 'grow_policy': 'Depthwise', 'leaf_estimation_method': 'Newton', 'min_data_in_leaf': 97}. Best is trial 2 with value: 0.923563750066861.\n"
     ]
    },
    {
     "name": "stdout",
     "output_type": "stream",
     "text": [
      "[✓] 2025-05-07 19:07:58 | root            | INFO  | Trial 4 finished with f1: 0.8828 - params: {'iterations': 1400, 'learning_rate': 0.0030218915949627727, 'depth': 7, 'l2_leaf_reg': 1.8920030471452365, 'random_strength': 4.2473642549971595, 'early_stopping_rounds': 98, 'bagging_temperature': 3.40403168065198, 'boosting_type': 'Plain', 'bootstrap_type': 'Bayesian', 'grow_policy': 'SymmetricTree', 'leaf_estimation_method': 'Newton'}\n",
      "[✓] 2025-05-07 19:07:58 | root            | INFO  | Trial 4 finished with f1: 0.8828 - params: {'iterations': 1400, 'learning_rate': 0.0030218915949627727, 'depth': 7, 'l2_leaf_reg': 1.8920030471452365, 'random_strength': 4.2473642549971595, 'early_stopping_rounds': 98, 'bagging_temperature': 3.40403168065198, 'boosting_type': 'Plain', 'bootstrap_type': 'Bayesian', 'grow_policy': 'SymmetricTree', 'leaf_estimation_method': 'Newton'}\n"
     ]
    },
    {
     "name": "stderr",
     "output_type": "stream",
     "text": [
      "2025/05/07 19:07:59 INFO mlflow.tracking._tracking_service.client: 🏃 View run spiffy-auk-846 at: https://dagshub.com/Akshat-Sharma-110011/Loan-Status-Approval.mlflow/#/experiments/1/runs/807bc4dac8444f848ed5c2d32edd0b95.\n",
      "2025/05/07 19:07:59 INFO mlflow.tracking._tracking_service.client: 🧪 View experiment at: https://dagshub.com/Akshat-Sharma-110011/Loan-Status-Approval.mlflow/#/experiments/1.\n",
      "[I 2025-05-07 19:07:59,553] Trial 4 finished with value: 0.8827619668209682 and parameters: {'iterations': 1400, 'learning_rate': 0.0030218915949627727, 'depth': 7, 'l2_leaf_reg': 1.8920030471452365, 'random_strength': 4.2473642549971595, 'early_stopping_rounds': 98, 'bagging_temperature': 3.40403168065198, 'boosting_type': 'Plain', 'bootstrap_type': 'Bayesian', 'grow_policy': 'SymmetricTree', 'leaf_estimation_method': 'Newton'}. Best is trial 2 with value: 0.923563750066861.\n"
     ]
    },
    {
     "name": "stdout",
     "output_type": "stream",
     "text": [
      "[✓] 2025-05-07 19:08:10 | root            | INFO  | Trial 5 finished with f1: 0.9274 - params: {'iterations': 500, 'learning_rate': 0.03651195281568116, 'depth': 8, 'l2_leaf_reg': 4.176414103679242, 'random_strength': 0.1965712226655737, 'early_stopping_rounds': 126, 'bagging_temperature': 0.7829633037512651, 'boosting_type': 'Plain', 'bootstrap_type': 'Bayesian', 'grow_policy': 'Lossguide', 'leaf_estimation_method': 'Newton', 'min_data_in_leaf': 70}\n",
      "[✓] 2025-05-07 19:08:10 | root            | INFO  | Trial 5 finished with f1: 0.9274 - params: {'iterations': 500, 'learning_rate': 0.03651195281568116, 'depth': 8, 'l2_leaf_reg': 4.176414103679242, 'random_strength': 0.1965712226655737, 'early_stopping_rounds': 126, 'bagging_temperature': 0.7829633037512651, 'boosting_type': 'Plain', 'bootstrap_type': 'Bayesian', 'grow_policy': 'Lossguide', 'leaf_estimation_method': 'Newton', 'min_data_in_leaf': 70}\n"
     ]
    },
    {
     "name": "stderr",
     "output_type": "stream",
     "text": [
      "2025/05/07 19:08:10 INFO mlflow.tracking._tracking_service.client: 🏃 View run redolent-mole-527 at: https://dagshub.com/Akshat-Sharma-110011/Loan-Status-Approval.mlflow/#/experiments/1/runs/8a60b448e00540f0886418e3bfbf64e6.\n",
      "2025/05/07 19:08:10 INFO mlflow.tracking._tracking_service.client: 🧪 View experiment at: https://dagshub.com/Akshat-Sharma-110011/Loan-Status-Approval.mlflow/#/experiments/1.\n",
      "[I 2025-05-07 19:08:11,040] Trial 5 finished with value: 0.9273510804170393 and parameters: {'iterations': 500, 'learning_rate': 0.03651195281568116, 'depth': 8, 'l2_leaf_reg': 4.176414103679242, 'random_strength': 0.1965712226655737, 'early_stopping_rounds': 126, 'bagging_temperature': 0.7829633037512651, 'boosting_type': 'Plain', 'bootstrap_type': 'Bayesian', 'grow_policy': 'Lossguide', 'leaf_estimation_method': 'Newton', 'min_data_in_leaf': 70}. Best is trial 5 with value: 0.9273510804170393.\n"
     ]
    },
    {
     "name": "stdout",
     "output_type": "stream",
     "text": [
      "[✗] 2025-05-07 19:08:15 | root            | ERROR | Trial 6 failed: catboost/private/libs/options/catboost_options.cpp:758: Ordered boosting is not supported for nonsymmetric trees.\n",
      "[✗] 2025-05-07 19:08:15 | root            | ERROR | Trial 6 failed: catboost/private/libs/options/catboost_options.cpp:758: Ordered boosting is not supported for nonsymmetric trees.\n"
     ]
    },
    {
     "name": "stderr",
     "output_type": "stream",
     "text": [
      "2025/05/07 19:08:15 INFO mlflow.tracking._tracking_service.client: 🏃 View run glamorous-lamb-525 at: https://dagshub.com/Akshat-Sharma-110011/Loan-Status-Approval.mlflow/#/experiments/1/runs/9840d269c3f84d00937ade1250f312c8.\n",
      "2025/05/07 19:08:15 INFO mlflow.tracking._tracking_service.client: 🧪 View experiment at: https://dagshub.com/Akshat-Sharma-110011/Loan-Status-Approval.mlflow/#/experiments/1.\n",
      "[I 2025-05-07 19:08:16,172] Trial 6 finished with value: -inf and parameters: {'iterations': 1200, 'learning_rate': 0.06387058270640499, 'depth': 3, 'l2_leaf_reg': 1.0874540780434394, 'random_strength': 1.4567221378514597, 'early_stopping_rounds': 94, 'bagging_temperature': 6.566002096267987, 'boosting_type': 'Ordered', 'bootstrap_type': 'Bayesian', 'grow_policy': 'Depthwise', 'leaf_estimation_method': 'Gradient', 'min_data_in_leaf': 14}. Best is trial 5 with value: 0.9273510804170393.\n"
     ]
    },
    {
     "name": "stdout",
     "output_type": "stream",
     "text": [
      "[✗] 2025-05-07 19:08:17 | root            | ERROR | Trial 7 failed: catboost/private/libs/options/catboost_options.cpp:758: Ordered boosting is not supported for nonsymmetric trees.\n",
      "[✗] 2025-05-07 19:08:17 | root            | ERROR | Trial 7 failed: catboost/private/libs/options/catboost_options.cpp:758: Ordered boosting is not supported for nonsymmetric trees.\n"
     ]
    },
    {
     "name": "stderr",
     "output_type": "stream",
     "text": [
      "2025/05/07 19:08:17 INFO mlflow.tracking._tracking_service.client: 🏃 View run omniscient-snipe-435 at: https://dagshub.com/Akshat-Sharma-110011/Loan-Status-Approval.mlflow/#/experiments/1/runs/2c75b924f24142079c964f8d50e71cb3.\n",
      "2025/05/07 19:08:17 INFO mlflow.tracking._tracking_service.client: 🧪 View experiment at: https://dagshub.com/Akshat-Sharma-110011/Loan-Status-Approval.mlflow/#/experiments/1.\n",
      "[I 2025-05-07 19:08:18,193] Trial 7 finished with value: -inf and parameters: {'iterations': 300, 'learning_rate': 0.004493880834432451, 'depth': 8, 'l2_leaf_reg': 6.45689887456742, 'random_strength': 0.10428827533153663, 'early_stopping_rounds': 84, 'bagging_temperature': 8.996496693608973, 'boosting_type': 'Ordered', 'bootstrap_type': 'MVS', 'grow_policy': 'Lossguide', 'leaf_estimation_method': 'Newton', 'min_data_in_leaf': 2}. Best is trial 5 with value: 0.9273510804170393.\n"
     ]
    },
    {
     "name": "stdout",
     "output_type": "stream",
     "text": [
      "[✓] 2025-05-07 19:09:06 | root            | INFO  | Trial 8 finished with f1: 0.9198 - params: {'iterations': 1400, 'learning_rate': 0.07608619725269979, 'depth': 10, 'l2_leaf_reg': 6.35664918134954, 'random_strength': 1.0944947917170604, 'early_stopping_rounds': 78, 'bagging_temperature': 2.100646387246816, 'boosting_type': 'Plain', 'bootstrap_type': 'Bayesian', 'grow_policy': 'SymmetricTree', 'leaf_estimation_method': 'Newton'}\n",
      "[✓] 2025-05-07 19:09:06 | root            | INFO  | Trial 8 finished with f1: 0.9198 - params: {'iterations': 1400, 'learning_rate': 0.07608619725269979, 'depth': 10, 'l2_leaf_reg': 6.35664918134954, 'random_strength': 1.0944947917170604, 'early_stopping_rounds': 78, 'bagging_temperature': 2.100646387246816, 'boosting_type': 'Plain', 'bootstrap_type': 'Bayesian', 'grow_policy': 'SymmetricTree', 'leaf_estimation_method': 'Newton'}\n"
     ]
    },
    {
     "name": "stderr",
     "output_type": "stream",
     "text": [
      "2025/05/07 19:09:06 INFO mlflow.tracking._tracking_service.client: 🏃 View run youthful-bass-78 at: https://dagshub.com/Akshat-Sharma-110011/Loan-Status-Approval.mlflow/#/experiments/1/runs/9daf14cb48234a2a808357759363983b.\n",
      "2025/05/07 19:09:06 INFO mlflow.tracking._tracking_service.client: 🧪 View experiment at: https://dagshub.com/Akshat-Sharma-110011/Loan-Status-Approval.mlflow/#/experiments/1.\n",
      "[I 2025-05-07 19:09:07,001] Trial 8 finished with value: 0.9197826324114984 and parameters: {'iterations': 1400, 'learning_rate': 0.07608619725269979, 'depth': 10, 'l2_leaf_reg': 6.35664918134954, 'random_strength': 1.0944947917170604, 'early_stopping_rounds': 78, 'bagging_temperature': 2.100646387246816, 'boosting_type': 'Plain', 'bootstrap_type': 'Bayesian', 'grow_policy': 'SymmetricTree', 'leaf_estimation_method': 'Newton'}. Best is trial 5 with value: 0.9273510804170393.\n"
     ]
    },
    {
     "name": "stdout",
     "output_type": "stream",
     "text": [
      "[✓] 2025-05-07 19:09:48 | root            | INFO  | Trial 9 finished with f1: 0.8855 - params: {'iterations': 1300, 'learning_rate': 0.0011766359743846761, 'depth': 7, 'l2_leaf_reg': 6.408086230768507, 'random_strength': 0.26726978594876927, 'early_stopping_rounds': 198, 'bagging_temperature': 0.7502783850736805, 'boosting_type': 'Plain', 'bootstrap_type': 'MVS', 'grow_policy': 'Lossguide', 'leaf_estimation_method': 'Newton', 'min_data_in_leaf': 84}\n",
      "[✓] 2025-05-07 19:09:48 | root            | INFO  | Trial 9 finished with f1: 0.8855 - params: {'iterations': 1300, 'learning_rate': 0.0011766359743846761, 'depth': 7, 'l2_leaf_reg': 6.408086230768507, 'random_strength': 0.26726978594876927, 'early_stopping_rounds': 198, 'bagging_temperature': 0.7502783850736805, 'boosting_type': 'Plain', 'bootstrap_type': 'MVS', 'grow_policy': 'Lossguide', 'leaf_estimation_method': 'Newton', 'min_data_in_leaf': 84}\n"
     ]
    },
    {
     "name": "stderr",
     "output_type": "stream",
     "text": [
      "2025/05/07 19:09:48 INFO mlflow.tracking._tracking_service.client: 🏃 View run zealous-wren-14 at: https://dagshub.com/Akshat-Sharma-110011/Loan-Status-Approval.mlflow/#/experiments/1/runs/feccf2d5c3324983943b582adba247fe.\n",
      "2025/05/07 19:09:48 INFO mlflow.tracking._tracking_service.client: 🧪 View experiment at: https://dagshub.com/Akshat-Sharma-110011/Loan-Status-Approval.mlflow/#/experiments/1.\n",
      "[I 2025-05-07 19:09:49,701] Trial 9 finished with value: 0.8855369913360485 and parameters: {'iterations': 1300, 'learning_rate': 0.0011766359743846761, 'depth': 7, 'l2_leaf_reg': 6.408086230768507, 'random_strength': 0.26726978594876927, 'early_stopping_rounds': 198, 'bagging_temperature': 0.7502783850736805, 'boosting_type': 'Plain', 'bootstrap_type': 'MVS', 'grow_policy': 'Lossguide', 'leaf_estimation_method': 'Newton', 'min_data_in_leaf': 84}. Best is trial 5 with value: 0.9273510804170393.\n"
     ]
    },
    {
     "name": "stdout",
     "output_type": "stream",
     "text": [
      "[✗] 2025-05-07 19:09:52 | root            | ERROR | Trial 10 failed: catboost/private/libs/options/bootstrap_options.cpp:44: Error: bagging temperature available for bayesian bootstrap only\n",
      "[✗] 2025-05-07 19:09:52 | root            | ERROR | Trial 10 failed: catboost/private/libs/options/bootstrap_options.cpp:44: Error: bagging temperature available for bayesian bootstrap only\n"
     ]
    },
    {
     "name": "stderr",
     "output_type": "stream",
     "text": [
      "2025/05/07 19:09:55 INFO mlflow.tracking._tracking_service.client: 🏃 View run gregarious-wasp-273 at: https://dagshub.com/Akshat-Sharma-110011/Loan-Status-Approval.mlflow/#/experiments/1/runs/0dfe2831208940e0a996bca4aca57b33.\n",
      "2025/05/07 19:09:55 INFO mlflow.tracking._tracking_service.client: 🧪 View experiment at: https://dagshub.com/Akshat-Sharma-110011/Loan-Status-Approval.mlflow/#/experiments/1.\n",
      "[I 2025-05-07 19:09:55,762] Trial 10 finished with value: -inf and parameters: {'iterations': 700, 'learning_rate': 0.016074097692559297, 'depth': 5, 'l2_leaf_reg': 3.920732608975639, 'random_strength': 0.3512288626328072, 'early_stopping_rounds': 144, 'bagging_temperature': 4.7673140885216725, 'boosting_type': 'Plain', 'bootstrap_type': 'Bernoulli', 'grow_policy': 'Lossguide', 'leaf_estimation_method': 'Gradient', 'subsample': 0.19248267001476527, 'min_data_in_leaf': 61}. Best is trial 5 with value: 0.9273510804170393.\n"
     ]
    },
    {
     "name": "stdout",
     "output_type": "stream",
     "text": [
      "[✗] 2025-05-07 19:09:57 | root            | ERROR | Trial 11 failed: catboost/private/libs/options/bootstrap_options.cpp:44: Error: bagging temperature available for bayesian bootstrap only\n",
      "[✗] 2025-05-07 19:09:57 | root            | ERROR | Trial 11 failed: catboost/private/libs/options/bootstrap_options.cpp:44: Error: bagging temperature available for bayesian bootstrap only\n"
     ]
    },
    {
     "name": "stderr",
     "output_type": "stream",
     "text": [
      "2025/05/07 19:09:57 INFO mlflow.tracking._tracking_service.client: 🏃 View run polite-pug-310 at: https://dagshub.com/Akshat-Sharma-110011/Loan-Status-Approval.mlflow/#/experiments/1/runs/ad6e44d74d0e4845af3f276988c58dcf.\n",
      "2025/05/07 19:09:57 INFO mlflow.tracking._tracking_service.client: 🧪 View experiment at: https://dagshub.com/Akshat-Sharma-110011/Loan-Status-Approval.mlflow/#/experiments/1.\n",
      "[I 2025-05-07 19:09:58,348] Trial 11 finished with value: -inf and parameters: {'iterations': 100, 'learning_rate': 0.28861421541152693, 'depth': 10, 'l2_leaf_reg': 9.638325663439531, 'random_strength': 0.4527408492168661, 'early_stopping_rounds': 140, 'bagging_temperature': 6.754213197750381, 'boosting_type': 'Plain', 'bootstrap_type': 'Bernoulli', 'grow_policy': 'Depthwise', 'leaf_estimation_method': 'Newton', 'subsample': 0.8921582832797408, 'min_data_in_leaf': 69}. Best is trial 5 with value: 0.9273510804170393.\n"
     ]
    },
    {
     "name": "stdout",
     "output_type": "stream",
     "text": [
      "[✓] 2025-05-07 19:10:13 | root            | INFO  | Trial 12 finished with f1: 0.8903 - params: {'iterations': 400, 'learning_rate': 0.019192700401484353, 'depth': 9, 'l2_leaf_reg': 3.8789833660622337, 'random_strength': 9.840651731467469, 'early_stopping_rounds': 126, 'bagging_temperature': 5.470524404023983, 'boosting_type': 'Plain', 'bootstrap_type': 'MVS', 'grow_policy': 'Lossguide', 'leaf_estimation_method': 'Newton', 'min_data_in_leaf': 81}\n",
      "[✓] 2025-05-07 19:10:13 | root            | INFO  | Trial 12 finished with f1: 0.8903 - params: {'iterations': 400, 'learning_rate': 0.019192700401484353, 'depth': 9, 'l2_leaf_reg': 3.8789833660622337, 'random_strength': 9.840651731467469, 'early_stopping_rounds': 126, 'bagging_temperature': 5.470524404023983, 'boosting_type': 'Plain', 'bootstrap_type': 'MVS', 'grow_policy': 'Lossguide', 'leaf_estimation_method': 'Newton', 'min_data_in_leaf': 81}\n"
     ]
    },
    {
     "name": "stderr",
     "output_type": "stream",
     "text": [
      "2025/05/07 19:10:13 INFO mlflow.tracking._tracking_service.client: 🏃 View run suave-crow-366 at: https://dagshub.com/Akshat-Sharma-110011/Loan-Status-Approval.mlflow/#/experiments/1/runs/7801a37303fd4890aa40dd9fac4b231f.\n",
      "2025/05/07 19:10:13 INFO mlflow.tracking._tracking_service.client: 🧪 View experiment at: https://dagshub.com/Akshat-Sharma-110011/Loan-Status-Approval.mlflow/#/experiments/1.\n",
      "[I 2025-05-07 19:10:13,849] Trial 12 finished with value: 0.8903331001935761 and parameters: {'iterations': 400, 'learning_rate': 0.019192700401484353, 'depth': 9, 'l2_leaf_reg': 3.8789833660622337, 'random_strength': 9.840651731467469, 'early_stopping_rounds': 126, 'bagging_temperature': 5.470524404023983, 'boosting_type': 'Plain', 'bootstrap_type': 'MVS', 'grow_policy': 'Lossguide', 'leaf_estimation_method': 'Newton', 'min_data_in_leaf': 81}. Best is trial 5 with value: 0.9273510804170393.\n"
     ]
    },
    {
     "name": "stdout",
     "output_type": "stream",
     "text": [
      "[✓] 2025-05-07 19:10:16 | root            | INFO  | Trial 13 finished with f1: 0.9101 - params: {'iterations': 100, 'learning_rate': 0.14423625774197624, 'depth': 6, 'l2_leaf_reg': 8.445973363809552, 'random_strength': 0.5830592118951604, 'early_stopping_rounds': 58, 'bagging_temperature': 3.4111709093382823, 'boosting_type': 'Plain', 'bootstrap_type': 'Bayesian', 'grow_policy': 'Depthwise', 'leaf_estimation_method': 'Newton', 'min_data_in_leaf': 44}\n",
      "[✓] 2025-05-07 19:10:16 | root            | INFO  | Trial 13 finished with f1: 0.9101 - params: {'iterations': 100, 'learning_rate': 0.14423625774197624, 'depth': 6, 'l2_leaf_reg': 8.445973363809552, 'random_strength': 0.5830592118951604, 'early_stopping_rounds': 58, 'bagging_temperature': 3.4111709093382823, 'boosting_type': 'Plain', 'bootstrap_type': 'Bayesian', 'grow_policy': 'Depthwise', 'leaf_estimation_method': 'Newton', 'min_data_in_leaf': 44}\n"
     ]
    },
    {
     "name": "stderr",
     "output_type": "stream",
     "text": [
      "2025/05/07 19:10:17 INFO mlflow.tracking._tracking_service.client: 🏃 View run skittish-lynx-619 at: https://dagshub.com/Akshat-Sharma-110011/Loan-Status-Approval.mlflow/#/experiments/1/runs/f333323f740949d7b824fc387d954486.\n",
      "2025/05/07 19:10:17 INFO mlflow.tracking._tracking_service.client: 🧪 View experiment at: https://dagshub.com/Akshat-Sharma-110011/Loan-Status-Approval.mlflow/#/experiments/1.\n",
      "[I 2025-05-07 19:10:17,416] Trial 13 finished with value: 0.9101078038701773 and parameters: {'iterations': 100, 'learning_rate': 0.14423625774197624, 'depth': 6, 'l2_leaf_reg': 8.445973363809552, 'random_strength': 0.5830592118951604, 'early_stopping_rounds': 58, 'bagging_temperature': 3.4111709093382823, 'boosting_type': 'Plain', 'bootstrap_type': 'Bayesian', 'grow_policy': 'Depthwise', 'leaf_estimation_method': 'Newton', 'min_data_in_leaf': 44}. Best is trial 5 with value: 0.9273510804170393.\n"
     ]
    },
    {
     "name": "stdout",
     "output_type": "stream",
     "text": [
      "[✗] 2025-05-07 19:10:19 | root            | ERROR | Trial 14 failed: catboost/private/libs/options/bootstrap_options.cpp:44: Error: bagging temperature available for bayesian bootstrap only\n",
      "[✗] 2025-05-07 19:10:19 | root            | ERROR | Trial 14 failed: catboost/private/libs/options/bootstrap_options.cpp:44: Error: bagging temperature available for bayesian bootstrap only\n"
     ]
    },
    {
     "name": "stderr",
     "output_type": "stream",
     "text": [
      "2025/05/07 19:10:19 INFO mlflow.tracking._tracking_service.client: 🏃 View run angry-wolf-596 at: https://dagshub.com/Akshat-Sharma-110011/Loan-Status-Approval.mlflow/#/experiments/1/runs/74eabf9151ac40389badfbfba9c75b62.\n",
      "2025/05/07 19:10:19 INFO mlflow.tracking._tracking_service.client: 🧪 View experiment at: https://dagshub.com/Akshat-Sharma-110011/Loan-Status-Approval.mlflow/#/experiments/1.\n",
      "[I 2025-05-07 19:10:20,326] Trial 14 finished with value: -inf and parameters: {'iterations': 500, 'learning_rate': 0.007894883060334932, 'depth': 8, 'l2_leaf_reg': 4.668327817198552, 'random_strength': 2.782951061446977, 'early_stopping_rounds': 166, 'bagging_temperature': 7.506790778031963, 'boosting_type': 'Plain', 'bootstrap_type': 'Bernoulli', 'grow_policy': 'Lossguide', 'leaf_estimation_method': 'Gradient', 'subsample': 0.9668697081188478, 'min_data_in_leaf': 94}. Best is trial 5 with value: 0.9273510804170393.\n"
     ]
    },
    {
     "name": "stdout",
     "output_type": "stream",
     "text": [
      "[✓] 2025-05-07 19:10:44 | root            | INFO  | Trial 15 finished with f1: 0.9163 - params: {'iterations': 1000, 'learning_rate': 0.03190409849531098, 'depth': 9, 'l2_leaf_reg': 8.122388990388828, 'random_strength': 0.19333857664497334, 'early_stopping_rounds': 116, 'bagging_temperature': 2.813081161275486, 'boosting_type': 'Plain', 'bootstrap_type': 'Bayesian', 'grow_policy': 'SymmetricTree', 'leaf_estimation_method': 'Newton'}\n",
      "[✓] 2025-05-07 19:10:44 | root            | INFO  | Trial 15 finished with f1: 0.9163 - params: {'iterations': 1000, 'learning_rate': 0.03190409849531098, 'depth': 9, 'l2_leaf_reg': 8.122388990388828, 'random_strength': 0.19333857664497334, 'early_stopping_rounds': 116, 'bagging_temperature': 2.813081161275486, 'boosting_type': 'Plain', 'bootstrap_type': 'Bayesian', 'grow_policy': 'SymmetricTree', 'leaf_estimation_method': 'Newton'}\n"
     ]
    },
    {
     "name": "stderr",
     "output_type": "stream",
     "text": [
      "2025/05/07 19:10:45 INFO mlflow.tracking._tracking_service.client: 🏃 View run treasured-snipe-429 at: https://dagshub.com/Akshat-Sharma-110011/Loan-Status-Approval.mlflow/#/experiments/1/runs/4e24dfd534c9439485250e37ed98af1c.\n",
      "2025/05/07 19:10:45 INFO mlflow.tracking._tracking_service.client: 🧪 View experiment at: https://dagshub.com/Akshat-Sharma-110011/Loan-Status-Approval.mlflow/#/experiments/1.\n",
      "[I 2025-05-07 19:10:46,143] Trial 15 finished with value: 0.9163423973013717 and parameters: {'iterations': 1000, 'learning_rate': 0.03190409849531098, 'depth': 9, 'l2_leaf_reg': 8.122388990388828, 'random_strength': 0.19333857664497334, 'early_stopping_rounds': 116, 'bagging_temperature': 2.813081161275486, 'boosting_type': 'Plain', 'bootstrap_type': 'Bayesian', 'grow_policy': 'SymmetricTree', 'leaf_estimation_method': 'Newton'}. Best is trial 5 with value: 0.9273510804170393.\n"
     ]
    },
    {
     "name": "stdout",
     "output_type": "stream",
     "text": [
      "[✓] 2025-05-07 19:11:05 | root            | INFO  | Trial 16 finished with f1: 0.9336 - params: {'iterations': 600, 'learning_rate': 0.09069791143458081, 'depth': 6, 'l2_leaf_reg': 5.026670805382901, 'random_strength': 0.7226657998312077, 'early_stopping_rounds': 145, 'bagging_temperature': 4.855931236523602, 'boosting_type': 'Plain', 'bootstrap_type': 'MVS', 'grow_policy': 'Depthwise', 'leaf_estimation_method': 'Newton', 'min_data_in_leaf': 48}\n",
      "[✓] 2025-05-07 19:11:05 | root            | INFO  | Trial 16 finished with f1: 0.9336 - params: {'iterations': 600, 'learning_rate': 0.09069791143458081, 'depth': 6, 'l2_leaf_reg': 5.026670805382901, 'random_strength': 0.7226657998312077, 'early_stopping_rounds': 145, 'bagging_temperature': 4.855931236523602, 'boosting_type': 'Plain', 'bootstrap_type': 'MVS', 'grow_policy': 'Depthwise', 'leaf_estimation_method': 'Newton', 'min_data_in_leaf': 48}\n"
     ]
    },
    {
     "name": "stderr",
     "output_type": "stream",
     "text": [
      "2025/05/07 19:11:05 INFO mlflow.tracking._tracking_service.client: 🏃 View run capricious-hen-151 at: https://dagshub.com/Akshat-Sharma-110011/Loan-Status-Approval.mlflow/#/experiments/1/runs/56dd6773a2934d669f00928ec505fe1c.\n",
      "2025/05/07 19:11:05 INFO mlflow.tracking._tracking_service.client: 🧪 View experiment at: https://dagshub.com/Akshat-Sharma-110011/Loan-Status-Approval.mlflow/#/experiments/1.\n",
      "[I 2025-05-07 19:11:06,279] Trial 16 finished with value: 0.9335946549661313 and parameters: {'iterations': 600, 'learning_rate': 0.09069791143458081, 'depth': 6, 'l2_leaf_reg': 5.026670805382901, 'random_strength': 0.7226657998312077, 'early_stopping_rounds': 145, 'bagging_temperature': 4.855931236523602, 'boosting_type': 'Plain', 'bootstrap_type': 'MVS', 'grow_policy': 'Depthwise', 'leaf_estimation_method': 'Newton', 'min_data_in_leaf': 48}. Best is trial 16 with value: 0.9335946549661313.\n"
     ]
    },
    {
     "name": "stdout",
     "output_type": "stream",
     "text": [
      "[✓] 2025-05-07 19:11:21 | root            | INFO  | Trial 17 finished with f1: 0.9157 - params: {'iterations': 600, 'learning_rate': 0.10779811292493074, 'depth': 5, 'l2_leaf_reg': 5.0805393370747005, 'random_strength': 0.5787914656362678, 'early_stopping_rounds': 156, 'bagging_temperature': 4.439346928881205, 'boosting_type': 'Plain', 'bootstrap_type': 'Bayesian', 'grow_policy': 'Lossguide', 'leaf_estimation_method': 'Newton', 'min_data_in_leaf': 45}\n",
      "[✓] 2025-05-07 19:11:21 | root            | INFO  | Trial 17 finished with f1: 0.9157 - params: {'iterations': 600, 'learning_rate': 0.10779811292493074, 'depth': 5, 'l2_leaf_reg': 5.0805393370747005, 'random_strength': 0.5787914656362678, 'early_stopping_rounds': 156, 'bagging_temperature': 4.439346928881205, 'boosting_type': 'Plain', 'bootstrap_type': 'Bayesian', 'grow_policy': 'Lossguide', 'leaf_estimation_method': 'Newton', 'min_data_in_leaf': 45}\n"
     ]
    },
    {
     "name": "stderr",
     "output_type": "stream",
     "text": [
      "2025/05/07 19:11:21 INFO mlflow.tracking._tracking_service.client: 🏃 View run luminous-dolphin-243 at: https://dagshub.com/Akshat-Sharma-110011/Loan-Status-Approval.mlflow/#/experiments/1/runs/2cceb94536e242d88929eb246ff4031f.\n",
      "2025/05/07 19:11:21 INFO mlflow.tracking._tracking_service.client: 🧪 View experiment at: https://dagshub.com/Akshat-Sharma-110011/Loan-Status-Approval.mlflow/#/experiments/1.\n",
      "[I 2025-05-07 19:11:21,953] Trial 17 finished with value: 0.9156673105077898 and parameters: {'iterations': 600, 'learning_rate': 0.10779811292493074, 'depth': 5, 'l2_leaf_reg': 5.0805393370747005, 'random_strength': 0.5787914656362678, 'early_stopping_rounds': 156, 'bagging_temperature': 4.439346928881205, 'boosting_type': 'Plain', 'bootstrap_type': 'Bayesian', 'grow_policy': 'Lossguide', 'leaf_estimation_method': 'Newton', 'min_data_in_leaf': 45}. Best is trial 16 with value: 0.9335946549661313.\n"
     ]
    },
    {
     "name": "stdout",
     "output_type": "stream",
     "text": [
      "[✓] 2025-05-07 19:11:50 | root            | INFO  | Trial 18 finished with f1: 0.9183 - params: {'iterations': 1000, 'learning_rate': 0.03780277701951452, 'depth': 3, 'l2_leaf_reg': 3.5031112712221004, 'random_strength': 0.2390721725820184, 'early_stopping_rounds': 128, 'bagging_temperature': 0.21505327984538702, 'boosting_type': 'Plain', 'bootstrap_type': 'MVS', 'grow_policy': 'Depthwise', 'leaf_estimation_method': 'Gradient', 'min_data_in_leaf': 62}\n",
      "[✓] 2025-05-07 19:11:50 | root            | INFO  | Trial 18 finished with f1: 0.9183 - params: {'iterations': 1000, 'learning_rate': 0.03780277701951452, 'depth': 3, 'l2_leaf_reg': 3.5031112712221004, 'random_strength': 0.2390721725820184, 'early_stopping_rounds': 128, 'bagging_temperature': 0.21505327984538702, 'boosting_type': 'Plain', 'bootstrap_type': 'MVS', 'grow_policy': 'Depthwise', 'leaf_estimation_method': 'Gradient', 'min_data_in_leaf': 62}\n"
     ]
    },
    {
     "name": "stderr",
     "output_type": "stream",
     "text": [
      "2025/05/07 19:11:51 INFO mlflow.tracking._tracking_service.client: 🏃 View run debonair-mare-326 at: https://dagshub.com/Akshat-Sharma-110011/Loan-Status-Approval.mlflow/#/experiments/1/runs/fde44542ad09496b9180a8cd1c244329.\n",
      "2025/05/07 19:11:51 INFO mlflow.tracking._tracking_service.client: 🧪 View experiment at: https://dagshub.com/Akshat-Sharma-110011/Loan-Status-Approval.mlflow/#/experiments/1.\n",
      "[I 2025-05-07 19:11:51,696] Trial 18 finished with value: 0.9182838201729133 and parameters: {'iterations': 1000, 'learning_rate': 0.03780277701951452, 'depth': 3, 'l2_leaf_reg': 3.5031112712221004, 'random_strength': 0.2390721725820184, 'early_stopping_rounds': 128, 'bagging_temperature': 0.21505327984538702, 'boosting_type': 'Plain', 'bootstrap_type': 'MVS', 'grow_policy': 'Depthwise', 'leaf_estimation_method': 'Gradient', 'min_data_in_leaf': 62}. Best is trial 16 with value: 0.9335946549661313.\n"
     ]
    },
    {
     "name": "stdout",
     "output_type": "stream",
     "text": [
      "[✗] 2025-05-07 19:11:52 | root            | ERROR | Trial 19 failed: catboost/private/libs/options/bootstrap_options.cpp:44: Error: bagging temperature available for bayesian bootstrap only\n",
      "[✗] 2025-05-07 19:11:52 | root            | ERROR | Trial 19 failed: catboost/private/libs/options/bootstrap_options.cpp:44: Error: bagging temperature available for bayesian bootstrap only\n"
     ]
    },
    {
     "name": "stderr",
     "output_type": "stream",
     "text": [
      "2025/05/07 19:11:52 INFO mlflow.tracking._tracking_service.client: 🏃 View run thundering-vole-692 at: https://dagshub.com/Akshat-Sharma-110011/Loan-Status-Approval.mlflow/#/experiments/1/runs/510dac5f8ca9405992bdfd8cb6660787.\n",
      "2025/05/07 19:11:52 INFO mlflow.tracking._tracking_service.client: 🧪 View experiment at: https://dagshub.com/Akshat-Sharma-110011/Loan-Status-Approval.mlflow/#/experiments/1.\n",
      "[I 2025-05-07 19:11:53,301] Trial 19 finished with value: -inf and parameters: {'iterations': 800, 'learning_rate': 0.00909302061531181, 'depth': 6, 'l2_leaf_reg': 2.596033762493704, 'random_strength': 0.10057207027028488, 'early_stopping_rounds': 169, 'bagging_temperature': 1.8154067719726386, 'boosting_type': 'Plain', 'bootstrap_type': 'Bernoulli', 'grow_policy': 'SymmetricTree', 'leaf_estimation_method': 'Newton', 'subsample': 0.12565858354731374}. Best is trial 16 with value: 0.9335946549661313.\n"
     ]
    },
    {
     "name": "stdout",
     "output_type": "stream",
     "text": [
      "[✓] 2025-05-07 19:12:06 | root            | INFO  | Trial 20 finished with f1: 0.9195 - params: {'iterations': 500, 'learning_rate': 0.034184292933916095, 'depth': 4, 'l2_leaf_reg': 5.62785805918633, 'random_strength': 0.6670365511314265, 'early_stopping_rounds': 142, 'bagging_temperature': 5.635138068512745, 'boosting_type': 'Plain', 'bootstrap_type': 'MVS', 'grow_policy': 'Lossguide', 'leaf_estimation_method': 'Newton', 'min_data_in_leaf': 35}\n",
      "[✓] 2025-05-07 19:12:06 | root            | INFO  | Trial 20 finished with f1: 0.9195 - params: {'iterations': 500, 'learning_rate': 0.034184292933916095, 'depth': 4, 'l2_leaf_reg': 5.62785805918633, 'random_strength': 0.6670365511314265, 'early_stopping_rounds': 142, 'bagging_temperature': 5.635138068512745, 'boosting_type': 'Plain', 'bootstrap_type': 'MVS', 'grow_policy': 'Lossguide', 'leaf_estimation_method': 'Newton', 'min_data_in_leaf': 35}\n"
     ]
    },
    {
     "name": "stderr",
     "output_type": "stream",
     "text": [
      "2025/05/07 19:12:06 INFO mlflow.tracking._tracking_service.client: 🏃 View run calm-eel-533 at: https://dagshub.com/Akshat-Sharma-110011/Loan-Status-Approval.mlflow/#/experiments/1/runs/ff2a5abafe934b03a5ffd22fadf75e43.\n",
      "2025/05/07 19:12:06 INFO mlflow.tracking._tracking_service.client: 🧪 View experiment at: https://dagshub.com/Akshat-Sharma-110011/Loan-Status-Approval.mlflow/#/experiments/1.\n",
      "[I 2025-05-07 19:12:06,840] Trial 20 finished with value: 0.9195411795948603 and parameters: {'iterations': 500, 'learning_rate': 0.034184292933916095, 'depth': 4, 'l2_leaf_reg': 5.62785805918633, 'random_strength': 0.6670365511314265, 'early_stopping_rounds': 142, 'bagging_temperature': 5.635138068512745, 'boosting_type': 'Plain', 'bootstrap_type': 'MVS', 'grow_policy': 'Lossguide', 'leaf_estimation_method': 'Newton', 'min_data_in_leaf': 35}. Best is trial 16 with value: 0.9335946549661313.\n"
     ]
    },
    {
     "name": "stdout",
     "output_type": "stream",
     "text": [
      "[✓] 2025-05-07 19:12:10 | root            | INFO  | Trial 21 finished with f1: 0.9308 - params: {'iterations': 200, 'learning_rate': 0.14886892338270877, 'depth': 7, 'l2_leaf_reg': 7.849971746324402, 'random_strength': 2.2305866328880697, 'early_stopping_rounds': 109, 'bagging_temperature': 7.023680842957073, 'boosting_type': 'Plain', 'bootstrap_type': 'MVS', 'grow_policy': 'Depthwise', 'leaf_estimation_method': 'Newton', 'min_data_in_leaf': 78}\n",
      "[✓] 2025-05-07 19:12:10 | root            | INFO  | Trial 21 finished with f1: 0.9308 - params: {'iterations': 200, 'learning_rate': 0.14886892338270877, 'depth': 7, 'l2_leaf_reg': 7.849971746324402, 'random_strength': 2.2305866328880697, 'early_stopping_rounds': 109, 'bagging_temperature': 7.023680842957073, 'boosting_type': 'Plain', 'bootstrap_type': 'MVS', 'grow_policy': 'Depthwise', 'leaf_estimation_method': 'Newton', 'min_data_in_leaf': 78}\n"
     ]
    },
    {
     "name": "stderr",
     "output_type": "stream",
     "text": [
      "2025/05/07 19:12:11 INFO mlflow.tracking._tracking_service.client: 🏃 View run placid-pug-177 at: https://dagshub.com/Akshat-Sharma-110011/Loan-Status-Approval.mlflow/#/experiments/1/runs/c2a404a3bbb44cd0a850ca594cba4ef6.\n",
      "2025/05/07 19:12:11 INFO mlflow.tracking._tracking_service.client: 🧪 View experiment at: https://dagshub.com/Akshat-Sharma-110011/Loan-Status-Approval.mlflow/#/experiments/1.\n",
      "[I 2025-05-07 19:12:11,730] Trial 21 finished with value: 0.9307743098001675 and parameters: {'iterations': 200, 'learning_rate': 0.14886892338270877, 'depth': 7, 'l2_leaf_reg': 7.849971746324402, 'random_strength': 2.2305866328880697, 'early_stopping_rounds': 109, 'bagging_temperature': 7.023680842957073, 'boosting_type': 'Plain', 'bootstrap_type': 'MVS', 'grow_policy': 'Depthwise', 'leaf_estimation_method': 'Newton', 'min_data_in_leaf': 78}. Best is trial 16 with value: 0.9335946549661313.\n"
     ]
    },
    {
     "name": "stdout",
     "output_type": "stream",
     "text": [
      "[✓] 2025-05-07 19:12:21 | root            | INFO  | Trial 22 finished with f1: 0.9305 - params: {'iterations': 300, 'learning_rate': 0.1211025394848394, 'depth': 7, 'l2_leaf_reg': 7.727808464670014, 'random_strength': 3.4837926134386095, 'early_stopping_rounds': 129, 'bagging_temperature': 6.8907910544192505, 'boosting_type': 'Plain', 'bootstrap_type': 'MVS', 'grow_policy': 'Depthwise', 'leaf_estimation_method': 'Newton', 'min_data_in_leaf': 73}\n",
      "[✓] 2025-05-07 19:12:21 | root            | INFO  | Trial 22 finished with f1: 0.9305 - params: {'iterations': 300, 'learning_rate': 0.1211025394848394, 'depth': 7, 'l2_leaf_reg': 7.727808464670014, 'random_strength': 3.4837926134386095, 'early_stopping_rounds': 129, 'bagging_temperature': 6.8907910544192505, 'boosting_type': 'Plain', 'bootstrap_type': 'MVS', 'grow_policy': 'Depthwise', 'leaf_estimation_method': 'Newton', 'min_data_in_leaf': 73}\n"
     ]
    },
    {
     "name": "stderr",
     "output_type": "stream",
     "text": [
      "2025/05/07 19:12:21 INFO mlflow.tracking._tracking_service.client: 🏃 View run delightful-gnat-575 at: https://dagshub.com/Akshat-Sharma-110011/Loan-Status-Approval.mlflow/#/experiments/1/runs/5fcfa84a49454bdeab875a5fb6f04efc.\n",
      "2025/05/07 19:12:21 INFO mlflow.tracking._tracking_service.client: 🧪 View experiment at: https://dagshub.com/Akshat-Sharma-110011/Loan-Status-Approval.mlflow/#/experiments/1.\n",
      "[I 2025-05-07 19:12:21,957] Trial 22 finished with value: 0.930538286430895 and parameters: {'iterations': 300, 'learning_rate': 0.1211025394848394, 'depth': 7, 'l2_leaf_reg': 7.727808464670014, 'random_strength': 3.4837926134386095, 'early_stopping_rounds': 129, 'bagging_temperature': 6.8907910544192505, 'boosting_type': 'Plain', 'bootstrap_type': 'MVS', 'grow_policy': 'Depthwise', 'leaf_estimation_method': 'Newton', 'min_data_in_leaf': 73}. Best is trial 16 with value: 0.9335946549661313.\n"
     ]
    },
    {
     "name": "stdout",
     "output_type": "stream",
     "text": [
      "[✓] 2025-05-07 19:12:27 | root            | INFO  | Trial 23 finished with f1: 0.9304 - params: {'iterations': 300, 'learning_rate': 0.13692199359156648, 'depth': 6, 'l2_leaf_reg': 7.831709639139139, 'random_strength': 4.838663836371184, 'early_stopping_rounds': 153, 'bagging_temperature': 7.878623844820099, 'boosting_type': 'Plain', 'bootstrap_type': 'MVS', 'grow_policy': 'Depthwise', 'leaf_estimation_method': 'Newton', 'min_data_in_leaf': 54}\n",
      "[✓] 2025-05-07 19:12:27 | root            | INFO  | Trial 23 finished with f1: 0.9304 - params: {'iterations': 300, 'learning_rate': 0.13692199359156648, 'depth': 6, 'l2_leaf_reg': 7.831709639139139, 'random_strength': 4.838663836371184, 'early_stopping_rounds': 153, 'bagging_temperature': 7.878623844820099, 'boosting_type': 'Plain', 'bootstrap_type': 'MVS', 'grow_policy': 'Depthwise', 'leaf_estimation_method': 'Newton', 'min_data_in_leaf': 54}\n"
     ]
    },
    {
     "name": "stderr",
     "output_type": "stream",
     "text": [
      "2025/05/07 19:12:27 INFO mlflow.tracking._tracking_service.client: 🏃 View run bouncy-midge-811 at: https://dagshub.com/Akshat-Sharma-110011/Loan-Status-Approval.mlflow/#/experiments/1/runs/4d92d1cfe3b14ce199cb083ac46a4e83.\n",
      "2025/05/07 19:12:27 INFO mlflow.tracking._tracking_service.client: 🧪 View experiment at: https://dagshub.com/Akshat-Sharma-110011/Loan-Status-Approval.mlflow/#/experiments/1.\n",
      "[I 2025-05-07 19:12:28,292] Trial 23 finished with value: 0.9304460102639522 and parameters: {'iterations': 300, 'learning_rate': 0.13692199359156648, 'depth': 6, 'l2_leaf_reg': 7.831709639139139, 'random_strength': 4.838663836371184, 'early_stopping_rounds': 153, 'bagging_temperature': 7.878623844820099, 'boosting_type': 'Plain', 'bootstrap_type': 'MVS', 'grow_policy': 'Depthwise', 'leaf_estimation_method': 'Newton', 'min_data_in_leaf': 54}. Best is trial 16 with value: 0.9335946549661313.\n"
     ]
    },
    {
     "name": "stdout",
     "output_type": "stream",
     "text": [
      "[✓] 2025-05-07 19:12:37 | root            | INFO  | Trial 24 finished with f1: 0.9264 - params: {'iterations': 200, 'learning_rate': 0.10257444315898927, 'depth': 7, 'l2_leaf_reg': 7.369975103098316, 'random_strength': 2.4110587510633796, 'early_stopping_rounds': 66, 'bagging_temperature': 6.075233365506189, 'boosting_type': 'Plain', 'bootstrap_type': 'MVS', 'grow_policy': 'Depthwise', 'leaf_estimation_method': 'Newton', 'min_data_in_leaf': 82}\n",
      "[✓] 2025-05-07 19:12:37 | root            | INFO  | Trial 24 finished with f1: 0.9264 - params: {'iterations': 200, 'learning_rate': 0.10257444315898927, 'depth': 7, 'l2_leaf_reg': 7.369975103098316, 'random_strength': 2.4110587510633796, 'early_stopping_rounds': 66, 'bagging_temperature': 6.075233365506189, 'boosting_type': 'Plain', 'bootstrap_type': 'MVS', 'grow_policy': 'Depthwise', 'leaf_estimation_method': 'Newton', 'min_data_in_leaf': 82}\n"
     ]
    },
    {
     "name": "stderr",
     "output_type": "stream",
     "text": [
      "2025/05/07 19:12:37 INFO mlflow.tracking._tracking_service.client: 🏃 View run enchanting-zebra-903 at: https://dagshub.com/Akshat-Sharma-110011/Loan-Status-Approval.mlflow/#/experiments/1/runs/bdd4257e954b41a59b26ccb97d5e33cb.\n",
      "2025/05/07 19:12:37 INFO mlflow.tracking._tracking_service.client: 🧪 View experiment at: https://dagshub.com/Akshat-Sharma-110011/Loan-Status-Approval.mlflow/#/experiments/1.\n",
      "[I 2025-05-07 19:12:38,170] Trial 24 finished with value: 0.9263737243735971 and parameters: {'iterations': 200, 'learning_rate': 0.10257444315898927, 'depth': 7, 'l2_leaf_reg': 7.369975103098316, 'random_strength': 2.4110587510633796, 'early_stopping_rounds': 66, 'bagging_temperature': 6.075233365506189, 'boosting_type': 'Plain', 'bootstrap_type': 'MVS', 'grow_policy': 'Depthwise', 'leaf_estimation_method': 'Newton', 'min_data_in_leaf': 82}. Best is trial 16 with value: 0.9335946549661313.\n"
     ]
    },
    {
     "name": "stdout",
     "output_type": "stream",
     "text": [
      "[✓] 2025-05-07 19:12:50 | root            | INFO  | Trial 25 finished with f1: 0.9307 - params: {'iterations': 400, 'learning_rate': 0.14489016577867314, 'depth': 7, 'l2_leaf_reg': 7.27751991203863, 'random_strength': 6.119169484456596, 'early_stopping_rounds': 118, 'bagging_temperature': 7.673895213303618, 'boosting_type': 'Plain', 'bootstrap_type': 'MVS', 'grow_policy': 'Depthwise', 'leaf_estimation_method': 'Newton', 'min_data_in_leaf': 72}\n",
      "[✓] 2025-05-07 19:12:50 | root            | INFO  | Trial 25 finished with f1: 0.9307 - params: {'iterations': 400, 'learning_rate': 0.14489016577867314, 'depth': 7, 'l2_leaf_reg': 7.27751991203863, 'random_strength': 6.119169484456596, 'early_stopping_rounds': 118, 'bagging_temperature': 7.673895213303618, 'boosting_type': 'Plain', 'bootstrap_type': 'MVS', 'grow_policy': 'Depthwise', 'leaf_estimation_method': 'Newton', 'min_data_in_leaf': 72}\n"
     ]
    },
    {
     "name": "stderr",
     "output_type": "stream",
     "text": [
      "2025/05/07 19:12:51 INFO mlflow.tracking._tracking_service.client: 🏃 View run upbeat-moth-312 at: https://dagshub.com/Akshat-Sharma-110011/Loan-Status-Approval.mlflow/#/experiments/1/runs/d6ac744e1f184248abd6aef1d39f575a.\n",
      "2025/05/07 19:12:51 INFO mlflow.tracking._tracking_service.client: 🧪 View experiment at: https://dagshub.com/Akshat-Sharma-110011/Loan-Status-Approval.mlflow/#/experiments/1.\n",
      "[I 2025-05-07 19:12:51,502] Trial 25 finished with value: 0.9307492228532238 and parameters: {'iterations': 400, 'learning_rate': 0.14489016577867314, 'depth': 7, 'l2_leaf_reg': 7.27751991203863, 'random_strength': 6.119169484456596, 'early_stopping_rounds': 118, 'bagging_temperature': 7.673895213303618, 'boosting_type': 'Plain', 'bootstrap_type': 'MVS', 'grow_policy': 'Depthwise', 'leaf_estimation_method': 'Newton', 'min_data_in_leaf': 72}. Best is trial 16 with value: 0.9335946549661313.\n"
     ]
    },
    {
     "name": "stdout",
     "output_type": "stream",
     "text": [
      "[✗] 2025-05-07 19:12:52 | root            | ERROR | Trial 26 failed: catboost/private/libs/options/catboost_options.cpp:758: Ordered boosting is not supported for nonsymmetric trees.\n",
      "[✗] 2025-05-07 19:12:52 | root            | ERROR | Trial 26 failed: catboost/private/libs/options/catboost_options.cpp:758: Ordered boosting is not supported for nonsymmetric trees.\n"
     ]
    },
    {
     "name": "stderr",
     "output_type": "stream",
     "text": [
      "2025/05/07 19:12:52 INFO mlflow.tracking._tracking_service.client: 🏃 View run nervous-swan-302 at: https://dagshub.com/Akshat-Sharma-110011/Loan-Status-Approval.mlflow/#/experiments/1/runs/c2b10e807f0447a59f31c3a026c8ca02.\n",
      "2025/05/07 19:12:52 INFO mlflow.tracking._tracking_service.client: 🧪 View experiment at: https://dagshub.com/Akshat-Sharma-110011/Loan-Status-Approval.mlflow/#/experiments/1.\n",
      "[I 2025-05-07 19:12:53,063] Trial 26 finished with value: -inf and parameters: {'iterations': 600, 'learning_rate': 0.19397088123988793, 'depth': 6, 'l2_leaf_reg': 8.7663994942187, 'random_strength': 7.757113382654273, 'early_stopping_rounds': 110, 'bagging_temperature': 8.050548582475043, 'boosting_type': 'Ordered', 'bootstrap_type': 'MVS', 'grow_policy': 'Depthwise', 'leaf_estimation_method': 'Gradient', 'min_data_in_leaf': 54}. Best is trial 16 with value: 0.9335946549661313.\n"
     ]
    },
    {
     "name": "stdout",
     "output_type": "stream",
     "text": [
      "[✓] 2025-05-07 19:12:57 | root            | INFO  | Trial 27 finished with f1: 0.9247 - params: {'iterations': 400, 'learning_rate': 0.05714782471074594, 'depth': 5, 'l2_leaf_reg': 5.6659670996963, 'random_strength': 6.054911115867343, 'early_stopping_rounds': 118, 'bagging_temperature': 4.379249312872672, 'boosting_type': 'Plain', 'bootstrap_type': 'MVS', 'grow_policy': 'Depthwise', 'leaf_estimation_method': 'Newton', 'min_data_in_leaf': 63}\n",
      "[✓] 2025-05-07 19:12:57 | root            | INFO  | Trial 27 finished with f1: 0.9247 - params: {'iterations': 400, 'learning_rate': 0.05714782471074594, 'depth': 5, 'l2_leaf_reg': 5.6659670996963, 'random_strength': 6.054911115867343, 'early_stopping_rounds': 118, 'bagging_temperature': 4.379249312872672, 'boosting_type': 'Plain', 'bootstrap_type': 'MVS', 'grow_policy': 'Depthwise', 'leaf_estimation_method': 'Newton', 'min_data_in_leaf': 63}\n"
     ]
    },
    {
     "name": "stderr",
     "output_type": "stream",
     "text": [
      "2025/05/07 19:12:57 INFO mlflow.tracking._tracking_service.client: 🏃 View run able-loon-138 at: https://dagshub.com/Akshat-Sharma-110011/Loan-Status-Approval.mlflow/#/experiments/1/runs/2a7379ea868f4918b4ecb42ddfd91a0f.\n",
      "2025/05/07 19:12:57 INFO mlflow.tracking._tracking_service.client: 🧪 View experiment at: https://dagshub.com/Akshat-Sharma-110011/Loan-Status-Approval.mlflow/#/experiments/1.\n",
      "[I 2025-05-07 19:12:58,208] Trial 27 finished with value: 0.9246726540075413 and parameters: {'iterations': 400, 'learning_rate': 0.05714782471074594, 'depth': 5, 'l2_leaf_reg': 5.6659670996963, 'random_strength': 6.054911115867343, 'early_stopping_rounds': 118, 'bagging_temperature': 4.379249312872672, 'boosting_type': 'Plain', 'bootstrap_type': 'MVS', 'grow_policy': 'Depthwise', 'leaf_estimation_method': 'Newton', 'min_data_in_leaf': 63}. Best is trial 16 with value: 0.9335946549661313.\n"
     ]
    },
    {
     "name": "stdout",
     "output_type": "stream",
     "text": [
      "[✓] 2025-05-07 19:13:00 | root            | INFO  | Trial 28 finished with f1: 0.9182 - params: {'iterations': 200, 'learning_rate': 0.08402538444406132, 'depth': 4, 'l2_leaf_reg': 7.1076005816211865, 'random_strength': 1.8690923752331128, 'early_stopping_rounds': 142, 'bagging_temperature': 8.462257449212558, 'boosting_type': 'Plain', 'bootstrap_type': 'MVS', 'grow_policy': 'Depthwise', 'leaf_estimation_method': 'Newton', 'min_data_in_leaf': 76}\n",
      "[✓] 2025-05-07 19:13:00 | root            | INFO  | Trial 28 finished with f1: 0.9182 - params: {'iterations': 200, 'learning_rate': 0.08402538444406132, 'depth': 4, 'l2_leaf_reg': 7.1076005816211865, 'random_strength': 1.8690923752331128, 'early_stopping_rounds': 142, 'bagging_temperature': 8.462257449212558, 'boosting_type': 'Plain', 'bootstrap_type': 'MVS', 'grow_policy': 'Depthwise', 'leaf_estimation_method': 'Newton', 'min_data_in_leaf': 76}\n"
     ]
    },
    {
     "name": "stderr",
     "output_type": "stream",
     "text": [
      "2025/05/07 19:13:01 INFO mlflow.tracking._tracking_service.client: 🏃 View run enchanting-lamb-655 at: https://dagshub.com/Akshat-Sharma-110011/Loan-Status-Approval.mlflow/#/experiments/1/runs/929ffe88d03e47d1890c8aa406d657f1.\n",
      "2025/05/07 19:13:01 INFO mlflow.tracking._tracking_service.client: 🧪 View experiment at: https://dagshub.com/Akshat-Sharma-110011/Loan-Status-Approval.mlflow/#/experiments/1.\n",
      "[I 2025-05-07 19:13:01,712] Trial 28 finished with value: 0.9182415339613843 and parameters: {'iterations': 200, 'learning_rate': 0.08402538444406132, 'depth': 4, 'l2_leaf_reg': 7.1076005816211865, 'random_strength': 1.8690923752331128, 'early_stopping_rounds': 142, 'bagging_temperature': 8.462257449212558, 'boosting_type': 'Plain', 'bootstrap_type': 'MVS', 'grow_policy': 'Depthwise', 'leaf_estimation_method': 'Newton', 'min_data_in_leaf': 76}. Best is trial 16 with value: 0.9335946549661313.\n"
     ]
    },
    {
     "name": "stdout",
     "output_type": "stream",
     "text": [
      "[✗] 2025-05-07 19:13:02 | root            | ERROR | Trial 29 failed: catboost/private/libs/options/catboost_options.cpp:758: Ordered boosting is not supported for nonsymmetric trees.\n",
      "[✗] 2025-05-07 19:13:02 | root            | ERROR | Trial 29 failed: catboost/private/libs/options/catboost_options.cpp:758: Ordered boosting is not supported for nonsymmetric trees.\n"
     ]
    },
    {
     "name": "stderr",
     "output_type": "stream",
     "text": [
      "2025/05/07 19:13:02 INFO mlflow.tracking._tracking_service.client: 🏃 View run receptive-snipe-634 at: https://dagshub.com/Akshat-Sharma-110011/Loan-Status-Approval.mlflow/#/experiments/1/runs/1f7c64983c0147ff8db7997bf580ab2f.\n",
      "2025/05/07 19:13:02 INFO mlflow.tracking._tracking_service.client: 🧪 View experiment at: https://dagshub.com/Akshat-Sharma-110011/Loan-Status-Approval.mlflow/#/experiments/1.\n",
      "[I 2025-05-07 19:13:03,272] Trial 29 finished with value: -inf and parameters: {'iterations': 900, 'learning_rate': 0.18950991456564725, 'depth': 7, 'l2_leaf_reg': 7.011974205559867, 'random_strength': 1.6570678064973887, 'early_stopping_rounds': 184, 'bagging_temperature': 7.345745804029258, 'boosting_type': 'Ordered', 'bootstrap_type': 'MVS', 'grow_policy': 'Depthwise', 'leaf_estimation_method': 'Newton', 'min_data_in_leaf': 39}. Best is trial 16 with value: 0.9335946549661313.\n"
     ]
    },
    {
     "name": "stdout",
     "output_type": "stream",
     "text": [
      "[✓] 2025-05-07 19:13:08 | root            | INFO  | Trial 30 finished with f1: 0.9267 - params: {'iterations': 400, 'learning_rate': 0.057563497370130466, 'depth': 6, 'l2_leaf_reg': 9.877910425515738, 'random_strength': 2.2106608206471936, 'early_stopping_rounds': 79, 'bagging_temperature': 6.08550070253489, 'boosting_type': 'Plain', 'bootstrap_type': 'MVS', 'grow_policy': 'Depthwise', 'leaf_estimation_method': 'Newton', 'min_data_in_leaf': 89}\n",
      "[✓] 2025-05-07 19:13:08 | root            | INFO  | Trial 30 finished with f1: 0.9267 - params: {'iterations': 400, 'learning_rate': 0.057563497370130466, 'depth': 6, 'l2_leaf_reg': 9.877910425515738, 'random_strength': 2.2106608206471936, 'early_stopping_rounds': 79, 'bagging_temperature': 6.08550070253489, 'boosting_type': 'Plain', 'bootstrap_type': 'MVS', 'grow_policy': 'Depthwise', 'leaf_estimation_method': 'Newton', 'min_data_in_leaf': 89}\n"
     ]
    },
    {
     "name": "stderr",
     "output_type": "stream",
     "text": [
      "2025/05/07 19:13:09 INFO mlflow.tracking._tracking_service.client: 🏃 View run judicious-fly-619 at: https://dagshub.com/Akshat-Sharma-110011/Loan-Status-Approval.mlflow/#/experiments/1/runs/48a07e19fe74403fb197c1c493613010.\n",
      "2025/05/07 19:13:09 INFO mlflow.tracking._tracking_service.client: 🧪 View experiment at: https://dagshub.com/Akshat-Sharma-110011/Loan-Status-Approval.mlflow/#/experiments/1.\n",
      "[I 2025-05-07 19:13:09,468] Trial 30 finished with value: 0.9267290956867826 and parameters: {'iterations': 400, 'learning_rate': 0.057563497370130466, 'depth': 6, 'l2_leaf_reg': 9.877910425515738, 'random_strength': 2.2106608206471936, 'early_stopping_rounds': 79, 'bagging_temperature': 6.08550070253489, 'boosting_type': 'Plain', 'bootstrap_type': 'MVS', 'grow_policy': 'Depthwise', 'leaf_estimation_method': 'Newton', 'min_data_in_leaf': 89}. Best is trial 16 with value: 0.9335946549661313.\n"
     ]
    },
    {
     "name": "stdout",
     "output_type": "stream",
     "text": [
      "[✓] 2025-05-07 19:13:14 | root            | INFO  | Trial 31 finished with f1: 0.9269 - params: {'iterations': 200, 'learning_rate': 0.13213375574018815, 'depth': 7, 'l2_leaf_reg': 7.580281547856318, 'random_strength': 3.3107685737070796, 'early_stopping_rounds': 133, 'bagging_temperature': 6.9814095269679255, 'boosting_type': 'Plain', 'bootstrap_type': 'MVS', 'grow_policy': 'Depthwise', 'leaf_estimation_method': 'Newton', 'min_data_in_leaf': 71}\n",
      "[✓] 2025-05-07 19:13:14 | root            | INFO  | Trial 31 finished with f1: 0.9269 - params: {'iterations': 200, 'learning_rate': 0.13213375574018815, 'depth': 7, 'l2_leaf_reg': 7.580281547856318, 'random_strength': 3.3107685737070796, 'early_stopping_rounds': 133, 'bagging_temperature': 6.9814095269679255, 'boosting_type': 'Plain', 'bootstrap_type': 'MVS', 'grow_policy': 'Depthwise', 'leaf_estimation_method': 'Newton', 'min_data_in_leaf': 71}\n"
     ]
    },
    {
     "name": "stderr",
     "output_type": "stream",
     "text": [
      "2025/05/07 19:13:15 INFO mlflow.tracking._tracking_service.client: 🏃 View run rare-squirrel-623 at: https://dagshub.com/Akshat-Sharma-110011/Loan-Status-Approval.mlflow/#/experiments/1/runs/ed145df841394548a09e062b3047991d.\n",
      "2025/05/07 19:13:15 INFO mlflow.tracking._tracking_service.client: 🧪 View experiment at: https://dagshub.com/Akshat-Sharma-110011/Loan-Status-Approval.mlflow/#/experiments/1.\n",
      "[I 2025-05-07 19:13:15,577] Trial 31 finished with value: 0.9269033212824755 and parameters: {'iterations': 200, 'learning_rate': 0.13213375574018815, 'depth': 7, 'l2_leaf_reg': 7.580281547856318, 'random_strength': 3.3107685737070796, 'early_stopping_rounds': 133, 'bagging_temperature': 6.9814095269679255, 'boosting_type': 'Plain', 'bootstrap_type': 'MVS', 'grow_policy': 'Depthwise', 'leaf_estimation_method': 'Newton', 'min_data_in_leaf': 71}. Best is trial 16 with value: 0.9335946549661313.\n"
     ]
    },
    {
     "name": "stdout",
     "output_type": "stream",
     "text": [
      "[✓] 2025-05-07 19:13:26 | root            | INFO  | Trial 32 finished with f1: 0.9277 - params: {'iterations': 600, 'learning_rate': 0.19209217104307885, 'depth': 8, 'l2_leaf_reg': 8.945819323139688, 'random_strength': 3.724816824990849, 'early_stopping_rounds': 115, 'bagging_temperature': 5.257355694343382, 'boosting_type': 'Plain', 'bootstrap_type': 'MVS', 'grow_policy': 'Depthwise', 'leaf_estimation_method': 'Newton', 'min_data_in_leaf': 77}\n",
      "[✓] 2025-05-07 19:13:26 | root            | INFO  | Trial 32 finished with f1: 0.9277 - params: {'iterations': 600, 'learning_rate': 0.19209217104307885, 'depth': 8, 'l2_leaf_reg': 8.945819323139688, 'random_strength': 3.724816824990849, 'early_stopping_rounds': 115, 'bagging_temperature': 5.257355694343382, 'boosting_type': 'Plain', 'bootstrap_type': 'MVS', 'grow_policy': 'Depthwise', 'leaf_estimation_method': 'Newton', 'min_data_in_leaf': 77}\n"
     ]
    },
    {
     "name": "stderr",
     "output_type": "stream",
     "text": [
      "2025/05/07 19:13:26 INFO mlflow.tracking._tracking_service.client: 🏃 View run blushing-kit-471 at: https://dagshub.com/Akshat-Sharma-110011/Loan-Status-Approval.mlflow/#/experiments/1/runs/a2b7c0c91eaa4d65aa116176d876ad9a.\n",
      "2025/05/07 19:13:26 INFO mlflow.tracking._tracking_service.client: 🧪 View experiment at: https://dagshub.com/Akshat-Sharma-110011/Loan-Status-Approval.mlflow/#/experiments/1.\n",
      "[I 2025-05-07 19:13:26,777] Trial 32 finished with value: 0.927696952346507 and parameters: {'iterations': 600, 'learning_rate': 0.19209217104307885, 'depth': 8, 'l2_leaf_reg': 8.945819323139688, 'random_strength': 3.724816824990849, 'early_stopping_rounds': 115, 'bagging_temperature': 5.257355694343382, 'boosting_type': 'Plain', 'bootstrap_type': 'MVS', 'grow_policy': 'Depthwise', 'leaf_estimation_method': 'Newton', 'min_data_in_leaf': 77}. Best is trial 16 with value: 0.9335946549661313.\n"
     ]
    },
    {
     "name": "stdout",
     "output_type": "stream",
     "text": [
      "[✓] 2025-05-07 19:13:37 | root            | INFO  | Trial 33 finished with f1: 0.9290 - params: {'iterations': 300, 'learning_rate': 0.28350458660957606, 'depth': 7, 'l2_leaf_reg': 8.09414795587896, 'random_strength': 6.1553819106247545, 'early_stopping_rounds': 152, 'bagging_temperature': 6.256960413849821, 'boosting_type': 'Plain', 'bootstrap_type': 'MVS', 'grow_policy': 'Depthwise', 'leaf_estimation_method': 'Newton', 'min_data_in_leaf': 56}\n",
      "[✓] 2025-05-07 19:13:37 | root            | INFO  | Trial 33 finished with f1: 0.9290 - params: {'iterations': 300, 'learning_rate': 0.28350458660957606, 'depth': 7, 'l2_leaf_reg': 8.09414795587896, 'random_strength': 6.1553819106247545, 'early_stopping_rounds': 152, 'bagging_temperature': 6.256960413849821, 'boosting_type': 'Plain', 'bootstrap_type': 'MVS', 'grow_policy': 'Depthwise', 'leaf_estimation_method': 'Newton', 'min_data_in_leaf': 56}\n"
     ]
    },
    {
     "name": "stderr",
     "output_type": "stream",
     "text": [
      "2025/05/07 19:13:37 INFO mlflow.tracking._tracking_service.client: 🏃 View run flawless-moth-97 at: https://dagshub.com/Akshat-Sharma-110011/Loan-Status-Approval.mlflow/#/experiments/1/runs/17c7d0f548aa480f8126f81902b52f4d.\n",
      "2025/05/07 19:13:37 INFO mlflow.tracking._tracking_service.client: 🧪 View experiment at: https://dagshub.com/Akshat-Sharma-110011/Loan-Status-Approval.mlflow/#/experiments/1.\n",
      "[I 2025-05-07 19:13:38,191] Trial 33 finished with value: 0.9289716511053991 and parameters: {'iterations': 300, 'learning_rate': 0.28350458660957606, 'depth': 7, 'l2_leaf_reg': 8.09414795587896, 'random_strength': 6.1553819106247545, 'early_stopping_rounds': 152, 'bagging_temperature': 6.256960413849821, 'boosting_type': 'Plain', 'bootstrap_type': 'MVS', 'grow_policy': 'Depthwise', 'leaf_estimation_method': 'Newton', 'min_data_in_leaf': 56}. Best is trial 16 with value: 0.9335946549661313.\n"
     ]
    },
    {
     "name": "stdout",
     "output_type": "stream",
     "text": [
      "[✗] 2025-05-07 19:13:39 | root            | ERROR | Trial 34 failed: catboost/private/libs/options/catboost_options.cpp:758: Ordered boosting is not supported for nonsymmetric trees.\n",
      "[✗] 2025-05-07 19:13:39 | root            | ERROR | Trial 34 failed: catboost/private/libs/options/catboost_options.cpp:758: Ordered boosting is not supported for nonsymmetric trees.\n"
     ]
    },
    {
     "name": "stderr",
     "output_type": "stream",
     "text": [
      "2025/05/07 19:13:39 INFO mlflow.tracking._tracking_service.client: 🏃 View run adventurous-mink-518 at: https://dagshub.com/Akshat-Sharma-110011/Loan-Status-Approval.mlflow/#/experiments/1/runs/93094378aca1407a85e92c81b26e5777.\n",
      "2025/05/07 19:13:39 INFO mlflow.tracking._tracking_service.client: 🧪 View experiment at: https://dagshub.com/Akshat-Sharma-110011/Loan-Status-Approval.mlflow/#/experiments/1.\n",
      "[I 2025-05-07 19:13:39,826] Trial 34 finished with value: -inf and parameters: {'iterations': 700, 'learning_rate': 0.09653612004606231, 'depth': 6, 'l2_leaf_reg': 5.943795165888563, 'random_strength': 2.969685532856335, 'early_stopping_rounds': 103, 'bagging_temperature': 7.242780700593782, 'boosting_type': 'Ordered', 'bootstrap_type': 'MVS', 'grow_policy': 'Depthwise', 'leaf_estimation_method': 'Newton', 'min_data_in_leaf': 47}. Best is trial 16 with value: 0.9335946549661313.\n"
     ]
    },
    {
     "name": "stdout",
     "output_type": "stream",
     "text": [
      "[✓] 2025-05-07 19:13:52 | root            | INFO  | Trial 35 finished with f1: 0.9301 - params: {'iterations': 400, 'learning_rate': 0.15489609425172626, 'depth': 8, 'l2_leaf_reg': 4.955942147201773, 'random_strength': 1.3620176821154215, 'early_stopping_rounds': 134, 'bagging_temperature': 9.827014167353731, 'boosting_type': 'Plain', 'bootstrap_type': 'MVS', 'grow_policy': 'Depthwise', 'leaf_estimation_method': 'Newton', 'min_data_in_leaf': 67}\n",
      "[✓] 2025-05-07 19:13:52 | root            | INFO  | Trial 35 finished with f1: 0.9301 - params: {'iterations': 400, 'learning_rate': 0.15489609425172626, 'depth': 8, 'l2_leaf_reg': 4.955942147201773, 'random_strength': 1.3620176821154215, 'early_stopping_rounds': 134, 'bagging_temperature': 9.827014167353731, 'boosting_type': 'Plain', 'bootstrap_type': 'MVS', 'grow_policy': 'Depthwise', 'leaf_estimation_method': 'Newton', 'min_data_in_leaf': 67}\n"
     ]
    },
    {
     "name": "stderr",
     "output_type": "stream",
     "text": [
      "2025/05/07 19:13:53 INFO mlflow.tracking._tracking_service.client: 🏃 View run clean-finch-684 at: https://dagshub.com/Akshat-Sharma-110011/Loan-Status-Approval.mlflow/#/experiments/1/runs/8e4761325e0449778049f2c3e3c859f8.\n",
      "2025/05/07 19:13:53 INFO mlflow.tracking._tracking_service.client: 🧪 View experiment at: https://dagshub.com/Akshat-Sharma-110011/Loan-Status-Approval.mlflow/#/experiments/1.\n",
      "[I 2025-05-07 19:13:53,771] Trial 35 finished with value: 0.9300770943245855 and parameters: {'iterations': 400, 'learning_rate': 0.15489609425172626, 'depth': 8, 'l2_leaf_reg': 4.955942147201773, 'random_strength': 1.3620176821154215, 'early_stopping_rounds': 134, 'bagging_temperature': 9.827014167353731, 'boosting_type': 'Plain', 'bootstrap_type': 'MVS', 'grow_policy': 'Depthwise', 'leaf_estimation_method': 'Newton', 'min_data_in_leaf': 67}. Best is trial 16 with value: 0.9335946549661313.\n"
     ]
    },
    {
     "name": "stdout",
     "output_type": "stream",
     "text": [
      "[✓] 2025-05-07 19:14:04 | root            | INFO  | Trial 36 finished with f1: 0.9190 - params: {'iterations': 200, 'learning_rate': 0.056565597611822185, 'depth': 7, 'l2_leaf_reg': 9.348468517045102, 'random_strength': 0.8542297793621813, 'early_stopping_rounds': 117, 'bagging_temperature': 9.108422619335123, 'boosting_type': 'Plain', 'bootstrap_type': 'MVS', 'grow_policy': 'Depthwise', 'leaf_estimation_method': 'Gradient', 'min_data_in_leaf': 35}\n",
      "[✓] 2025-05-07 19:14:04 | root            | INFO  | Trial 36 finished with f1: 0.9190 - params: {'iterations': 200, 'learning_rate': 0.056565597611822185, 'depth': 7, 'l2_leaf_reg': 9.348468517045102, 'random_strength': 0.8542297793621813, 'early_stopping_rounds': 117, 'bagging_temperature': 9.108422619335123, 'boosting_type': 'Plain', 'bootstrap_type': 'MVS', 'grow_policy': 'Depthwise', 'leaf_estimation_method': 'Gradient', 'min_data_in_leaf': 35}\n"
     ]
    },
    {
     "name": "stderr",
     "output_type": "stream",
     "text": [
      "2025/05/07 19:14:04 INFO mlflow.tracking._tracking_service.client: 🏃 View run invincible-hen-608 at: https://dagshub.com/Akshat-Sharma-110011/Loan-Status-Approval.mlflow/#/experiments/1/runs/646eda7b6f9e45fd8e7be2a988e54e94.\n",
      "2025/05/07 19:14:04 INFO mlflow.tracking._tracking_service.client: 🧪 View experiment at: https://dagshub.com/Akshat-Sharma-110011/Loan-Status-Approval.mlflow/#/experiments/1.\n",
      "[I 2025-05-07 19:14:05,357] Trial 36 finished with value: 0.919015207081214 and parameters: {'iterations': 200, 'learning_rate': 0.056565597611822185, 'depth': 7, 'l2_leaf_reg': 9.348468517045102, 'random_strength': 0.8542297793621813, 'early_stopping_rounds': 117, 'bagging_temperature': 9.108422619335123, 'boosting_type': 'Plain', 'bootstrap_type': 'MVS', 'grow_policy': 'Depthwise', 'leaf_estimation_method': 'Gradient', 'min_data_in_leaf': 35}. Best is trial 16 with value: 0.9335946549661313.\n"
     ]
    },
    {
     "name": "stdout",
     "output_type": "stream",
     "text": [
      "[✓] 2025-05-07 19:14:16 | root            | INFO  | Trial 37 finished with f1: 0.9296 - params: {'iterations': 500, 'learning_rate': 0.2352700369845019, 'depth': 8, 'l2_leaf_reg': 6.838995052529303, 'random_strength': 4.748294808642752, 'early_stopping_rounds': 102, 'bagging_temperature': 8.100337461449401, 'boosting_type': 'Plain', 'bootstrap_type': 'MVS', 'grow_policy': 'Depthwise', 'leaf_estimation_method': 'Newton', 'min_data_in_leaf': 75}\n",
      "[✓] 2025-05-07 19:14:16 | root            | INFO  | Trial 37 finished with f1: 0.9296 - params: {'iterations': 500, 'learning_rate': 0.2352700369845019, 'depth': 8, 'l2_leaf_reg': 6.838995052529303, 'random_strength': 4.748294808642752, 'early_stopping_rounds': 102, 'bagging_temperature': 8.100337461449401, 'boosting_type': 'Plain', 'bootstrap_type': 'MVS', 'grow_policy': 'Depthwise', 'leaf_estimation_method': 'Newton', 'min_data_in_leaf': 75}\n"
     ]
    },
    {
     "name": "stderr",
     "output_type": "stream",
     "text": [
      "2025/05/07 19:14:17 INFO mlflow.tracking._tracking_service.client: 🏃 View run sassy-yak-80 at: https://dagshub.com/Akshat-Sharma-110011/Loan-Status-Approval.mlflow/#/experiments/1/runs/1bede42ccb444cfe914bf4a40d4ae266.\n",
      "2025/05/07 19:14:17 INFO mlflow.tracking._tracking_service.client: 🧪 View experiment at: https://dagshub.com/Akshat-Sharma-110011/Loan-Status-Approval.mlflow/#/experiments/1.\n",
      "[I 2025-05-07 19:14:17,746] Trial 37 finished with value: 0.9296152938746218 and parameters: {'iterations': 500, 'learning_rate': 0.2352700369845019, 'depth': 8, 'l2_leaf_reg': 6.838995052529303, 'random_strength': 4.748294808642752, 'early_stopping_rounds': 102, 'bagging_temperature': 8.100337461449401, 'boosting_type': 'Plain', 'bootstrap_type': 'MVS', 'grow_policy': 'Depthwise', 'leaf_estimation_method': 'Newton', 'min_data_in_leaf': 75}. Best is trial 16 with value: 0.9335946549661313.\n"
     ]
    },
    {
     "name": "stdout",
     "output_type": "stream",
     "text": [
      "[✓] 2025-05-07 19:14:21 | root            | INFO  | Trial 38 finished with f1: 0.8719 - params: {'iterations': 100, 'learning_rate': 0.04383955417841256, 'depth': 4, 'l2_leaf_reg': 8.650211157214681, 'random_strength': 5.784174322190745, 'early_stopping_rounds': 169, 'bagging_temperature': 3.8361461084063793, 'boosting_type': 'Ordered', 'bootstrap_type': 'MVS', 'grow_policy': 'SymmetricTree', 'leaf_estimation_method': 'Newton'}\n",
      "[✓] 2025-05-07 19:14:21 | root            | INFO  | Trial 38 finished with f1: 0.8719 - params: {'iterations': 100, 'learning_rate': 0.04383955417841256, 'depth': 4, 'l2_leaf_reg': 8.650211157214681, 'random_strength': 5.784174322190745, 'early_stopping_rounds': 169, 'bagging_temperature': 3.8361461084063793, 'boosting_type': 'Ordered', 'bootstrap_type': 'MVS', 'grow_policy': 'SymmetricTree', 'leaf_estimation_method': 'Newton'}\n"
     ]
    },
    {
     "name": "stderr",
     "output_type": "stream",
     "text": [
      "2025/05/07 19:14:21 INFO mlflow.tracking._tracking_service.client: 🏃 View run wise-snipe-545 at: https://dagshub.com/Akshat-Sharma-110011/Loan-Status-Approval.mlflow/#/experiments/1/runs/c1bcc48408034c6b997cdc31da892380.\n",
      "2025/05/07 19:14:21 INFO mlflow.tracking._tracking_service.client: 🧪 View experiment at: https://dagshub.com/Akshat-Sharma-110011/Loan-Status-Approval.mlflow/#/experiments/1.\n",
      "[I 2025-05-07 19:14:22,009] Trial 38 finished with value: 0.8719400687125592 and parameters: {'iterations': 100, 'learning_rate': 0.04383955417841256, 'depth': 4, 'l2_leaf_reg': 8.650211157214681, 'random_strength': 5.784174322190745, 'early_stopping_rounds': 169, 'bagging_temperature': 3.8361461084063793, 'boosting_type': 'Ordered', 'bootstrap_type': 'MVS', 'grow_policy': 'SymmetricTree', 'leaf_estimation_method': 'Newton'}. Best is trial 16 with value: 0.9335946549661313.\n"
     ]
    },
    {
     "name": "stdout",
     "output_type": "stream",
     "text": [
      "[✗] 2025-05-07 19:14:22 | root            | ERROR | Trial 39 failed: catboost/private/libs/options/bootstrap_options.cpp:44: Error: bagging temperature available for bayesian bootstrap only\n",
      "[✗] 2025-05-07 19:14:22 | root            | ERROR | Trial 39 failed: catboost/private/libs/options/bootstrap_options.cpp:44: Error: bagging temperature available for bayesian bootstrap only\n"
     ]
    },
    {
     "name": "stderr",
     "output_type": "stream",
     "text": [
      "2025/05/07 19:14:23 INFO mlflow.tracking._tracking_service.client: 🏃 View run casual-gnat-304 at: https://dagshub.com/Akshat-Sharma-110011/Loan-Status-Approval.mlflow/#/experiments/1/runs/37b8dcc10eea465d974de0e8f649461f.\n",
      "2025/05/07 19:14:23 INFO mlflow.tracking._tracking_service.client: 🧪 View experiment at: https://dagshub.com/Akshat-Sharma-110011/Loan-Status-Approval.mlflow/#/experiments/1.\n",
      "[I 2025-05-07 19:14:23,582] Trial 39 finished with value: -inf and parameters: {'iterations': 300, 'learning_rate': 0.07055826743720435, 'depth': 7, 'l2_leaf_reg': 6.101066712647601, 'random_strength': 7.817114999889293, 'early_stopping_rounds': 90, 'bagging_temperature': 6.474701615128398, 'boosting_type': 'Plain', 'bootstrap_type': 'Bernoulli', 'grow_policy': 'Depthwise', 'leaf_estimation_method': 'Newton', 'subsample': 0.5353834711148545, 'min_data_in_leaf': 100}. Best is trial 16 with value: 0.9335946549661313.\n"
     ]
    },
    {
     "name": "stdout",
     "output_type": "stream",
     "text": [
      "[✗] 2025-05-07 19:14:24 | root            | ERROR | Trial 40 failed: catboost/private/libs/options/catboost_options.cpp:758: Ordered boosting is not supported for nonsymmetric trees.\n",
      "[✗] 2025-05-07 19:14:24 | root            | ERROR | Trial 40 failed: catboost/private/libs/options/catboost_options.cpp:758: Ordered boosting is not supported for nonsymmetric trees.\n"
     ]
    },
    {
     "name": "stderr",
     "output_type": "stream",
     "text": [
      "2025/05/07 19:14:24 INFO mlflow.tracking._tracking_service.client: 🏃 View run indecisive-snake-687 at: https://dagshub.com/Akshat-Sharma-110011/Loan-Status-Approval.mlflow/#/experiments/1/runs/287d900e420b4a41814eb84d1d6e3ed3.\n",
      "2025/05/07 19:14:24 INFO mlflow.tracking._tracking_service.client: 🧪 View experiment at: https://dagshub.com/Akshat-Sharma-110011/Loan-Status-Approval.mlflow/#/experiments/1.\n",
      "[I 2025-05-07 19:14:25,154] Trial 40 finished with value: -inf and parameters: {'iterations': 600, 'learning_rate': 0.11905418086280065, 'depth': 6, 'l2_leaf_reg': 3.1053242849333405, 'random_strength': 1.183952905326778, 'early_stopping_rounds': 109, 'bagging_temperature': 8.51815562207709, 'boosting_type': 'Ordered', 'bootstrap_type': 'MVS', 'grow_policy': 'Depthwise', 'leaf_estimation_method': 'Gradient', 'min_data_in_leaf': 87}. Best is trial 16 with value: 0.9335946549661313.\n"
     ]
    },
    {
     "name": "stdout",
     "output_type": "stream",
     "text": [
      "[✓] 2025-05-07 19:14:34 | root            | INFO  | Trial 41 finished with f1: 0.9278 - params: {'iterations': 300, 'learning_rate': 0.15062971379261608, 'depth': 6, 'l2_leaf_reg': 7.770253381019884, 'random_strength': 3.8512328465113796, 'early_stopping_rounds': 156, 'bagging_temperature': 7.803893730346813, 'boosting_type': 'Plain', 'bootstrap_type': 'MVS', 'grow_policy': 'Depthwise', 'leaf_estimation_method': 'Newton', 'min_data_in_leaf': 55}\n",
      "[✓] 2025-05-07 19:14:34 | root            | INFO  | Trial 41 finished with f1: 0.9278 - params: {'iterations': 300, 'learning_rate': 0.15062971379261608, 'depth': 6, 'l2_leaf_reg': 7.770253381019884, 'random_strength': 3.8512328465113796, 'early_stopping_rounds': 156, 'bagging_temperature': 7.803893730346813, 'boosting_type': 'Plain', 'bootstrap_type': 'MVS', 'grow_policy': 'Depthwise', 'leaf_estimation_method': 'Newton', 'min_data_in_leaf': 55}\n"
     ]
    },
    {
     "name": "stderr",
     "output_type": "stream",
     "text": [
      "2025/05/07 19:14:35 INFO mlflow.tracking._tracking_service.client: 🏃 View run bemused-stork-45 at: https://dagshub.com/Akshat-Sharma-110011/Loan-Status-Approval.mlflow/#/experiments/1/runs/1113ff819bd440e491d8a990a79239fa.\n",
      "2025/05/07 19:14:35 INFO mlflow.tracking._tracking_service.client: 🧪 View experiment at: https://dagshub.com/Akshat-Sharma-110011/Loan-Status-Approval.mlflow/#/experiments/1.\n",
      "[I 2025-05-07 19:14:36,120] Trial 41 finished with value: 0.9277808086318724 and parameters: {'iterations': 300, 'learning_rate': 0.15062971379261608, 'depth': 6, 'l2_leaf_reg': 7.770253381019884, 'random_strength': 3.8512328465113796, 'early_stopping_rounds': 156, 'bagging_temperature': 7.803893730346813, 'boosting_type': 'Plain', 'bootstrap_type': 'MVS', 'grow_policy': 'Depthwise', 'leaf_estimation_method': 'Newton', 'min_data_in_leaf': 55}. Best is trial 16 with value: 0.9335946549661313.\n"
     ]
    },
    {
     "name": "stdout",
     "output_type": "stream",
     "text": [
      "[✓] 2025-05-07 19:14:40 | root            | INFO  | Trial 42 finished with f1: 0.9235 - params: {'iterations': 300, 'learning_rate': 0.08615275795696371, 'depth': 5, 'l2_leaf_reg': 8.05473343032529, 'random_strength': 5.4277353008317135, 'early_stopping_rounds': 150, 'bagging_temperature': 9.475538424246661, 'boosting_type': 'Plain', 'bootstrap_type': 'MVS', 'grow_policy': 'Depthwise', 'leaf_estimation_method': 'Newton', 'min_data_in_leaf': 51}\n",
      "[✓] 2025-05-07 19:14:40 | root            | INFO  | Trial 42 finished with f1: 0.9235 - params: {'iterations': 300, 'learning_rate': 0.08615275795696371, 'depth': 5, 'l2_leaf_reg': 8.05473343032529, 'random_strength': 5.4277353008317135, 'early_stopping_rounds': 150, 'bagging_temperature': 9.475538424246661, 'boosting_type': 'Plain', 'bootstrap_type': 'MVS', 'grow_policy': 'Depthwise', 'leaf_estimation_method': 'Newton', 'min_data_in_leaf': 51}\n"
     ]
    },
    {
     "name": "stderr",
     "output_type": "stream",
     "text": [
      "2025/05/07 19:14:41 INFO mlflow.tracking._tracking_service.client: 🏃 View run rebellious-steed-200 at: https://dagshub.com/Akshat-Sharma-110011/Loan-Status-Approval.mlflow/#/experiments/1/runs/6223afb3e3ef40dba8abcef937c46133.\n",
      "2025/05/07 19:14:41 INFO mlflow.tracking._tracking_service.client: 🧪 View experiment at: https://dagshub.com/Akshat-Sharma-110011/Loan-Status-Approval.mlflow/#/experiments/1.\n",
      "[I 2025-05-07 19:14:42,577] Trial 42 finished with value: 0.9234504054982338 and parameters: {'iterations': 300, 'learning_rate': 0.08615275795696371, 'depth': 5, 'l2_leaf_reg': 8.05473343032529, 'random_strength': 5.4277353008317135, 'early_stopping_rounds': 150, 'bagging_temperature': 9.475538424246661, 'boosting_type': 'Plain', 'bootstrap_type': 'MVS', 'grow_policy': 'Depthwise', 'leaf_estimation_method': 'Newton', 'min_data_in_leaf': 51}. Best is trial 16 with value: 0.9335946549661313.\n"
     ]
    },
    {
     "name": "stdout",
     "output_type": "stream",
     "text": [
      "[✓] 2025-05-07 19:14:52 | root            | INFO  | Trial 43 finished with f1: 0.9291 - params: {'iterations': 400, 'learning_rate': 0.23915896507557283, 'depth': 7, 'l2_leaf_reg': 7.450640442596955, 'random_strength': 4.498228579771838, 'early_stopping_rounds': 135, 'bagging_temperature': 5.715528971080859, 'boosting_type': 'Plain', 'bootstrap_type': 'MVS', 'grow_policy': 'Depthwise', 'leaf_estimation_method': 'Newton', 'min_data_in_leaf': 61}\n",
      "[✓] 2025-05-07 19:14:52 | root            | INFO  | Trial 43 finished with f1: 0.9291 - params: {'iterations': 400, 'learning_rate': 0.23915896507557283, 'depth': 7, 'l2_leaf_reg': 7.450640442596955, 'random_strength': 4.498228579771838, 'early_stopping_rounds': 135, 'bagging_temperature': 5.715528971080859, 'boosting_type': 'Plain', 'bootstrap_type': 'MVS', 'grow_policy': 'Depthwise', 'leaf_estimation_method': 'Newton', 'min_data_in_leaf': 61}\n"
     ]
    },
    {
     "name": "stderr",
     "output_type": "stream",
     "text": [
      "2025/05/07 19:14:52 INFO mlflow.tracking._tracking_service.client: 🏃 View run gaudy-cub-209 at: https://dagshub.com/Akshat-Sharma-110011/Loan-Status-Approval.mlflow/#/experiments/1/runs/173e0653dbc7415c85b711f30066c37e.\n",
      "2025/05/07 19:14:52 INFO mlflow.tracking._tracking_service.client: 🧪 View experiment at: https://dagshub.com/Akshat-Sharma-110011/Loan-Status-Approval.mlflow/#/experiments/1.\n",
      "[I 2025-05-07 19:14:53,156] Trial 43 finished with value: 0.9291037851747551 and parameters: {'iterations': 400, 'learning_rate': 0.23915896507557283, 'depth': 7, 'l2_leaf_reg': 7.450640442596955, 'random_strength': 4.498228579771838, 'early_stopping_rounds': 135, 'bagging_temperature': 5.715528971080859, 'boosting_type': 'Plain', 'bootstrap_type': 'MVS', 'grow_policy': 'Depthwise', 'leaf_estimation_method': 'Newton', 'min_data_in_leaf': 61}. Best is trial 16 with value: 0.9335946549661313.\n"
     ]
    },
    {
     "name": "stdout",
     "output_type": "stream",
     "text": [
      "[✓] 2025-05-07 19:14:56 | root            | INFO  | Trial 44 finished with f1: 0.8954 - params: {'iterations': 200, 'learning_rate': 0.0265501608549005, 'depth': 5, 'l2_leaf_reg': 6.699118823163996, 'random_strength': 2.0949297614633204, 'early_stopping_rounds': 160, 'bagging_temperature': 7.713444869530659, 'boosting_type': 'Plain', 'bootstrap_type': 'MVS', 'grow_policy': 'Depthwise', 'leaf_estimation_method': 'Newton', 'min_data_in_leaf': 73}\n",
      "[✓] 2025-05-07 19:14:56 | root            | INFO  | Trial 44 finished with f1: 0.8954 - params: {'iterations': 200, 'learning_rate': 0.0265501608549005, 'depth': 5, 'l2_leaf_reg': 6.699118823163996, 'random_strength': 2.0949297614633204, 'early_stopping_rounds': 160, 'bagging_temperature': 7.713444869530659, 'boosting_type': 'Plain', 'bootstrap_type': 'MVS', 'grow_policy': 'Depthwise', 'leaf_estimation_method': 'Newton', 'min_data_in_leaf': 73}\n"
     ]
    },
    {
     "name": "stderr",
     "output_type": "stream",
     "text": [
      "2025/05/07 19:14:56 INFO mlflow.tracking._tracking_service.client: 🏃 View run lyrical-seal-256 at: https://dagshub.com/Akshat-Sharma-110011/Loan-Status-Approval.mlflow/#/experiments/1/runs/3f26d7b68fcf46ee9beb8ca60297eee2.\n",
      "2025/05/07 19:14:56 INFO mlflow.tracking._tracking_service.client: 🧪 View experiment at: https://dagshub.com/Akshat-Sharma-110011/Loan-Status-Approval.mlflow/#/experiments/1.\n",
      "[I 2025-05-07 19:14:57,156] Trial 44 finished with value: 0.8954284064846169 and parameters: {'iterations': 200, 'learning_rate': 0.0265501608549005, 'depth': 5, 'l2_leaf_reg': 6.699118823163996, 'random_strength': 2.0949297614633204, 'early_stopping_rounds': 160, 'bagging_temperature': 7.713444869530659, 'boosting_type': 'Plain', 'bootstrap_type': 'MVS', 'grow_policy': 'Depthwise', 'leaf_estimation_method': 'Newton', 'min_data_in_leaf': 73}. Best is trial 16 with value: 0.9335946549661313.\n"
     ]
    },
    {
     "name": "stdout",
     "output_type": "stream",
     "text": [
      "[✓] 2025-05-07 19:15:08 | root            | INFO  | Trial 45 finished with f1: 0.9299 - params: {'iterations': 500, 'learning_rate': 0.16837869223470284, 'depth': 6, 'l2_leaf_reg': 4.440176904267941, 'random_strength': 7.771766231535747, 'early_stopping_rounds': 179, 'bagging_temperature': 6.911939624992687, 'boosting_type': 'Plain', 'bootstrap_type': 'MVS', 'grow_policy': 'Depthwise', 'leaf_estimation_method': 'Newton', 'min_data_in_leaf': 25}\n",
      "[✓] 2025-05-07 19:15:08 | root            | INFO  | Trial 45 finished with f1: 0.9299 - params: {'iterations': 500, 'learning_rate': 0.16837869223470284, 'depth': 6, 'l2_leaf_reg': 4.440176904267941, 'random_strength': 7.771766231535747, 'early_stopping_rounds': 179, 'bagging_temperature': 6.911939624992687, 'boosting_type': 'Plain', 'bootstrap_type': 'MVS', 'grow_policy': 'Depthwise', 'leaf_estimation_method': 'Newton', 'min_data_in_leaf': 25}\n"
     ]
    },
    {
     "name": "stderr",
     "output_type": "stream",
     "text": [
      "2025/05/07 19:15:09 INFO mlflow.tracking._tracking_service.client: 🏃 View run chill-skink-637 at: https://dagshub.com/Akshat-Sharma-110011/Loan-Status-Approval.mlflow/#/experiments/1/runs/8744b40ae7a24bb6ad990d9a2e8cdf6c.\n",
      "2025/05/07 19:15:09 INFO mlflow.tracking._tracking_service.client: 🧪 View experiment at: https://dagshub.com/Akshat-Sharma-110011/Loan-Status-Approval.mlflow/#/experiments/1.\n",
      "[I 2025-05-07 19:15:09,499] Trial 45 finished with value: 0.9298891192819524 and parameters: {'iterations': 500, 'learning_rate': 0.16837869223470284, 'depth': 6, 'l2_leaf_reg': 4.440176904267941, 'random_strength': 7.771766231535747, 'early_stopping_rounds': 179, 'bagging_temperature': 6.911939624992687, 'boosting_type': 'Plain', 'bootstrap_type': 'MVS', 'grow_policy': 'Depthwise', 'leaf_estimation_method': 'Newton', 'min_data_in_leaf': 25}. Best is trial 16 with value: 0.9335946549661313.\n"
     ]
    },
    {
     "name": "stdout",
     "output_type": "stream",
     "text": [
      "[✓] 2025-05-07 19:15:13 | root            | INFO  | Trial 46 finished with f1: 0.9166 - params: {'iterations': 100, 'learning_rate': 0.12227164468620896, 'depth': 7, 'l2_leaf_reg': 8.378643962726562, 'random_strength': 0.9250411290896827, 'early_stopping_rounds': 125, 'bagging_temperature': 8.579116880353489, 'boosting_type': 'Plain', 'bootstrap_type': 'MVS', 'grow_policy': 'SymmetricTree', 'leaf_estimation_method': 'Newton'}\n",
      "[✓] 2025-05-07 19:15:13 | root            | INFO  | Trial 46 finished with f1: 0.9166 - params: {'iterations': 100, 'learning_rate': 0.12227164468620896, 'depth': 7, 'l2_leaf_reg': 8.378643962726562, 'random_strength': 0.9250411290896827, 'early_stopping_rounds': 125, 'bagging_temperature': 8.579116880353489, 'boosting_type': 'Plain', 'bootstrap_type': 'MVS', 'grow_policy': 'SymmetricTree', 'leaf_estimation_method': 'Newton'}\n"
     ]
    },
    {
     "name": "stderr",
     "output_type": "stream",
     "text": [
      "2025/05/07 19:15:14 INFO mlflow.tracking._tracking_service.client: 🏃 View run nervous-pug-374 at: https://dagshub.com/Akshat-Sharma-110011/Loan-Status-Approval.mlflow/#/experiments/1/runs/7d0e7d0b4a184b44bbdccd53ab9489a4.\n",
      "2025/05/07 19:15:14 INFO mlflow.tracking._tracking_service.client: 🧪 View experiment at: https://dagshub.com/Akshat-Sharma-110011/Loan-Status-Approval.mlflow/#/experiments/1.\n",
      "[I 2025-05-07 19:15:14,440] Trial 46 finished with value: 0.9166190334577613 and parameters: {'iterations': 100, 'learning_rate': 0.12227164468620896, 'depth': 7, 'l2_leaf_reg': 8.378643962726562, 'random_strength': 0.9250411290896827, 'early_stopping_rounds': 125, 'bagging_temperature': 8.579116880353489, 'boosting_type': 'Plain', 'bootstrap_type': 'MVS', 'grow_policy': 'SymmetricTree', 'leaf_estimation_method': 'Newton'}. Best is trial 16 with value: 0.9335946549661313.\n"
     ]
    },
    {
     "name": "stdout",
     "output_type": "stream",
     "text": [
      "[✗] 2025-05-07 19:15:15 | root            | ERROR | Trial 47 failed: catboost/private/libs/options/bootstrap_options.cpp:44: Error: bagging temperature available for bayesian bootstrap only\n",
      "[✗] 2025-05-07 19:15:15 | root            | ERROR | Trial 47 failed: catboost/private/libs/options/bootstrap_options.cpp:44: Error: bagging temperature available for bayesian bootstrap only\n"
     ]
    },
    {
     "name": "stderr",
     "output_type": "stream",
     "text": [
      "2025/05/07 19:15:15 INFO mlflow.tracking._tracking_service.client: 🏃 View run mercurial-eel-907 at: https://dagshub.com/Akshat-Sharma-110011/Loan-Status-Approval.mlflow/#/experiments/1/runs/63ee91eb17d949eda77ada39d0dfe55a.\n",
      "2025/05/07 19:15:15 INFO mlflow.tracking._tracking_service.client: 🧪 View experiment at: https://dagshub.com/Akshat-Sharma-110011/Loan-Status-Approval.mlflow/#/experiments/1.\n",
      "[I 2025-05-07 19:15:16,194] Trial 47 finished with value: -inf and parameters: {'iterations': 800, 'learning_rate': 0.001193266655764206, 'depth': 8, 'l2_leaf_reg': 9.075714144019969, 'random_strength': 3.036490782268619, 'early_stopping_rounds': 123, 'bagging_temperature': 5.168358878012419, 'boosting_type': 'Plain', 'bootstrap_type': 'Bernoulli', 'grow_policy': 'Depthwise', 'leaf_estimation_method': 'Newton', 'subsample': 0.562753531511393, 'min_data_in_leaf': 67}. Best is trial 16 with value: 0.9335946549661313.\n"
     ]
    },
    {
     "name": "stdout",
     "output_type": "stream",
     "text": [
      "[✓] 2025-05-07 19:15:24 | root            | INFO  | Trial 48 finished with f1: 0.9076 - params: {'iterations': 300, 'learning_rate': 0.07223559346150855, 'depth': 6, 'l2_leaf_reg': 5.213981310126659, 'random_strength': 1.6287971469849214, 'early_stopping_rounds': 148, 'bagging_temperature': 4.6938687142696045, 'boosting_type': 'Plain', 'bootstrap_type': 'Bayesian', 'grow_policy': 'Depthwise', 'leaf_estimation_method': 'Newton', 'min_data_in_leaf': 78}\n",
      "[✓] 2025-05-07 19:15:24 | root            | INFO  | Trial 48 finished with f1: 0.9076 - params: {'iterations': 300, 'learning_rate': 0.07223559346150855, 'depth': 6, 'l2_leaf_reg': 5.213981310126659, 'random_strength': 1.6287971469849214, 'early_stopping_rounds': 148, 'bagging_temperature': 4.6938687142696045, 'boosting_type': 'Plain', 'bootstrap_type': 'Bayesian', 'grow_policy': 'Depthwise', 'leaf_estimation_method': 'Newton', 'min_data_in_leaf': 78}\n"
     ]
    },
    {
     "name": "stderr",
     "output_type": "stream",
     "text": [
      "2025/05/07 19:15:25 INFO mlflow.tracking._tracking_service.client: 🏃 View run fearless-sow-70 at: https://dagshub.com/Akshat-Sharma-110011/Loan-Status-Approval.mlflow/#/experiments/1/runs/d1ead3d230304b89a09ef53193ceb442.\n",
      "2025/05/07 19:15:25 INFO mlflow.tracking._tracking_service.client: 🧪 View experiment at: https://dagshub.com/Akshat-Sharma-110011/Loan-Status-Approval.mlflow/#/experiments/1.\n",
      "[I 2025-05-07 19:15:25,660] Trial 48 finished with value: 0.9075509502463741 and parameters: {'iterations': 300, 'learning_rate': 0.07223559346150855, 'depth': 6, 'l2_leaf_reg': 5.213981310126659, 'random_strength': 1.6287971469849214, 'early_stopping_rounds': 148, 'bagging_temperature': 4.6938687142696045, 'boosting_type': 'Plain', 'bootstrap_type': 'Bayesian', 'grow_policy': 'Depthwise', 'leaf_estimation_method': 'Newton', 'min_data_in_leaf': 78}. Best is trial 16 with value: 0.9335946549661313.\n"
     ]
    },
    {
     "name": "stdout",
     "output_type": "stream",
     "text": [
      "[✓] 2025-05-07 19:15:41 | root            | INFO  | Trial 49 finished with f1: 0.9320 - params: {'iterations': 500, 'learning_rate': 0.0465928808017592, 'depth': 9, 'l2_leaf_reg': 7.827851327449139, 'random_strength': 0.39926780884485696, 'early_stopping_rounds': 97, 'bagging_temperature': 6.772221004895004, 'boosting_type': 'Plain', 'bootstrap_type': 'MVS', 'grow_policy': 'Depthwise', 'leaf_estimation_method': 'Newton', 'min_data_in_leaf': 57}\n",
      "[✓] 2025-05-07 19:15:41 | root            | INFO  | Trial 49 finished with f1: 0.9320 - params: {'iterations': 500, 'learning_rate': 0.0465928808017592, 'depth': 9, 'l2_leaf_reg': 7.827851327449139, 'random_strength': 0.39926780884485696, 'early_stopping_rounds': 97, 'bagging_temperature': 6.772221004895004, 'boosting_type': 'Plain', 'bootstrap_type': 'MVS', 'grow_policy': 'Depthwise', 'leaf_estimation_method': 'Newton', 'min_data_in_leaf': 57}\n"
     ]
    },
    {
     "name": "stderr",
     "output_type": "stream",
     "text": [
      "2025/05/07 19:15:41 INFO mlflow.tracking._tracking_service.client: 🏃 View run inquisitive-calf-998 at: https://dagshub.com/Akshat-Sharma-110011/Loan-Status-Approval.mlflow/#/experiments/1/runs/780c55d20ef24abfaf688dff25176fec.\n",
      "2025/05/07 19:15:41 INFO mlflow.tracking._tracking_service.client: 🧪 View experiment at: https://dagshub.com/Akshat-Sharma-110011/Loan-Status-Approval.mlflow/#/experiments/1.\n",
      "[I 2025-05-07 19:15:42,028] Trial 49 finished with value: 0.931959826134331 and parameters: {'iterations': 500, 'learning_rate': 0.0465928808017592, 'depth': 9, 'l2_leaf_reg': 7.827851327449139, 'random_strength': 0.39926780884485696, 'early_stopping_rounds': 97, 'bagging_temperature': 6.772221004895004, 'boosting_type': 'Plain', 'bootstrap_type': 'MVS', 'grow_policy': 'Depthwise', 'leaf_estimation_method': 'Newton', 'min_data_in_leaf': 57}. Best is trial 16 with value: 0.9335946549661313.\n"
     ]
    },
    {
     "name": "stdout",
     "output_type": "stream",
     "text": [
      "[✓] 2025-05-07 19:16:18 | root            | INFO  | Trial 50 finished with f1: 0.9284 - params: {'iterations': 700, 'learning_rate': 0.052650487007419505, 'depth': 9, 'l2_leaf_reg': 7.272059284243482, 'random_strength': 0.4104625320386643, 'early_stopping_rounds': 93, 'bagging_temperature': 6.663901794538604, 'boosting_type': 'Plain', 'bootstrap_type': 'MVS', 'grow_policy': 'SymmetricTree', 'leaf_estimation_method': 'Gradient'}\n",
      "[✓] 2025-05-07 19:16:18 | root            | INFO  | Trial 50 finished with f1: 0.9284 - params: {'iterations': 700, 'learning_rate': 0.052650487007419505, 'depth': 9, 'l2_leaf_reg': 7.272059284243482, 'random_strength': 0.4104625320386643, 'early_stopping_rounds': 93, 'bagging_temperature': 6.663901794538604, 'boosting_type': 'Plain', 'bootstrap_type': 'MVS', 'grow_policy': 'SymmetricTree', 'leaf_estimation_method': 'Gradient'}\n"
     ]
    },
    {
     "name": "stderr",
     "output_type": "stream",
     "text": [
      "2025/05/07 19:16:19 INFO mlflow.tracking._tracking_service.client: 🏃 View run selective-fawn-852 at: https://dagshub.com/Akshat-Sharma-110011/Loan-Status-Approval.mlflow/#/experiments/1/runs/99060dd71ba940218477697ee39c3e8c.\n",
      "2025/05/07 19:16:19 INFO mlflow.tracking._tracking_service.client: 🧪 View experiment at: https://dagshub.com/Akshat-Sharma-110011/Loan-Status-Approval.mlflow/#/experiments/1.\n",
      "[I 2025-05-07 19:16:19,472] Trial 50 finished with value: 0.9283922229087531 and parameters: {'iterations': 700, 'learning_rate': 0.052650487007419505, 'depth': 9, 'l2_leaf_reg': 7.272059284243482, 'random_strength': 0.4104625320386643, 'early_stopping_rounds': 93, 'bagging_temperature': 6.663901794538604, 'boosting_type': 'Plain', 'bootstrap_type': 'MVS', 'grow_policy': 'SymmetricTree', 'leaf_estimation_method': 'Gradient'}. Best is trial 16 with value: 0.9335946549661313.\n"
     ]
    },
    {
     "name": "stdout",
     "output_type": "stream",
     "text": [
      "[✓] 2025-05-07 19:16:33 | root            | INFO  | Trial 51 finished with f1: 0.9311 - params: {'iterations': 400, 'learning_rate': 0.09685110102349827, 'depth': 10, 'l2_leaf_reg': 7.80675921282189, 'random_strength': 0.7003510354256915, 'early_stopping_rounds': 98, 'bagging_temperature': 7.197696505134814, 'boosting_type': 'Plain', 'bootstrap_type': 'MVS', 'grow_policy': 'Depthwise', 'leaf_estimation_method': 'Newton', 'min_data_in_leaf': 58}\n",
      "[✓] 2025-05-07 19:16:33 | root            | INFO  | Trial 51 finished with f1: 0.9311 - params: {'iterations': 400, 'learning_rate': 0.09685110102349827, 'depth': 10, 'l2_leaf_reg': 7.80675921282189, 'random_strength': 0.7003510354256915, 'early_stopping_rounds': 98, 'bagging_temperature': 7.197696505134814, 'boosting_type': 'Plain', 'bootstrap_type': 'MVS', 'grow_policy': 'Depthwise', 'leaf_estimation_method': 'Newton', 'min_data_in_leaf': 58}\n"
     ]
    },
    {
     "name": "stderr",
     "output_type": "stream",
     "text": [
      "2025/05/07 19:16:33 INFO mlflow.tracking._tracking_service.client: 🏃 View run bedecked-frog-243 at: https://dagshub.com/Akshat-Sharma-110011/Loan-Status-Approval.mlflow/#/experiments/1/runs/55ae6d616986483396aeeca110d172e7.\n",
      "2025/05/07 19:16:33 INFO mlflow.tracking._tracking_service.client: 🧪 View experiment at: https://dagshub.com/Akshat-Sharma-110011/Loan-Status-Approval.mlflow/#/experiments/1.\n",
      "[I 2025-05-07 19:16:34,313] Trial 51 finished with value: 0.9310879185796442 and parameters: {'iterations': 400, 'learning_rate': 0.09685110102349827, 'depth': 10, 'l2_leaf_reg': 7.80675921282189, 'random_strength': 0.7003510354256915, 'early_stopping_rounds': 98, 'bagging_temperature': 7.197696505134814, 'boosting_type': 'Plain', 'bootstrap_type': 'MVS', 'grow_policy': 'Depthwise', 'leaf_estimation_method': 'Newton', 'min_data_in_leaf': 58}. Best is trial 16 with value: 0.9335946549661313.\n"
     ]
    },
    {
     "name": "stdout",
     "output_type": "stream",
     "text": [
      "[✓] 2025-05-07 19:16:58 | root            | INFO  | Trial 52 finished with f1: 0.9239 - params: {'iterations': 500, 'learning_rate': 0.02226166191014872, 'depth': 10, 'l2_leaf_reg': 8.442735880588023, 'random_strength': 0.8046280929136359, 'early_stopping_rounds': 99, 'bagging_temperature': 7.197468523206109, 'boosting_type': 'Plain', 'bootstrap_type': 'MVS', 'grow_policy': 'Depthwise', 'leaf_estimation_method': 'Newton', 'min_data_in_leaf': 60}\n",
      "[✓] 2025-05-07 19:16:58 | root            | INFO  | Trial 52 finished with f1: 0.9239 - params: {'iterations': 500, 'learning_rate': 0.02226166191014872, 'depth': 10, 'l2_leaf_reg': 8.442735880588023, 'random_strength': 0.8046280929136359, 'early_stopping_rounds': 99, 'bagging_temperature': 7.197468523206109, 'boosting_type': 'Plain', 'bootstrap_type': 'MVS', 'grow_policy': 'Depthwise', 'leaf_estimation_method': 'Newton', 'min_data_in_leaf': 60}\n"
     ]
    },
    {
     "name": "stderr",
     "output_type": "stream",
     "text": [
      "2025/05/07 19:16:58 INFO mlflow.tracking._tracking_service.client: 🏃 View run victorious-deer-774 at: https://dagshub.com/Akshat-Sharma-110011/Loan-Status-Approval.mlflow/#/experiments/1/runs/77269e8d5a224d8a95ecaa7e7216e683.\n",
      "2025/05/07 19:16:58 INFO mlflow.tracking._tracking_service.client: 🧪 View experiment at: https://dagshub.com/Akshat-Sharma-110011/Loan-Status-Approval.mlflow/#/experiments/1.\n",
      "[I 2025-05-07 19:16:59,752] Trial 52 finished with value: 0.9239474517252294 and parameters: {'iterations': 500, 'learning_rate': 0.02226166191014872, 'depth': 10, 'l2_leaf_reg': 8.442735880588023, 'random_strength': 0.8046280929136359, 'early_stopping_rounds': 99, 'bagging_temperature': 7.197468523206109, 'boosting_type': 'Plain', 'bootstrap_type': 'MVS', 'grow_policy': 'Depthwise', 'leaf_estimation_method': 'Newton', 'min_data_in_leaf': 60}. Best is trial 16 with value: 0.9335946549661313.\n"
     ]
    },
    {
     "name": "stdout",
     "output_type": "stream",
     "text": [
      "[✓] 2025-05-07 19:17:12 | root            | INFO  | Trial 53 finished with f1: 0.9293 - params: {'iterations': 400, 'learning_rate': 0.09515080564928831, 'depth': 10, 'l2_leaf_reg': 9.372678138401614, 'random_strength': 0.497879570173576, 'early_stopping_rounds': 83, 'bagging_temperature': 5.79346526048777, 'boosting_type': 'Plain', 'bootstrap_type': 'MVS', 'grow_policy': 'Depthwise', 'leaf_estimation_method': 'Newton', 'min_data_in_leaf': 67}\n",
      "[✓] 2025-05-07 19:17:12 | root            | INFO  | Trial 53 finished with f1: 0.9293 - params: {'iterations': 400, 'learning_rate': 0.09515080564928831, 'depth': 10, 'l2_leaf_reg': 9.372678138401614, 'random_strength': 0.497879570173576, 'early_stopping_rounds': 83, 'bagging_temperature': 5.79346526048777, 'boosting_type': 'Plain', 'bootstrap_type': 'MVS', 'grow_policy': 'Depthwise', 'leaf_estimation_method': 'Newton', 'min_data_in_leaf': 67}\n"
     ]
    },
    {
     "name": "stderr",
     "output_type": "stream",
     "text": [
      "2025/05/07 19:17:12 INFO mlflow.tracking._tracking_service.client: 🏃 View run rebellious-seal-484 at: https://dagshub.com/Akshat-Sharma-110011/Loan-Status-Approval.mlflow/#/experiments/1/runs/400c26294ba24cb7b3f3fbb336f346a8.\n",
      "2025/05/07 19:17:12 INFO mlflow.tracking._tracking_service.client: 🧪 View experiment at: https://dagshub.com/Akshat-Sharma-110011/Loan-Status-Approval.mlflow/#/experiments/1.\n",
      "[I 2025-05-07 19:17:12,850] Trial 53 finished with value: 0.9293402816444944 and parameters: {'iterations': 400, 'learning_rate': 0.09515080564928831, 'depth': 10, 'l2_leaf_reg': 9.372678138401614, 'random_strength': 0.497879570173576, 'early_stopping_rounds': 83, 'bagging_temperature': 5.79346526048777, 'boosting_type': 'Plain', 'bootstrap_type': 'MVS', 'grow_policy': 'Depthwise', 'leaf_estimation_method': 'Newton', 'min_data_in_leaf': 67}. Best is trial 16 with value: 0.9335946549661313.\n"
     ]
    },
    {
     "name": "stdout",
     "output_type": "stream",
     "text": [
      "[✓] 2025-05-07 19:17:39 | root            | INFO  | Trial 54 finished with f1: 0.9141 - params: {'iterations': 600, 'learning_rate': 0.04104573851586289, 'depth': 9, 'l2_leaf_reg': 6.3078389646609265, 'random_strength': 0.3655769978944562, 'early_stopping_rounds': 107, 'bagging_temperature': 6.37960024142208, 'boosting_type': 'Plain', 'bootstrap_type': 'Bayesian', 'grow_policy': 'Depthwise', 'leaf_estimation_method': 'Newton', 'min_data_in_leaf': 49}\n",
      "[✓] 2025-05-07 19:17:39 | root            | INFO  | Trial 54 finished with f1: 0.9141 - params: {'iterations': 600, 'learning_rate': 0.04104573851586289, 'depth': 9, 'l2_leaf_reg': 6.3078389646609265, 'random_strength': 0.3655769978944562, 'early_stopping_rounds': 107, 'bagging_temperature': 6.37960024142208, 'boosting_type': 'Plain', 'bootstrap_type': 'Bayesian', 'grow_policy': 'Depthwise', 'leaf_estimation_method': 'Newton', 'min_data_in_leaf': 49}\n"
     ]
    },
    {
     "name": "stderr",
     "output_type": "stream",
     "text": [
      "2025/05/07 19:17:40 INFO mlflow.tracking._tracking_service.client: 🏃 View run unique-mouse-430 at: https://dagshub.com/Akshat-Sharma-110011/Loan-Status-Approval.mlflow/#/experiments/1/runs/a26e9b14abfa44fdb590a19b77a43e60.\n",
      "2025/05/07 19:17:40 INFO mlflow.tracking._tracking_service.client: 🧪 View experiment at: https://dagshub.com/Akshat-Sharma-110011/Loan-Status-Approval.mlflow/#/experiments/1.\n",
      "[I 2025-05-07 19:17:40,457] Trial 54 finished with value: 0.9141080890198063 and parameters: {'iterations': 600, 'learning_rate': 0.04104573851586289, 'depth': 9, 'l2_leaf_reg': 6.3078389646609265, 'random_strength': 0.3655769978944562, 'early_stopping_rounds': 107, 'bagging_temperature': 6.37960024142208, 'boosting_type': 'Plain', 'bootstrap_type': 'Bayesian', 'grow_policy': 'Depthwise', 'leaf_estimation_method': 'Newton', 'min_data_in_leaf': 49}. Best is trial 16 with value: 0.9335946549661313.\n"
     ]
    },
    {
     "name": "stdout",
     "output_type": "stream",
     "text": [
      "[✓] 2025-05-07 19:17:57 | root            | INFO  | Trial 55 finished with f1: 0.9318 - params: {'iterations': 500, 'learning_rate': 0.07651278753189268, 'depth': 10, 'l2_leaf_reg': 7.729104334071394, 'random_strength': 0.7068237297762988, 'early_stopping_rounds': 71, 'bagging_temperature': 6.7824568157433776, 'boosting_type': 'Plain', 'bootstrap_type': 'MVS', 'grow_policy': 'Lossguide', 'leaf_estimation_method': 'Newton', 'min_data_in_leaf': 43}\n",
      "[✓] 2025-05-07 19:17:57 | root            | INFO  | Trial 55 finished with f1: 0.9318 - params: {'iterations': 500, 'learning_rate': 0.07651278753189268, 'depth': 10, 'l2_leaf_reg': 7.729104334071394, 'random_strength': 0.7068237297762988, 'early_stopping_rounds': 71, 'bagging_temperature': 6.7824568157433776, 'boosting_type': 'Plain', 'bootstrap_type': 'MVS', 'grow_policy': 'Lossguide', 'leaf_estimation_method': 'Newton', 'min_data_in_leaf': 43}\n"
     ]
    },
    {
     "name": "stderr",
     "output_type": "stream",
     "text": [
      "2025/05/07 19:17:58 INFO mlflow.tracking._tracking_service.client: 🏃 View run skillful-hound-534 at: https://dagshub.com/Akshat-Sharma-110011/Loan-Status-Approval.mlflow/#/experiments/1/runs/9dd2664712b3406d8271e87ecdcb65fd.\n",
      "2025/05/07 19:17:58 INFO mlflow.tracking._tracking_service.client: 🧪 View experiment at: https://dagshub.com/Akshat-Sharma-110011/Loan-Status-Approval.mlflow/#/experiments/1.\n",
      "[I 2025-05-07 19:17:58,612] Trial 55 finished with value: 0.9318158167934606 and parameters: {'iterations': 500, 'learning_rate': 0.07651278753189268, 'depth': 10, 'l2_leaf_reg': 7.729104334071394, 'random_strength': 0.7068237297762988, 'early_stopping_rounds': 71, 'bagging_temperature': 6.7824568157433776, 'boosting_type': 'Plain', 'bootstrap_type': 'MVS', 'grow_policy': 'Lossguide', 'leaf_estimation_method': 'Newton', 'min_data_in_leaf': 43}. Best is trial 16 with value: 0.9335946549661313.\n"
     ]
    },
    {
     "name": "stdout",
     "output_type": "stream",
     "text": [
      "[✗] 2025-05-07 19:18:00 | root            | ERROR | Trial 56 failed: catboost/private/libs/options/bootstrap_options.cpp:44: Error: bagging temperature available for bayesian bootstrap only\n",
      "[✗] 2025-05-07 19:18:00 | root            | ERROR | Trial 56 failed: catboost/private/libs/options/bootstrap_options.cpp:44: Error: bagging temperature available for bayesian bootstrap only\n"
     ]
    },
    {
     "name": "stderr",
     "output_type": "stream",
     "text": [
      "2025/05/07 19:18:00 INFO mlflow.tracking._tracking_service.client: 🏃 View run suave-stag-550 at: https://dagshub.com/Akshat-Sharma-110011/Loan-Status-Approval.mlflow/#/experiments/1/runs/f7503cff6bfc42b18ffe27ae8848bf16.\n",
      "2025/05/07 19:18:00 INFO mlflow.tracking._tracking_service.client: 🧪 View experiment at: https://dagshub.com/Akshat-Sharma-110011/Loan-Status-Approval.mlflow/#/experiments/1.\n",
      "[I 2025-05-07 19:18:00,865] Trial 56 finished with value: -inf and parameters: {'iterations': 700, 'learning_rate': 0.07544804788093971, 'depth': 10, 'l2_leaf_reg': 6.63723611236723, 'random_strength': 0.7505753587233968, 'early_stopping_rounds': 64, 'bagging_temperature': 7.593360481330571, 'boosting_type': 'Plain', 'bootstrap_type': 'Bernoulli', 'grow_policy': 'Lossguide', 'leaf_estimation_method': 'Newton', 'subsample': 0.4699214068072255, 'min_data_in_leaf': 42}. Best is trial 16 with value: 0.9335946549661313.\n"
     ]
    },
    {
     "name": "stdout",
     "output_type": "stream",
     "text": [
      "[✓] 2025-05-07 19:18:19 | root            | INFO  | Trial 57 finished with f1: 0.9306 - params: {'iterations': 500, 'learning_rate': 0.04733259070992122, 'depth': 9, 'l2_leaf_reg': 8.12857387056665, 'random_strength': 0.29328931366032995, 'early_stopping_rounds': 88, 'bagging_temperature': 3.843193221252661, 'boosting_type': 'Plain', 'bootstrap_type': 'MVS', 'grow_policy': 'Lossguide', 'leaf_estimation_method': 'Newton', 'min_data_in_leaf': 29}\n",
      "[✓] 2025-05-07 19:18:19 | root            | INFO  | Trial 57 finished with f1: 0.9306 - params: {'iterations': 500, 'learning_rate': 0.04733259070992122, 'depth': 9, 'l2_leaf_reg': 8.12857387056665, 'random_strength': 0.29328931366032995, 'early_stopping_rounds': 88, 'bagging_temperature': 3.843193221252661, 'boosting_type': 'Plain', 'bootstrap_type': 'MVS', 'grow_policy': 'Lossguide', 'leaf_estimation_method': 'Newton', 'min_data_in_leaf': 29}\n"
     ]
    },
    {
     "name": "stderr",
     "output_type": "stream",
     "text": [
      "2025/05/07 19:18:19 INFO mlflow.tracking._tracking_service.client: 🏃 View run thundering-shad-378 at: https://dagshub.com/Akshat-Sharma-110011/Loan-Status-Approval.mlflow/#/experiments/1/runs/bbf92634c1b1451c92989bff1a7e1265.\n",
      "2025/05/07 19:18:19 INFO mlflow.tracking._tracking_service.client: 🧪 View experiment at: https://dagshub.com/Akshat-Sharma-110011/Loan-Status-Approval.mlflow/#/experiments/1.\n",
      "[I 2025-05-07 19:18:20,320] Trial 57 finished with value: 0.9305514427377704 and parameters: {'iterations': 500, 'learning_rate': 0.04733259070992122, 'depth': 9, 'l2_leaf_reg': 8.12857387056665, 'random_strength': 0.29328931366032995, 'early_stopping_rounds': 88, 'bagging_temperature': 3.843193221252661, 'boosting_type': 'Plain', 'bootstrap_type': 'MVS', 'grow_policy': 'Lossguide', 'leaf_estimation_method': 'Newton', 'min_data_in_leaf': 29}. Best is trial 16 with value: 0.9335946549661313.\n"
     ]
    },
    {
     "name": "stdout",
     "output_type": "stream",
     "text": [
      "[✗] 2025-05-07 19:18:21 | root            | ERROR | Trial 58 failed: catboost/private/libs/options/catboost_options.cpp:758: Ordered boosting is not supported for nonsymmetric trees.\n",
      "[✗] 2025-05-07 19:18:21 | root            | ERROR | Trial 58 failed: catboost/private/libs/options/catboost_options.cpp:758: Ordered boosting is not supported for nonsymmetric trees.\n"
     ]
    },
    {
     "name": "stderr",
     "output_type": "stream",
     "text": [
      "2025/05/07 19:18:21 INFO mlflow.tracking._tracking_service.client: 🏃 View run secretive-carp-217 at: https://dagshub.com/Akshat-Sharma-110011/Loan-Status-Approval.mlflow/#/experiments/1/runs/906b2c665c1e4257b20b82bbc02a80b1.\n",
      "2025/05/07 19:18:21 INFO mlflow.tracking._tracking_service.client: 🧪 View experiment at: https://dagshub.com/Akshat-Sharma-110011/Loan-Status-Approval.mlflow/#/experiments/1.\n",
      "[I 2025-05-07 19:18:22,035] Trial 58 finished with value: -inf and parameters: {'iterations': 600, 'learning_rate': 0.030491113836530602, 'depth': 10, 'l2_leaf_reg': 7.052727633933692, 'random_strength': 0.5658951926610313, 'early_stopping_rounds': 54, 'bagging_temperature': 8.292003073899208, 'boosting_type': 'Ordered', 'bootstrap_type': 'MVS', 'grow_policy': 'Lossguide', 'leaf_estimation_method': 'Newton', 'min_data_in_leaf': 16}. Best is trial 16 with value: 0.9335946549661313.\n"
     ]
    },
    {
     "name": "stdout",
     "output_type": "stream",
     "text": [
      "[✓] 2025-05-07 19:19:46 | root            | INFO  | Trial 59 finished with f1: 0.9253 - params: {'iterations': 1500, 'learning_rate': 0.011788590784429502, 'depth': 10, 'l2_leaf_reg': 1.6473071198287337, 'random_strength': 0.7047701119840585, 'early_stopping_rounds': 77, 'bagging_temperature': 8.848232796199149, 'boosting_type': 'Plain', 'bootstrap_type': 'MVS', 'grow_policy': 'Lossguide', 'leaf_estimation_method': 'Gradient', 'min_data_in_leaf': 38}\n",
      "[✓] 2025-05-07 19:19:46 | root            | INFO  | Trial 59 finished with f1: 0.9253 - params: {'iterations': 1500, 'learning_rate': 0.011788590784429502, 'depth': 10, 'l2_leaf_reg': 1.6473071198287337, 'random_strength': 0.7047701119840585, 'early_stopping_rounds': 77, 'bagging_temperature': 8.848232796199149, 'boosting_type': 'Plain', 'bootstrap_type': 'MVS', 'grow_policy': 'Lossguide', 'leaf_estimation_method': 'Gradient', 'min_data_in_leaf': 38}\n"
     ]
    },
    {
     "name": "stderr",
     "output_type": "stream",
     "text": [
      "2025/05/07 19:19:46 INFO mlflow.tracking._tracking_service.client: 🏃 View run wise-crane-305 at: https://dagshub.com/Akshat-Sharma-110011/Loan-Status-Approval.mlflow/#/experiments/1/runs/5d7d6355846742e98b38e717ed2d177c.\n",
      "2025/05/07 19:19:46 INFO mlflow.tracking._tracking_service.client: 🧪 View experiment at: https://dagshub.com/Akshat-Sharma-110011/Loan-Status-Approval.mlflow/#/experiments/1.\n",
      "[I 2025-05-07 19:19:47,082] Trial 59 finished with value: 0.9252529689172189 and parameters: {'iterations': 1500, 'learning_rate': 0.011788590784429502, 'depth': 10, 'l2_leaf_reg': 1.6473071198287337, 'random_strength': 0.7047701119840585, 'early_stopping_rounds': 77, 'bagging_temperature': 8.848232796199149, 'boosting_type': 'Plain', 'bootstrap_type': 'MVS', 'grow_policy': 'Lossguide', 'leaf_estimation_method': 'Gradient', 'min_data_in_leaf': 38}. Best is trial 16 with value: 0.9335946549661313.\n"
     ]
    },
    {
     "name": "stdout",
     "output_type": "stream",
     "text": [
      "[✓] 2025-05-07 19:20:05 | root            | INFO  | Trial 60 finished with f1: 0.9075 - params: {'iterations': 400, 'learning_rate': 0.06688793561805668, 'depth': 9, 'l2_leaf_reg': 7.78601998189174, 'random_strength': 1.111685629623226, 'early_stopping_rounds': 98, 'bagging_temperature': 5.807156163140526, 'boosting_type': 'Plain', 'bootstrap_type': 'Bayesian', 'grow_policy': 'Lossguide', 'leaf_estimation_method': 'Newton', 'min_data_in_leaf': 52}\n",
      "[✓] 2025-05-07 19:20:05 | root            | INFO  | Trial 60 finished with f1: 0.9075 - params: {'iterations': 400, 'learning_rate': 0.06688793561805668, 'depth': 9, 'l2_leaf_reg': 7.78601998189174, 'random_strength': 1.111685629623226, 'early_stopping_rounds': 98, 'bagging_temperature': 5.807156163140526, 'boosting_type': 'Plain', 'bootstrap_type': 'Bayesian', 'grow_policy': 'Lossguide', 'leaf_estimation_method': 'Newton', 'min_data_in_leaf': 52}\n"
     ]
    },
    {
     "name": "stderr",
     "output_type": "stream",
     "text": [
      "2025/05/07 19:20:05 INFO mlflow.tracking._tracking_service.client: 🏃 View run treasured-foal-563 at: https://dagshub.com/Akshat-Sharma-110011/Loan-Status-Approval.mlflow/#/experiments/1/runs/3d1f2d66e58349b39c6f24a71e2be98d.\n",
      "2025/05/07 19:20:05 INFO mlflow.tracking._tracking_service.client: 🧪 View experiment at: https://dagshub.com/Akshat-Sharma-110011/Loan-Status-Approval.mlflow/#/experiments/1.\n",
      "[I 2025-05-07 19:20:06,132] Trial 60 finished with value: 0.9075108381102349 and parameters: {'iterations': 400, 'learning_rate': 0.06688793561805668, 'depth': 9, 'l2_leaf_reg': 7.78601998189174, 'random_strength': 1.111685629623226, 'early_stopping_rounds': 98, 'bagging_temperature': 5.807156163140526, 'boosting_type': 'Plain', 'bootstrap_type': 'Bayesian', 'grow_policy': 'Lossguide', 'leaf_estimation_method': 'Newton', 'min_data_in_leaf': 52}. Best is trial 16 with value: 0.9335946549661313.\n"
     ]
    },
    {
     "name": "stdout",
     "output_type": "stream",
     "text": [
      "[✓] 2025-05-07 19:20:21 | root            | INFO  | Trial 61 finished with f1: 0.9300 - params: {'iterations': 500, 'learning_rate': 0.048416446984606815, 'depth': 9, 'l2_leaf_reg': 8.34317316097147, 'random_strength': 0.28526445143012624, 'early_stopping_rounds': 88, 'bagging_temperature': 3.5169174140373083, 'boosting_type': 'Plain', 'bootstrap_type': 'MVS', 'grow_policy': 'Lossguide', 'leaf_estimation_method': 'Newton', 'min_data_in_leaf': 19}\n",
      "[✓] 2025-05-07 19:20:21 | root            | INFO  | Trial 61 finished with f1: 0.9300 - params: {'iterations': 500, 'learning_rate': 0.048416446984606815, 'depth': 9, 'l2_leaf_reg': 8.34317316097147, 'random_strength': 0.28526445143012624, 'early_stopping_rounds': 88, 'bagging_temperature': 3.5169174140373083, 'boosting_type': 'Plain', 'bootstrap_type': 'MVS', 'grow_policy': 'Lossguide', 'leaf_estimation_method': 'Newton', 'min_data_in_leaf': 19}\n"
     ]
    },
    {
     "name": "stderr",
     "output_type": "stream",
     "text": [
      "2025/05/07 19:20:21 INFO mlflow.tracking._tracking_service.client: 🏃 View run gregarious-ram-996 at: https://dagshub.com/Akshat-Sharma-110011/Loan-Status-Approval.mlflow/#/experiments/1/runs/6f445737c8374c4fa4c53eeb302829ac.\n",
      "2025/05/07 19:20:21 INFO mlflow.tracking._tracking_service.client: 🧪 View experiment at: https://dagshub.com/Akshat-Sharma-110011/Loan-Status-Approval.mlflow/#/experiments/1.\n",
      "[I 2025-05-07 19:20:21,853] Trial 61 finished with value: 0.929971472628393 and parameters: {'iterations': 500, 'learning_rate': 0.048416446984606815, 'depth': 9, 'l2_leaf_reg': 8.34317316097147, 'random_strength': 0.28526445143012624, 'early_stopping_rounds': 88, 'bagging_temperature': 3.5169174140373083, 'boosting_type': 'Plain', 'bootstrap_type': 'MVS', 'grow_policy': 'Lossguide', 'leaf_estimation_method': 'Newton', 'min_data_in_leaf': 19}. Best is trial 16 with value: 0.9335946549661313.\n"
     ]
    },
    {
     "name": "stdout",
     "output_type": "stream",
     "text": [
      "[✓] 2025-05-07 19:20:39 | root            | INFO  | Trial 62 finished with f1: 0.9314 - params: {'iterations': 500, 'learning_rate': 0.09621573935837817, 'depth': 9, 'l2_leaf_reg': 8.062428410797805, 'random_strength': 0.1434250265586806, 'early_stopping_rounds': 69, 'bagging_temperature': 2.5497055965166107, 'boosting_type': 'Plain', 'bootstrap_type': 'MVS', 'grow_policy': 'Lossguide', 'leaf_estimation_method': 'Newton', 'min_data_in_leaf': 27}\n",
      "[✓] 2025-05-07 19:20:39 | root            | INFO  | Trial 62 finished with f1: 0.9314 - params: {'iterations': 500, 'learning_rate': 0.09621573935837817, 'depth': 9, 'l2_leaf_reg': 8.062428410797805, 'random_strength': 0.1434250265586806, 'early_stopping_rounds': 69, 'bagging_temperature': 2.5497055965166107, 'boosting_type': 'Plain', 'bootstrap_type': 'MVS', 'grow_policy': 'Lossguide', 'leaf_estimation_method': 'Newton', 'min_data_in_leaf': 27}\n"
     ]
    },
    {
     "name": "stderr",
     "output_type": "stream",
     "text": [
      "2025/05/07 19:20:39 INFO mlflow.tracking._tracking_service.client: 🏃 View run capricious-hound-624 at: https://dagshub.com/Akshat-Sharma-110011/Loan-Status-Approval.mlflow/#/experiments/1/runs/18000188fd2542d59bc89562f1244348.\n",
      "2025/05/07 19:20:39 INFO mlflow.tracking._tracking_service.client: 🧪 View experiment at: https://dagshub.com/Akshat-Sharma-110011/Loan-Status-Approval.mlflow/#/experiments/1.\n",
      "[I 2025-05-07 19:20:39,931] Trial 62 finished with value: 0.9314487372377969 and parameters: {'iterations': 500, 'learning_rate': 0.09621573935837817, 'depth': 9, 'l2_leaf_reg': 8.062428410797805, 'random_strength': 0.1434250265586806, 'early_stopping_rounds': 69, 'bagging_temperature': 2.5497055965166107, 'boosting_type': 'Plain', 'bootstrap_type': 'MVS', 'grow_policy': 'Lossguide', 'leaf_estimation_method': 'Newton', 'min_data_in_leaf': 27}. Best is trial 16 with value: 0.9335946549661313.\n"
     ]
    },
    {
     "name": "stdout",
     "output_type": "stream",
     "text": [
      "[✓] 2025-05-07 19:20:58 | root            | INFO  | Trial 63 finished with f1: 0.9316 - params: {'iterations': 500, 'learning_rate': 0.10627896947418299, 'depth': 10, 'l2_leaf_reg': 8.665171383314588, 'random_strength': 0.12636805762357767, 'early_stopping_rounds': 71, 'bagging_temperature': 2.046510868253147, 'boosting_type': 'Plain', 'bootstrap_type': 'MVS', 'grow_policy': 'Lossguide', 'leaf_estimation_method': 'Newton', 'min_data_in_leaf': 57}\n",
      "[✓] 2025-05-07 19:20:58 | root            | INFO  | Trial 63 finished with f1: 0.9316 - params: {'iterations': 500, 'learning_rate': 0.10627896947418299, 'depth': 10, 'l2_leaf_reg': 8.665171383314588, 'random_strength': 0.12636805762357767, 'early_stopping_rounds': 71, 'bagging_temperature': 2.046510868253147, 'boosting_type': 'Plain', 'bootstrap_type': 'MVS', 'grow_policy': 'Lossguide', 'leaf_estimation_method': 'Newton', 'min_data_in_leaf': 57}\n"
     ]
    },
    {
     "name": "stderr",
     "output_type": "stream",
     "text": [
      "2025/05/07 19:20:58 INFO mlflow.tracking._tracking_service.client: 🏃 View run unruly-grub-531 at: https://dagshub.com/Akshat-Sharma-110011/Loan-Status-Approval.mlflow/#/experiments/1/runs/a567c944eb00469baa00aa17afbe2254.\n",
      "2025/05/07 19:20:58 INFO mlflow.tracking._tracking_service.client: 🧪 View experiment at: https://dagshub.com/Akshat-Sharma-110011/Loan-Status-Approval.mlflow/#/experiments/1.\n",
      "[I 2025-05-07 19:20:59,128] Trial 63 finished with value: 0.9315530867315873 and parameters: {'iterations': 500, 'learning_rate': 0.10627896947418299, 'depth': 10, 'l2_leaf_reg': 8.665171383314588, 'random_strength': 0.12636805762357767, 'early_stopping_rounds': 71, 'bagging_temperature': 2.046510868253147, 'boosting_type': 'Plain', 'bootstrap_type': 'MVS', 'grow_policy': 'Lossguide', 'leaf_estimation_method': 'Newton', 'min_data_in_leaf': 57}. Best is trial 16 with value: 0.9335946549661313.\n"
     ]
    },
    {
     "name": "stdout",
     "output_type": "stream",
     "text": [
      "[✓] 2025-05-07 19:21:17 | root            | INFO  | Trial 64 finished with f1: 0.9313 - params: {'iterations': 700, 'learning_rate': 0.10655694534446619, 'depth': 10, 'l2_leaf_reg': 8.93674331424432, 'random_strength': 0.13336909807376218, 'early_stopping_rounds': 71, 'bagging_temperature': 2.3361444070877835, 'boosting_type': 'Plain', 'bootstrap_type': 'MVS', 'grow_policy': 'Lossguide', 'leaf_estimation_method': 'Newton', 'min_data_in_leaf': 10}\n",
      "[✓] 2025-05-07 19:21:17 | root            | INFO  | Trial 64 finished with f1: 0.9313 - params: {'iterations': 700, 'learning_rate': 0.10655694534446619, 'depth': 10, 'l2_leaf_reg': 8.93674331424432, 'random_strength': 0.13336909807376218, 'early_stopping_rounds': 71, 'bagging_temperature': 2.3361444070877835, 'boosting_type': 'Plain', 'bootstrap_type': 'MVS', 'grow_policy': 'Lossguide', 'leaf_estimation_method': 'Newton', 'min_data_in_leaf': 10}\n"
     ]
    },
    {
     "name": "stderr",
     "output_type": "stream",
     "text": [
      "2025/05/07 19:21:17 INFO mlflow.tracking._tracking_service.client: 🏃 View run loud-doe-326 at: https://dagshub.com/Akshat-Sharma-110011/Loan-Status-Approval.mlflow/#/experiments/1/runs/6c17abc0f593464eac1b43c9822959e4.\n",
      "2025/05/07 19:21:17 INFO mlflow.tracking._tracking_service.client: 🧪 View experiment at: https://dagshub.com/Akshat-Sharma-110011/Loan-Status-Approval.mlflow/#/experiments/1.\n",
      "[I 2025-05-07 19:21:18,091] Trial 64 finished with value: 0.9313290379156515 and parameters: {'iterations': 700, 'learning_rate': 0.10655694534446619, 'depth': 10, 'l2_leaf_reg': 8.93674331424432, 'random_strength': 0.13336909807376218, 'early_stopping_rounds': 71, 'bagging_temperature': 2.3361444070877835, 'boosting_type': 'Plain', 'bootstrap_type': 'MVS', 'grow_policy': 'Lossguide', 'leaf_estimation_method': 'Newton', 'min_data_in_leaf': 10}. Best is trial 16 with value: 0.9335946549661313.\n"
     ]
    },
    {
     "name": "stdout",
     "output_type": "stream",
     "text": [
      "[✓] 2025-05-07 19:21:33 | root            | INFO  | Trial 65 finished with f1: 0.9316 - params: {'iterations': 800, 'learning_rate': 0.1025265129224187, 'depth': 10, 'l2_leaf_reg': 8.789368145883998, 'random_strength': 0.12794628801646138, 'early_stopping_rounds': 70, 'bagging_temperature': 1.8495645353725039, 'boosting_type': 'Plain', 'bootstrap_type': 'MVS', 'grow_policy': 'Lossguide', 'leaf_estimation_method': 'Newton', 'min_data_in_leaf': 4}\n",
      "[✓] 2025-05-07 19:21:33 | root            | INFO  | Trial 65 finished with f1: 0.9316 - params: {'iterations': 800, 'learning_rate': 0.1025265129224187, 'depth': 10, 'l2_leaf_reg': 8.789368145883998, 'random_strength': 0.12794628801646138, 'early_stopping_rounds': 70, 'bagging_temperature': 1.8495645353725039, 'boosting_type': 'Plain', 'bootstrap_type': 'MVS', 'grow_policy': 'Lossguide', 'leaf_estimation_method': 'Newton', 'min_data_in_leaf': 4}\n"
     ]
    },
    {
     "name": "stderr",
     "output_type": "stream",
     "text": [
      "2025/05/07 19:21:33 INFO mlflow.tracking._tracking_service.client: 🏃 View run luminous-dove-837 at: https://dagshub.com/Akshat-Sharma-110011/Loan-Status-Approval.mlflow/#/experiments/1/runs/af51354b6f944aec8769df5715ffa4a0.\n",
      "2025/05/07 19:21:33 INFO mlflow.tracking._tracking_service.client: 🧪 View experiment at: https://dagshub.com/Akshat-Sharma-110011/Loan-Status-Approval.mlflow/#/experiments/1.\n",
      "[I 2025-05-07 19:21:34,058] Trial 65 finished with value: 0.9316326899100624 and parameters: {'iterations': 800, 'learning_rate': 0.1025265129224187, 'depth': 10, 'l2_leaf_reg': 8.789368145883998, 'random_strength': 0.12794628801646138, 'early_stopping_rounds': 70, 'bagging_temperature': 1.8495645353725039, 'boosting_type': 'Plain', 'bootstrap_type': 'MVS', 'grow_policy': 'Lossguide', 'leaf_estimation_method': 'Newton', 'min_data_in_leaf': 4}. Best is trial 16 with value: 0.9335946549661313.\n"
     ]
    },
    {
     "name": "stdout",
     "output_type": "stream",
     "text": [
      "[✓] 2025-05-07 19:21:56 | root            | INFO  | Trial 66 finished with f1: 0.9306 - params: {'iterations': 900, 'learning_rate': 0.08247105297766301, 'depth': 10, 'l2_leaf_reg': 9.622459179027576, 'random_strength': 0.1334182056159399, 'early_stopping_rounds': 71, 'bagging_temperature': 1.7484036930324707, 'boosting_type': 'Plain', 'bootstrap_type': 'MVS', 'grow_policy': 'Lossguide', 'leaf_estimation_method': 'Newton', 'min_data_in_leaf': 15}\n",
      "[✓] 2025-05-07 19:21:56 | root            | INFO  | Trial 66 finished with f1: 0.9306 - params: {'iterations': 900, 'learning_rate': 0.08247105297766301, 'depth': 10, 'l2_leaf_reg': 9.622459179027576, 'random_strength': 0.1334182056159399, 'early_stopping_rounds': 71, 'bagging_temperature': 1.7484036930324707, 'boosting_type': 'Plain', 'bootstrap_type': 'MVS', 'grow_policy': 'Lossguide', 'leaf_estimation_method': 'Newton', 'min_data_in_leaf': 15}\n"
     ]
    },
    {
     "name": "stderr",
     "output_type": "stream",
     "text": [
      "2025/05/07 19:21:56 INFO mlflow.tracking._tracking_service.client: 🏃 View run treasured-shrew-594 at: https://dagshub.com/Akshat-Sharma-110011/Loan-Status-Approval.mlflow/#/experiments/1/runs/2a5a91132fd646e5831d92482a0cbafb.\n",
      "2025/05/07 19:21:56 INFO mlflow.tracking._tracking_service.client: 🧪 View experiment at: https://dagshub.com/Akshat-Sharma-110011/Loan-Status-Approval.mlflow/#/experiments/1.\n",
      "[I 2025-05-07 19:21:57,056] Trial 66 finished with value: 0.9306301267371012 and parameters: {'iterations': 900, 'learning_rate': 0.08247105297766301, 'depth': 10, 'l2_leaf_reg': 9.622459179027576, 'random_strength': 0.1334182056159399, 'early_stopping_rounds': 71, 'bagging_temperature': 1.7484036930324707, 'boosting_type': 'Plain', 'bootstrap_type': 'MVS', 'grow_policy': 'Lossguide', 'leaf_estimation_method': 'Newton', 'min_data_in_leaf': 15}. Best is trial 16 with value: 0.9335946549661313.\n"
     ]
    },
    {
     "name": "stdout",
     "output_type": "stream",
     "text": [
      "[✓] 2025-05-07 19:22:09 | root            | INFO  | Trial 67 finished with f1: 0.9325 - params: {'iterations': 800, 'learning_rate': 0.11097868105811619, 'depth': 10, 'l2_leaf_reg': 9.20910577129662, 'random_strength': 0.1291281814466774, 'early_stopping_rounds': 61, 'bagging_temperature': 2.6923253149293602, 'boosting_type': 'Plain', 'bootstrap_type': 'MVS', 'grow_policy': 'Lossguide', 'leaf_estimation_method': 'Newton', 'min_data_in_leaf': 2}\n",
      "[✓] 2025-05-07 19:22:09 | root            | INFO  | Trial 67 finished with f1: 0.9325 - params: {'iterations': 800, 'learning_rate': 0.11097868105811619, 'depth': 10, 'l2_leaf_reg': 9.20910577129662, 'random_strength': 0.1291281814466774, 'early_stopping_rounds': 61, 'bagging_temperature': 2.6923253149293602, 'boosting_type': 'Plain', 'bootstrap_type': 'MVS', 'grow_policy': 'Lossguide', 'leaf_estimation_method': 'Newton', 'min_data_in_leaf': 2}\n"
     ]
    },
    {
     "name": "stderr",
     "output_type": "stream",
     "text": [
      "2025/05/07 19:22:09 INFO mlflow.tracking._tracking_service.client: 🏃 View run gregarious-ant-480 at: https://dagshub.com/Akshat-Sharma-110011/Loan-Status-Approval.mlflow/#/experiments/1/runs/e3e1399009a74e1b97bff266d2a38e15.\n",
      "2025/05/07 19:22:09 INFO mlflow.tracking._tracking_service.client: 🧪 View experiment at: https://dagshub.com/Akshat-Sharma-110011/Loan-Status-Approval.mlflow/#/experiments/1.\n",
      "[I 2025-05-07 19:22:09,883] Trial 67 finished with value: 0.9324875821452493 and parameters: {'iterations': 800, 'learning_rate': 0.11097868105811619, 'depth': 10, 'l2_leaf_reg': 9.20910577129662, 'random_strength': 0.1291281814466774, 'early_stopping_rounds': 61, 'bagging_temperature': 2.6923253149293602, 'boosting_type': 'Plain', 'bootstrap_type': 'MVS', 'grow_policy': 'Lossguide', 'leaf_estimation_method': 'Newton', 'min_data_in_leaf': 2}. Best is trial 16 with value: 0.9335946549661313.\n"
     ]
    },
    {
     "name": "stdout",
     "output_type": "stream",
     "text": [
      "[✓] 2025-05-07 19:22:35 | root            | INFO  | Trial 68 finished with f1: 0.9313 - params: {'iterations': 1100, 'learning_rate': 0.0634993762306357, 'depth': 9, 'l2_leaf_reg': 8.748877988415211, 'random_strength': 0.17230874919886074, 'early_stopping_rounds': 60, 'bagging_temperature': 1.3066795908447126, 'boosting_type': 'Plain', 'bootstrap_type': 'MVS', 'grow_policy': 'Lossguide', 'leaf_estimation_method': 'Newton', 'min_data_in_leaf': 3}\n",
      "[✓] 2025-05-07 19:22:35 | root            | INFO  | Trial 68 finished with f1: 0.9313 - params: {'iterations': 1100, 'learning_rate': 0.0634993762306357, 'depth': 9, 'l2_leaf_reg': 8.748877988415211, 'random_strength': 0.17230874919886074, 'early_stopping_rounds': 60, 'bagging_temperature': 1.3066795908447126, 'boosting_type': 'Plain', 'bootstrap_type': 'MVS', 'grow_policy': 'Lossguide', 'leaf_estimation_method': 'Newton', 'min_data_in_leaf': 3}\n"
     ]
    },
    {
     "name": "stderr",
     "output_type": "stream",
     "text": [
      "2025/05/07 19:22:35 INFO mlflow.tracking._tracking_service.client: 🏃 View run nosy-trout-76 at: https://dagshub.com/Akshat-Sharma-110011/Loan-Status-Approval.mlflow/#/experiments/1/runs/b10b5632f4184ed990fd453ee7c78781.\n",
      "2025/05/07 19:22:35 INFO mlflow.tracking._tracking_service.client: 🧪 View experiment at: https://dagshub.com/Akshat-Sharma-110011/Loan-Status-Approval.mlflow/#/experiments/1.\n",
      "[I 2025-05-07 19:22:36,097] Trial 68 finished with value: 0.9313299676650288 and parameters: {'iterations': 1100, 'learning_rate': 0.0634993762306357, 'depth': 9, 'l2_leaf_reg': 8.748877988415211, 'random_strength': 0.17230874919886074, 'early_stopping_rounds': 60, 'bagging_temperature': 1.3066795908447126, 'boosting_type': 'Plain', 'bootstrap_type': 'MVS', 'grow_policy': 'Lossguide', 'leaf_estimation_method': 'Newton', 'min_data_in_leaf': 3}. Best is trial 16 with value: 0.9335946549661313.\n"
     ]
    },
    {
     "name": "stdout",
     "output_type": "stream",
     "text": [
      "[✗] 2025-05-07 19:22:37 | root            | ERROR | Trial 69 failed: catboost/private/libs/options/bootstrap_options.cpp:44: Error: bagging temperature available for bayesian bootstrap only\n",
      "[✗] 2025-05-07 19:22:37 | root            | ERROR | Trial 69 failed: catboost/private/libs/options/bootstrap_options.cpp:44: Error: bagging temperature available for bayesian bootstrap only\n"
     ]
    },
    {
     "name": "stderr",
     "output_type": "stream",
     "text": [
      "2025/05/07 19:22:37 INFO mlflow.tracking._tracking_service.client: 🏃 View run efficient-pig-870 at: https://dagshub.com/Akshat-Sharma-110011/Loan-Status-Approval.mlflow/#/experiments/1/runs/853b39f7e88c4d0abb25a8f484e93d97.\n",
      "2025/05/07 19:22:37 INFO mlflow.tracking._tracking_service.client: 🧪 View experiment at: https://dagshub.com/Akshat-Sharma-110011/Loan-Status-Approval.mlflow/#/experiments/1.\n",
      "[I 2025-05-07 19:22:37,892] Trial 69 finished with value: -inf and parameters: {'iterations': 800, 'learning_rate': 0.004241079672140506, 'depth': 10, 'l2_leaf_reg': 9.698751902481751, 'random_strength': 0.11810156610743806, 'early_stopping_rounds': 50, 'bagging_temperature': 2.6955833584973488, 'boosting_type': 'Plain', 'bootstrap_type': 'Bernoulli', 'grow_policy': 'Lossguide', 'leaf_estimation_method': 'Newton', 'subsample': 0.772809146928511, 'min_data_in_leaf': 6}. Best is trial 16 with value: 0.9335946549661313.\n"
     ]
    },
    {
     "name": "stdout",
     "output_type": "stream",
     "text": [
      "[✓] 2025-05-07 19:22:52 | root            | INFO  | Trial 70 finished with f1: 0.9304 - params: {'iterations': 800, 'learning_rate': 0.128756126445743, 'depth': 9, 'l2_leaf_reg': 9.276208676535495, 'random_strength': 0.18787421461403667, 'early_stopping_rounds': 68, 'bagging_temperature': 0.5429171248824491, 'boosting_type': 'Plain', 'bootstrap_type': 'MVS', 'grow_policy': 'Lossguide', 'leaf_estimation_method': 'Newton', 'min_data_in_leaf': 27}\n",
      "[✓] 2025-05-07 19:22:52 | root            | INFO  | Trial 70 finished with f1: 0.9304 - params: {'iterations': 800, 'learning_rate': 0.128756126445743, 'depth': 9, 'l2_leaf_reg': 9.276208676535495, 'random_strength': 0.18787421461403667, 'early_stopping_rounds': 68, 'bagging_temperature': 0.5429171248824491, 'boosting_type': 'Plain', 'bootstrap_type': 'MVS', 'grow_policy': 'Lossguide', 'leaf_estimation_method': 'Newton', 'min_data_in_leaf': 27}\n"
     ]
    },
    {
     "name": "stderr",
     "output_type": "stream",
     "text": [
      "2025/05/07 19:22:52 INFO mlflow.tracking._tracking_service.client: 🏃 View run crawling-newt-158 at: https://dagshub.com/Akshat-Sharma-110011/Loan-Status-Approval.mlflow/#/experiments/1/runs/49c4bb346e694a879d636183034874f8.\n",
      "2025/05/07 19:22:52 INFO mlflow.tracking._tracking_service.client: 🧪 View experiment at: https://dagshub.com/Akshat-Sharma-110011/Loan-Status-Approval.mlflow/#/experiments/1.\n",
      "[I 2025-05-07 19:22:53,287] Trial 70 finished with value: 0.9303800118532262 and parameters: {'iterations': 800, 'learning_rate': 0.128756126445743, 'depth': 9, 'l2_leaf_reg': 9.276208676535495, 'random_strength': 0.18787421461403667, 'early_stopping_rounds': 68, 'bagging_temperature': 0.5429171248824491, 'boosting_type': 'Plain', 'bootstrap_type': 'MVS', 'grow_policy': 'Lossguide', 'leaf_estimation_method': 'Newton', 'min_data_in_leaf': 27}. Best is trial 16 with value: 0.9335946549661313.\n"
     ]
    },
    {
     "name": "stdout",
     "output_type": "stream",
     "text": [
      "[✓] 2025-05-07 19:23:20 | root            | INFO  | Trial 71 finished with f1: 0.9321 - params: {'iterations': 1100, 'learning_rate': 0.06218836012676641, 'depth': 9, 'l2_leaf_reg': 8.658232212508805, 'random_strength': 0.1676829341339179, 'early_stopping_rounds': 59, 'bagging_temperature': 1.228276582916042, 'boosting_type': 'Plain', 'bootstrap_type': 'MVS', 'grow_policy': 'Lossguide', 'leaf_estimation_method': 'Newton', 'min_data_in_leaf': 3}\n",
      "[✓] 2025-05-07 19:23:20 | root            | INFO  | Trial 71 finished with f1: 0.9321 - params: {'iterations': 1100, 'learning_rate': 0.06218836012676641, 'depth': 9, 'l2_leaf_reg': 8.658232212508805, 'random_strength': 0.1676829341339179, 'early_stopping_rounds': 59, 'bagging_temperature': 1.228276582916042, 'boosting_type': 'Plain', 'bootstrap_type': 'MVS', 'grow_policy': 'Lossguide', 'leaf_estimation_method': 'Newton', 'min_data_in_leaf': 3}\n"
     ]
    },
    {
     "name": "stderr",
     "output_type": "stream",
     "text": [
      "2025/05/07 19:23:20 INFO mlflow.tracking._tracking_service.client: 🏃 View run youthful-moose-12 at: https://dagshub.com/Akshat-Sharma-110011/Loan-Status-Approval.mlflow/#/experiments/1/runs/65656790c0bd471dbba8b1295ccdac32.\n",
      "2025/05/07 19:23:20 INFO mlflow.tracking._tracking_service.client: 🧪 View experiment at: https://dagshub.com/Akshat-Sharma-110011/Loan-Status-Approval.mlflow/#/experiments/1.\n",
      "[I 2025-05-07 19:23:21,400] Trial 71 finished with value: 0.9320551458430997 and parameters: {'iterations': 1100, 'learning_rate': 0.06218836012676641, 'depth': 9, 'l2_leaf_reg': 8.658232212508805, 'random_strength': 0.1676829341339179, 'early_stopping_rounds': 59, 'bagging_temperature': 1.228276582916042, 'boosting_type': 'Plain', 'bootstrap_type': 'MVS', 'grow_policy': 'Lossguide', 'leaf_estimation_method': 'Newton', 'min_data_in_leaf': 3}. Best is trial 16 with value: 0.9335946549661313.\n"
     ]
    },
    {
     "name": "stdout",
     "output_type": "stream",
     "text": [
      "[✓] 2025-05-07 19:23:43 | root            | INFO  | Trial 72 finished with f1: 0.9330 - params: {'iterations': 1000, 'learning_rate': 0.08066806421817026, 'depth': 9, 'l2_leaf_reg': 8.616646775914212, 'random_strength': 0.2206452966271886, 'early_stopping_rounds': 60, 'bagging_temperature': 1.236318857244699, 'boosting_type': 'Plain', 'bootstrap_type': 'MVS', 'grow_policy': 'Lossguide', 'leaf_estimation_method': 'Newton', 'min_data_in_leaf': 1}\n",
      "[✓] 2025-05-07 19:23:43 | root            | INFO  | Trial 72 finished with f1: 0.9330 - params: {'iterations': 1000, 'learning_rate': 0.08066806421817026, 'depth': 9, 'l2_leaf_reg': 8.616646775914212, 'random_strength': 0.2206452966271886, 'early_stopping_rounds': 60, 'bagging_temperature': 1.236318857244699, 'boosting_type': 'Plain', 'bootstrap_type': 'MVS', 'grow_policy': 'Lossguide', 'leaf_estimation_method': 'Newton', 'min_data_in_leaf': 1}\n"
     ]
    },
    {
     "name": "stderr",
     "output_type": "stream",
     "text": [
      "2025/05/07 19:23:43 INFO mlflow.tracking._tracking_service.client: 🏃 View run sincere-stork-885 at: https://dagshub.com/Akshat-Sharma-110011/Loan-Status-Approval.mlflow/#/experiments/1/runs/536f509b299643c787d81d07fdffadd7.\n",
      "2025/05/07 19:23:43 INFO mlflow.tracking._tracking_service.client: 🧪 View experiment at: https://dagshub.com/Akshat-Sharma-110011/Loan-Status-Approval.mlflow/#/experiments/1.\n",
      "[I 2025-05-07 19:23:43,825] Trial 72 finished with value: 0.933032281962513 and parameters: {'iterations': 1000, 'learning_rate': 0.08066806421817026, 'depth': 9, 'l2_leaf_reg': 8.616646775914212, 'random_strength': 0.2206452966271886, 'early_stopping_rounds': 60, 'bagging_temperature': 1.236318857244699, 'boosting_type': 'Plain', 'bootstrap_type': 'MVS', 'grow_policy': 'Lossguide', 'leaf_estimation_method': 'Newton', 'min_data_in_leaf': 1}. Best is trial 16 with value: 0.9335946549661313.\n"
     ]
    },
    {
     "name": "stdout",
     "output_type": "stream",
     "text": [
      "[✓] 2025-05-07 19:24:10 | root            | INFO  | Trial 73 finished with f1: 0.9314 - params: {'iterations': 1200, 'learning_rate': 0.06281276077363505, 'depth': 10, 'l2_leaf_reg': 8.708330295946562, 'random_strength': 0.22017733087923363, 'early_stopping_rounds': 61, 'bagging_temperature': 1.2071035303257098, 'boosting_type': 'Plain', 'bootstrap_type': 'MVS', 'grow_policy': 'Lossguide', 'leaf_estimation_method': 'Newton', 'min_data_in_leaf': 8}\n",
      "[✓] 2025-05-07 19:24:10 | root            | INFO  | Trial 73 finished with f1: 0.9314 - params: {'iterations': 1200, 'learning_rate': 0.06281276077363505, 'depth': 10, 'l2_leaf_reg': 8.708330295946562, 'random_strength': 0.22017733087923363, 'early_stopping_rounds': 61, 'bagging_temperature': 1.2071035303257098, 'boosting_type': 'Plain', 'bootstrap_type': 'MVS', 'grow_policy': 'Lossguide', 'leaf_estimation_method': 'Newton', 'min_data_in_leaf': 8}\n"
     ]
    },
    {
     "name": "stderr",
     "output_type": "stream",
     "text": [
      "2025/05/07 19:24:10 INFO mlflow.tracking._tracking_service.client: 🏃 View run awesome-ram-558 at: https://dagshub.com/Akshat-Sharma-110011/Loan-Status-Approval.mlflow/#/experiments/1/runs/9be61f0cb748466a895b1d4422e512fa.\n",
      "2025/05/07 19:24:10 INFO mlflow.tracking._tracking_service.client: 🧪 View experiment at: https://dagshub.com/Akshat-Sharma-110011/Loan-Status-Approval.mlflow/#/experiments/1.\n",
      "[I 2025-05-07 19:24:11,139] Trial 73 finished with value: 0.9313954894773079 and parameters: {'iterations': 1200, 'learning_rate': 0.06281276077363505, 'depth': 10, 'l2_leaf_reg': 8.708330295946562, 'random_strength': 0.22017733087923363, 'early_stopping_rounds': 61, 'bagging_temperature': 1.2071035303257098, 'boosting_type': 'Plain', 'bootstrap_type': 'MVS', 'grow_policy': 'Lossguide', 'leaf_estimation_method': 'Newton', 'min_data_in_leaf': 8}. Best is trial 16 with value: 0.9335946549661313.\n"
     ]
    },
    {
     "name": "stdout",
     "output_type": "stream",
     "text": [
      "[✓] 2025-05-07 19:24:41 | root            | INFO  | Trial 74 finished with f1: 0.9299 - params: {'iterations': 1000, 'learning_rate': 0.038243248184703295, 'depth': 10, 'l2_leaf_reg': 9.930748290145381, 'random_strength': 0.1601198129668461, 'early_stopping_rounds': 75, 'bagging_temperature': 1.6429470495566783, 'boosting_type': 'Plain', 'bootstrap_type': 'MVS', 'grow_policy': 'Lossguide', 'leaf_estimation_method': 'Newton', 'min_data_in_leaf': 1}\n",
      "[✓] 2025-05-07 19:24:41 | root            | INFO  | Trial 74 finished with f1: 0.9299 - params: {'iterations': 1000, 'learning_rate': 0.038243248184703295, 'depth': 10, 'l2_leaf_reg': 9.930748290145381, 'random_strength': 0.1601198129668461, 'early_stopping_rounds': 75, 'bagging_temperature': 1.6429470495566783, 'boosting_type': 'Plain', 'bootstrap_type': 'MVS', 'grow_policy': 'Lossguide', 'leaf_estimation_method': 'Newton', 'min_data_in_leaf': 1}\n"
     ]
    },
    {
     "name": "stderr",
     "output_type": "stream",
     "text": [
      "2025/05/07 19:24:42 INFO mlflow.tracking._tracking_service.client: 🏃 View run lyrical-kite-418 at: https://dagshub.com/Akshat-Sharma-110011/Loan-Status-Approval.mlflow/#/experiments/1/runs/73046b50bf0a42b3b732314667a41faa.\n",
      "2025/05/07 19:24:42 INFO mlflow.tracking._tracking_service.client: 🧪 View experiment at: https://dagshub.com/Akshat-Sharma-110011/Loan-Status-Approval.mlflow/#/experiments/1.\n",
      "[I 2025-05-07 19:24:42,428] Trial 74 finished with value: 0.9298511180926495 and parameters: {'iterations': 1000, 'learning_rate': 0.038243248184703295, 'depth': 10, 'l2_leaf_reg': 9.930748290145381, 'random_strength': 0.1601198129668461, 'early_stopping_rounds': 75, 'bagging_temperature': 1.6429470495566783, 'boosting_type': 'Plain', 'bootstrap_type': 'MVS', 'grow_policy': 'Lossguide', 'leaf_estimation_method': 'Newton', 'min_data_in_leaf': 1}. Best is trial 16 with value: 0.9335946549661313.\n"
     ]
    },
    {
     "name": "stdout",
     "output_type": "stream",
     "text": [
      "[✓] 2025-05-07 19:24:54 | root            | INFO  | Trial 75 finished with f1: 0.9307 - params: {'iterations': 1100, 'learning_rate': 0.08046293510091547, 'depth': 9, 'l2_leaf_reg': 9.565570827671538, 'random_strength': 0.11399533946124997, 'early_stopping_rounds': 55, 'bagging_temperature': 0.34645989660955623, 'boosting_type': 'Plain', 'bootstrap_type': 'MVS', 'grow_policy': 'Lossguide', 'leaf_estimation_method': 'Newton', 'min_data_in_leaf': 11}\n",
      "[✓] 2025-05-07 19:24:54 | root            | INFO  | Trial 75 finished with f1: 0.9307 - params: {'iterations': 1100, 'learning_rate': 0.08046293510091547, 'depth': 9, 'l2_leaf_reg': 9.565570827671538, 'random_strength': 0.11399533946124997, 'early_stopping_rounds': 55, 'bagging_temperature': 0.34645989660955623, 'boosting_type': 'Plain', 'bootstrap_type': 'MVS', 'grow_policy': 'Lossguide', 'leaf_estimation_method': 'Newton', 'min_data_in_leaf': 11}\n"
     ]
    },
    {
     "name": "stderr",
     "output_type": "stream",
     "text": [
      "2025/05/07 19:24:54 INFO mlflow.tracking._tracking_service.client: 🏃 View run amazing-stork-447 at: https://dagshub.com/Akshat-Sharma-110011/Loan-Status-Approval.mlflow/#/experiments/1/runs/f74294dd690140ea8d0d4ee1feef39a1.\n",
      "2025/05/07 19:24:54 INFO mlflow.tracking._tracking_service.client: 🧪 View experiment at: https://dagshub.com/Akshat-Sharma-110011/Loan-Status-Approval.mlflow/#/experiments/1.\n",
      "[I 2025-05-07 19:24:55,032] Trial 75 finished with value: 0.9307228962368893 and parameters: {'iterations': 1100, 'learning_rate': 0.08046293510091547, 'depth': 9, 'l2_leaf_reg': 9.565570827671538, 'random_strength': 0.11399533946124997, 'early_stopping_rounds': 55, 'bagging_temperature': 0.34645989660955623, 'boosting_type': 'Plain', 'bootstrap_type': 'MVS', 'grow_policy': 'Lossguide', 'leaf_estimation_method': 'Newton', 'min_data_in_leaf': 11}. Best is trial 16 with value: 0.9335946549661313.\n"
     ]
    },
    {
     "name": "stdout",
     "output_type": "stream",
     "text": [
      "[✓] 2025-05-07 19:25:08 | root            | INFO  | Trial 76 finished with f1: 0.9320 - params: {'iterations': 1100, 'learning_rate': 0.1129635579630011, 'depth': 10, 'l2_leaf_reg': 9.103968338307872, 'random_strength': 0.21568768506714578, 'early_stopping_rounds': 50, 'bagging_temperature': 2.9476646905471924, 'boosting_type': 'Plain', 'bootstrap_type': 'MVS', 'grow_policy': 'Lossguide', 'leaf_estimation_method': 'Newton', 'min_data_in_leaf': 5}\n",
      "[✓] 2025-05-07 19:25:08 | root            | INFO  | Trial 76 finished with f1: 0.9320 - params: {'iterations': 1100, 'learning_rate': 0.1129635579630011, 'depth': 10, 'l2_leaf_reg': 9.103968338307872, 'random_strength': 0.21568768506714578, 'early_stopping_rounds': 50, 'bagging_temperature': 2.9476646905471924, 'boosting_type': 'Plain', 'bootstrap_type': 'MVS', 'grow_policy': 'Lossguide', 'leaf_estimation_method': 'Newton', 'min_data_in_leaf': 5}\n"
     ]
    },
    {
     "name": "stderr",
     "output_type": "stream",
     "text": [
      "2025/05/07 19:25:09 INFO mlflow.tracking._tracking_service.client: 🏃 View run entertaining-croc-82 at: https://dagshub.com/Akshat-Sharma-110011/Loan-Status-Approval.mlflow/#/experiments/1/runs/46a6a6a557df4812b0e8cab2e736d78f.\n",
      "2025/05/07 19:25:09 INFO mlflow.tracking._tracking_service.client: 🧪 View experiment at: https://dagshub.com/Akshat-Sharma-110011/Loan-Status-Approval.mlflow/#/experiments/1.\n",
      "[I 2025-05-07 19:25:09,436] Trial 76 finished with value: 0.9320292136280814 and parameters: {'iterations': 1100, 'learning_rate': 0.1129635579630011, 'depth': 10, 'l2_leaf_reg': 9.103968338307872, 'random_strength': 0.21568768506714578, 'early_stopping_rounds': 50, 'bagging_temperature': 2.9476646905471924, 'boosting_type': 'Plain', 'bootstrap_type': 'MVS', 'grow_policy': 'Lossguide', 'leaf_estimation_method': 'Newton', 'min_data_in_leaf': 5}. Best is trial 16 with value: 0.9335946549661313.\n"
     ]
    },
    {
     "name": "stdout",
     "output_type": "stream",
     "text": [
      "[✗] 2025-05-07 19:25:10 | root            | ERROR | Trial 77 failed: catboost/private/libs/options/catboost_options.cpp:758: Ordered boosting is not supported for nonsymmetric trees.\n",
      "[✗] 2025-05-07 19:25:10 | root            | ERROR | Trial 77 failed: catboost/private/libs/options/catboost_options.cpp:758: Ordered boosting is not supported for nonsymmetric trees.\n"
     ]
    },
    {
     "name": "stderr",
     "output_type": "stream",
     "text": [
      "2025/05/07 19:25:10 INFO mlflow.tracking._tracking_service.client: 🏃 View run clean-jay-409 at: https://dagshub.com/Akshat-Sharma-110011/Loan-Status-Approval.mlflow/#/experiments/1/runs/1521997061ff4d9e8fab1900e3324d64.\n",
      "2025/05/07 19:25:10 INFO mlflow.tracking._tracking_service.client: 🧪 View experiment at: https://dagshub.com/Akshat-Sharma-110011/Loan-Status-Approval.mlflow/#/experiments/1.\n",
      "[I 2025-05-07 19:25:11,065] Trial 77 finished with value: -inf and parameters: {'iterations': 1100, 'learning_rate': 0.18184832798499007, 'depth': 8, 'l2_leaf_reg': 9.136079932460133, 'random_strength': 0.23976840708089958, 'early_stopping_rounds': 51, 'bagging_temperature': 1.0403432906848857, 'boosting_type': 'Ordered', 'bootstrap_type': 'MVS', 'grow_policy': 'Lossguide', 'leaf_estimation_method': 'Newton', 'min_data_in_leaf': 4}. Best is trial 16 with value: 0.9335946549661313.\n"
     ]
    },
    {
     "name": "stdout",
     "output_type": "stream",
     "text": [
      "[✓] 2025-05-07 19:25:58 | root            | INFO  | Trial 78 finished with f1: 0.9291 - params: {'iterations': 900, 'learning_rate': 0.052717150987516774, 'depth': 9, 'l2_leaf_reg': 8.974363191616543, 'random_strength': 0.33595318333272894, 'early_stopping_rounds': 59, 'bagging_temperature': 3.143059193935269, 'boosting_type': 'Plain', 'bootstrap_type': 'MVS', 'grow_policy': 'Lossguide', 'leaf_estimation_method': 'Gradient', 'min_data_in_leaf': 5}\n",
      "[✓] 2025-05-07 19:25:58 | root            | INFO  | Trial 78 finished with f1: 0.9291 - params: {'iterations': 900, 'learning_rate': 0.052717150987516774, 'depth': 9, 'l2_leaf_reg': 8.974363191616543, 'random_strength': 0.33595318333272894, 'early_stopping_rounds': 59, 'bagging_temperature': 3.143059193935269, 'boosting_type': 'Plain', 'bootstrap_type': 'MVS', 'grow_policy': 'Lossguide', 'leaf_estimation_method': 'Gradient', 'min_data_in_leaf': 5}\n"
     ]
    },
    {
     "name": "stderr",
     "output_type": "stream",
     "text": [
      "2025/05/07 19:25:58 INFO mlflow.tracking._tracking_service.client: 🏃 View run adaptable-hawk-244 at: https://dagshub.com/Akshat-Sharma-110011/Loan-Status-Approval.mlflow/#/experiments/1/runs/7acd6eed6223438c8786f44eaa2822d5.\n",
      "2025/05/07 19:25:58 INFO mlflow.tracking._tracking_service.client: 🧪 View experiment at: https://dagshub.com/Akshat-Sharma-110011/Loan-Status-Approval.mlflow/#/experiments/1.\n",
      "[I 2025-05-07 19:25:58,935] Trial 78 finished with value: 0.9290901504061292 and parameters: {'iterations': 900, 'learning_rate': 0.052717150987516774, 'depth': 9, 'l2_leaf_reg': 8.974363191616543, 'random_strength': 0.33595318333272894, 'early_stopping_rounds': 59, 'bagging_temperature': 3.143059193935269, 'boosting_type': 'Plain', 'bootstrap_type': 'MVS', 'grow_policy': 'Lossguide', 'leaf_estimation_method': 'Gradient', 'min_data_in_leaf': 5}. Best is trial 16 with value: 0.9335946549661313.\n"
     ]
    },
    {
     "name": "stdout",
     "output_type": "stream",
     "text": [
      "[✓] 2025-05-07 19:26:37 | root            | INFO  | Trial 79 finished with f1: 0.9269 - params: {'iterations': 1200, 'learning_rate': 0.014758613140149722, 'depth': 10, 'l2_leaf_reg': 9.437999353050417, 'random_strength': 0.20548786199040123, 'early_stopping_rounds': 62, 'bagging_temperature': 0.7842639056658169, 'boosting_type': 'Plain', 'bootstrap_type': 'Bayesian', 'grow_policy': 'Lossguide', 'leaf_estimation_method': 'Newton', 'min_data_in_leaf': 12}\n",
      "[✓] 2025-05-07 19:26:37 | root            | INFO  | Trial 79 finished with f1: 0.9269 - params: {'iterations': 1200, 'learning_rate': 0.014758613140149722, 'depth': 10, 'l2_leaf_reg': 9.437999353050417, 'random_strength': 0.20548786199040123, 'early_stopping_rounds': 62, 'bagging_temperature': 0.7842639056658169, 'boosting_type': 'Plain', 'bootstrap_type': 'Bayesian', 'grow_policy': 'Lossguide', 'leaf_estimation_method': 'Newton', 'min_data_in_leaf': 12}\n"
     ]
    },
    {
     "name": "stderr",
     "output_type": "stream",
     "text": [
      "2025/05/07 19:26:38 INFO mlflow.tracking._tracking_service.client: 🏃 View run nosy-bass-532 at: https://dagshub.com/Akshat-Sharma-110011/Loan-Status-Approval.mlflow/#/experiments/1/runs/1ba5a36ad0594b23a9aecf5193948a27.\n",
      "2025/05/07 19:26:38 INFO mlflow.tracking._tracking_service.client: 🧪 View experiment at: https://dagshub.com/Akshat-Sharma-110011/Loan-Status-Approval.mlflow/#/experiments/1.\n",
      "[I 2025-05-07 19:26:38,447] Trial 79 finished with value: 0.9269486513039153 and parameters: {'iterations': 1200, 'learning_rate': 0.014758613140149722, 'depth': 10, 'l2_leaf_reg': 9.437999353050417, 'random_strength': 0.20548786199040123, 'early_stopping_rounds': 62, 'bagging_temperature': 0.7842639056658169, 'boosting_type': 'Plain', 'bootstrap_type': 'Bayesian', 'grow_policy': 'Lossguide', 'leaf_estimation_method': 'Newton', 'min_data_in_leaf': 12}. Best is trial 16 with value: 0.9335946549661313.\n"
     ]
    },
    {
     "name": "stdout",
     "output_type": "stream",
     "text": [
      "[✓] 2025-05-07 19:26:47 | root            | INFO  | Trial 80 finished with f1: 0.9291 - params: {'iterations': 1000, 'learning_rate': 0.22301149774732423, 'depth': 10, 'l2_leaf_reg': 8.53023993329248, 'random_strength': 0.17172887764058845, 'early_stopping_rounds': 56, 'bagging_temperature': 1.3952746096315702, 'boosting_type': 'Plain', 'bootstrap_type': 'MVS', 'grow_policy': 'Lossguide', 'leaf_estimation_method': 'Newton', 'min_data_in_leaf': 1}\n",
      "[✓] 2025-05-07 19:26:47 | root            | INFO  | Trial 80 finished with f1: 0.9291 - params: {'iterations': 1000, 'learning_rate': 0.22301149774732423, 'depth': 10, 'l2_leaf_reg': 8.53023993329248, 'random_strength': 0.17172887764058845, 'early_stopping_rounds': 56, 'bagging_temperature': 1.3952746096315702, 'boosting_type': 'Plain', 'bootstrap_type': 'MVS', 'grow_policy': 'Lossguide', 'leaf_estimation_method': 'Newton', 'min_data_in_leaf': 1}\n"
     ]
    },
    {
     "name": "stderr",
     "output_type": "stream",
     "text": [
      "2025/05/07 19:26:47 INFO mlflow.tracking._tracking_service.client: 🏃 View run bold-rook-328 at: https://dagshub.com/Akshat-Sharma-110011/Loan-Status-Approval.mlflow/#/experiments/1/runs/43d9b1b30fee4b91a899c7e4418d8634.\n",
      "2025/05/07 19:26:47 INFO mlflow.tracking._tracking_service.client: 🧪 View experiment at: https://dagshub.com/Akshat-Sharma-110011/Loan-Status-Approval.mlflow/#/experiments/1.\n",
      "[I 2025-05-07 19:26:47,937] Trial 80 finished with value: 0.9291265078499121 and parameters: {'iterations': 1000, 'learning_rate': 0.22301149774732423, 'depth': 10, 'l2_leaf_reg': 8.53023993329248, 'random_strength': 0.17172887764058845, 'early_stopping_rounds': 56, 'bagging_temperature': 1.3952746096315702, 'boosting_type': 'Plain', 'bootstrap_type': 'MVS', 'grow_policy': 'Lossguide', 'leaf_estimation_method': 'Newton', 'min_data_in_leaf': 1}. Best is trial 16 with value: 0.9335946549661313.\n"
     ]
    },
    {
     "name": "stdout",
     "output_type": "stream",
     "text": [
      "[✓] 2025-05-07 19:27:01 | root            | INFO  | Trial 81 finished with f1: 0.9306 - params: {'iterations': 1100, 'learning_rate': 0.11766540122668422, 'depth': 10, 'l2_leaf_reg': 8.865926268150949, 'random_strength': 0.11882569169443642, 'early_stopping_rounds': 74, 'bagging_temperature': 1.9992925443535536, 'boosting_type': 'Plain', 'bootstrap_type': 'MVS', 'grow_policy': 'Lossguide', 'leaf_estimation_method': 'Newton', 'min_data_in_leaf': 7}\n",
      "[✓] 2025-05-07 19:27:01 | root            | INFO  | Trial 81 finished with f1: 0.9306 - params: {'iterations': 1100, 'learning_rate': 0.11766540122668422, 'depth': 10, 'l2_leaf_reg': 8.865926268150949, 'random_strength': 0.11882569169443642, 'early_stopping_rounds': 74, 'bagging_temperature': 1.9992925443535536, 'boosting_type': 'Plain', 'bootstrap_type': 'MVS', 'grow_policy': 'Lossguide', 'leaf_estimation_method': 'Newton', 'min_data_in_leaf': 7}\n"
     ]
    },
    {
     "name": "stderr",
     "output_type": "stream",
     "text": [
      "2025/05/07 19:27:01 INFO mlflow.tracking._tracking_service.client: 🏃 View run welcoming-grub-188 at: https://dagshub.com/Akshat-Sharma-110011/Loan-Status-Approval.mlflow/#/experiments/1/runs/a08c37468861457c89b835a927be00d2.\n",
      "2025/05/07 19:27:01 INFO mlflow.tracking._tracking_service.client: 🧪 View experiment at: https://dagshub.com/Akshat-Sharma-110011/Loan-Status-Approval.mlflow/#/experiments/1.\n",
      "[I 2025-05-07 19:27:01,966] Trial 81 finished with value: 0.9305644598572791 and parameters: {'iterations': 1100, 'learning_rate': 0.11766540122668422, 'depth': 10, 'l2_leaf_reg': 8.865926268150949, 'random_strength': 0.11882569169443642, 'early_stopping_rounds': 74, 'bagging_temperature': 1.9992925443535536, 'boosting_type': 'Plain', 'bootstrap_type': 'MVS', 'grow_policy': 'Lossguide', 'leaf_estimation_method': 'Newton', 'min_data_in_leaf': 7}. Best is trial 16 with value: 0.9335946549661313.\n"
     ]
    },
    {
     "name": "stdout",
     "output_type": "stream",
     "text": [
      "[✓] 2025-05-07 19:27:21 | root            | INFO  | Trial 82 finished with f1: 0.9315 - params: {'iterations': 1300, 'learning_rate': 0.1041225158396823, 'depth': 10, 'l2_leaf_reg': 8.372812234630594, 'random_strength': 0.15005833842730346, 'early_stopping_rounds': 80, 'bagging_temperature': 2.208230968079641, 'boosting_type': 'Plain', 'bootstrap_type': 'MVS', 'grow_policy': 'Lossguide', 'leaf_estimation_method': 'Newton', 'min_data_in_leaf': 8}\n",
      "[✓] 2025-05-07 19:27:21 | root            | INFO  | Trial 82 finished with f1: 0.9315 - params: {'iterations': 1300, 'learning_rate': 0.1041225158396823, 'depth': 10, 'l2_leaf_reg': 8.372812234630594, 'random_strength': 0.15005833842730346, 'early_stopping_rounds': 80, 'bagging_temperature': 2.208230968079641, 'boosting_type': 'Plain', 'bootstrap_type': 'MVS', 'grow_policy': 'Lossguide', 'leaf_estimation_method': 'Newton', 'min_data_in_leaf': 8}\n"
     ]
    },
    {
     "name": "stderr",
     "output_type": "stream",
     "text": [
      "2025/05/07 19:27:22 INFO mlflow.tracking._tracking_service.client: 🏃 View run bustling-hen-732 at: https://dagshub.com/Akshat-Sharma-110011/Loan-Status-Approval.mlflow/#/experiments/1/runs/4a16fc21e6a1442790e830005a858a92.\n",
      "2025/05/07 19:27:22 INFO mlflow.tracking._tracking_service.client: 🧪 View experiment at: https://dagshub.com/Akshat-Sharma-110011/Loan-Status-Approval.mlflow/#/experiments/1.\n",
      "[I 2025-05-07 19:27:22,501] Trial 82 finished with value: 0.9315010689967567 and parameters: {'iterations': 1300, 'learning_rate': 0.1041225158396823, 'depth': 10, 'l2_leaf_reg': 8.372812234630594, 'random_strength': 0.15005833842730346, 'early_stopping_rounds': 80, 'bagging_temperature': 2.208230968079641, 'boosting_type': 'Plain', 'bootstrap_type': 'MVS', 'grow_policy': 'Lossguide', 'leaf_estimation_method': 'Newton', 'min_data_in_leaf': 8}. Best is trial 16 with value: 0.9335946549661313.\n"
     ]
    },
    {
     "name": "stdout",
     "output_type": "stream",
     "text": [
      "[✓] 2025-05-07 19:27:41 | root            | INFO  | Trial 83 finished with f1: 0.9328 - params: {'iterations': 1200, 'learning_rate': 0.08045902825149487, 'depth': 9, 'l2_leaf_reg': 9.188207243614803, 'random_strength': 0.25484753266092425, 'early_stopping_rounds': 52, 'bagging_temperature': 3.1018221445173024, 'boosting_type': 'Plain', 'bootstrap_type': 'MVS', 'grow_policy': 'Lossguide', 'leaf_estimation_method': 'Newton', 'min_data_in_leaf': 17}\n",
      "[✓] 2025-05-07 19:27:41 | root            | INFO  | Trial 83 finished with f1: 0.9328 - params: {'iterations': 1200, 'learning_rate': 0.08045902825149487, 'depth': 9, 'l2_leaf_reg': 9.188207243614803, 'random_strength': 0.25484753266092425, 'early_stopping_rounds': 52, 'bagging_temperature': 3.1018221445173024, 'boosting_type': 'Plain', 'bootstrap_type': 'MVS', 'grow_policy': 'Lossguide', 'leaf_estimation_method': 'Newton', 'min_data_in_leaf': 17}\n"
     ]
    },
    {
     "name": "stderr",
     "output_type": "stream",
     "text": [
      "2025/05/07 19:27:42 INFO mlflow.tracking._tracking_service.client: 🏃 View run victorious-gnat-819 at: https://dagshub.com/Akshat-Sharma-110011/Loan-Status-Approval.mlflow/#/experiments/1/runs/7b0662ec9b8544909a2b0e454760a16d.\n",
      "2025/05/07 19:27:42 INFO mlflow.tracking._tracking_service.client: 🧪 View experiment at: https://dagshub.com/Akshat-Sharma-110011/Loan-Status-Approval.mlflow/#/experiments/1.\n",
      "[I 2025-05-07 19:27:42,898] Trial 83 finished with value: 0.9327822052535784 and parameters: {'iterations': 1200, 'learning_rate': 0.08045902825149487, 'depth': 9, 'l2_leaf_reg': 9.188207243614803, 'random_strength': 0.25484753266092425, 'early_stopping_rounds': 52, 'bagging_temperature': 3.1018221445173024, 'boosting_type': 'Plain', 'bootstrap_type': 'MVS', 'grow_policy': 'Lossguide', 'leaf_estimation_method': 'Newton', 'min_data_in_leaf': 17}. Best is trial 16 with value: 0.9335946549661313.\n"
     ]
    },
    {
     "name": "stdout",
     "output_type": "stream",
     "text": [
      "[✓] 2025-05-07 19:28:03 | root            | INFO  | Trial 84 finished with f1: 0.9301 - params: {'iterations': 1200, 'learning_rate': 0.08579783059898413, 'depth': 9, 'l2_leaf_reg': 5.397232275185811, 'random_strength': 0.23717370448458852, 'early_stopping_rounds': 65, 'bagging_temperature': 2.9766579588573174, 'boosting_type': 'Plain', 'bootstrap_type': 'MVS', 'grow_policy': 'Lossguide', 'leaf_estimation_method': 'Newton', 'min_data_in_leaf': 17}\n",
      "[✓] 2025-05-07 19:28:03 | root            | INFO  | Trial 84 finished with f1: 0.9301 - params: {'iterations': 1200, 'learning_rate': 0.08579783059898413, 'depth': 9, 'l2_leaf_reg': 5.397232275185811, 'random_strength': 0.23717370448458852, 'early_stopping_rounds': 65, 'bagging_temperature': 2.9766579588573174, 'boosting_type': 'Plain', 'bootstrap_type': 'MVS', 'grow_policy': 'Lossguide', 'leaf_estimation_method': 'Newton', 'min_data_in_leaf': 17}\n"
     ]
    },
    {
     "name": "stderr",
     "output_type": "stream",
     "text": [
      "2025/05/07 19:28:04 INFO mlflow.tracking._tracking_service.client: 🏃 View run bedecked-gull-154 at: https://dagshub.com/Akshat-Sharma-110011/Loan-Status-Approval.mlflow/#/experiments/1/runs/4ca3db39dd014005a2506fafbbdb9fd5.\n",
      "2025/05/07 19:28:04 INFO mlflow.tracking._tracking_service.client: 🧪 View experiment at: https://dagshub.com/Akshat-Sharma-110011/Loan-Status-Approval.mlflow/#/experiments/1.\n",
      "[I 2025-05-07 19:28:04,498] Trial 84 finished with value: 0.9301291148368473 and parameters: {'iterations': 1200, 'learning_rate': 0.08579783059898413, 'depth': 9, 'l2_leaf_reg': 5.397232275185811, 'random_strength': 0.23717370448458852, 'early_stopping_rounds': 65, 'bagging_temperature': 2.9766579588573174, 'boosting_type': 'Plain', 'bootstrap_type': 'MVS', 'grow_policy': 'Lossguide', 'leaf_estimation_method': 'Newton', 'min_data_in_leaf': 17}. Best is trial 16 with value: 0.9335946549661313.\n"
     ]
    },
    {
     "name": "stdout",
     "output_type": "stream",
     "text": [
      "[✓] 2025-05-07 19:28:22 | root            | INFO  | Trial 85 finished with f1: 0.9314 - params: {'iterations': 1300, 'learning_rate': 0.06659632724419838, 'depth': 9, 'l2_leaf_reg': 9.99760507573883, 'random_strength': 0.326413967256065, 'early_stopping_rounds': 55, 'bagging_temperature': 4.057290786345057, 'boosting_type': 'Plain', 'bootstrap_type': 'MVS', 'grow_policy': 'Lossguide', 'leaf_estimation_method': 'Newton', 'min_data_in_leaf': 21}\n",
      "[✓] 2025-05-07 19:28:22 | root            | INFO  | Trial 85 finished with f1: 0.9314 - params: {'iterations': 1300, 'learning_rate': 0.06659632724419838, 'depth': 9, 'l2_leaf_reg': 9.99760507573883, 'random_strength': 0.326413967256065, 'early_stopping_rounds': 55, 'bagging_temperature': 4.057290786345057, 'boosting_type': 'Plain', 'bootstrap_type': 'MVS', 'grow_policy': 'Lossguide', 'leaf_estimation_method': 'Newton', 'min_data_in_leaf': 21}\n"
     ]
    },
    {
     "name": "stderr",
     "output_type": "stream",
     "text": [
      "2025/05/07 19:28:22 INFO mlflow.tracking._tracking_service.client: 🏃 View run mercurial-frog-256 at: https://dagshub.com/Akshat-Sharma-110011/Loan-Status-Approval.mlflow/#/experiments/1/runs/ecf4b7d2303c487d9a492d5d46a5da20.\n",
      "2025/05/07 19:28:22 INFO mlflow.tracking._tracking_service.client: 🧪 View experiment at: https://dagshub.com/Akshat-Sharma-110011/Loan-Status-Approval.mlflow/#/experiments/1.\n",
      "[I 2025-05-07 19:28:23,318] Trial 85 finished with value: 0.9314215604954255 and parameters: {'iterations': 1300, 'learning_rate': 0.06659632724419838, 'depth': 9, 'l2_leaf_reg': 9.99760507573883, 'random_strength': 0.326413967256065, 'early_stopping_rounds': 55, 'bagging_temperature': 4.057290786345057, 'boosting_type': 'Plain', 'bootstrap_type': 'MVS', 'grow_policy': 'Lossguide', 'leaf_estimation_method': 'Newton', 'min_data_in_leaf': 21}. Best is trial 16 with value: 0.9335946549661313.\n"
     ]
    },
    {
     "name": "stdout",
     "output_type": "stream",
     "text": [
      "[✓] 2025-05-07 19:28:35 | root            | INFO  | Trial 86 finished with f1: 0.9325 - params: {'iterations': 1000, 'learning_rate': 0.15569235401221818, 'depth': 9, 'l2_leaf_reg': 8.279019016746695, 'random_strength': 0.2577895952351656, 'early_stopping_rounds': 51, 'bagging_temperature': 1.525985443636999, 'boosting_type': 'Plain', 'bootstrap_type': 'MVS', 'grow_policy': 'Lossguide', 'leaf_estimation_method': 'Newton', 'min_data_in_leaf': 13}\n",
      "[✓] 2025-05-07 19:28:35 | root            | INFO  | Trial 86 finished with f1: 0.9325 - params: {'iterations': 1000, 'learning_rate': 0.15569235401221818, 'depth': 9, 'l2_leaf_reg': 8.279019016746695, 'random_strength': 0.2577895952351656, 'early_stopping_rounds': 51, 'bagging_temperature': 1.525985443636999, 'boosting_type': 'Plain', 'bootstrap_type': 'MVS', 'grow_policy': 'Lossguide', 'leaf_estimation_method': 'Newton', 'min_data_in_leaf': 13}\n"
     ]
    },
    {
     "name": "stderr",
     "output_type": "stream",
     "text": [
      "2025/05/07 19:28:36 INFO mlflow.tracking._tracking_service.client: 🏃 View run stately-kit-921 at: https://dagshub.com/Akshat-Sharma-110011/Loan-Status-Approval.mlflow/#/experiments/1/runs/6bf3c4b3648144689fa565cf5b16306b.\n",
      "2025/05/07 19:28:36 INFO mlflow.tracking._tracking_service.client: 🧪 View experiment at: https://dagshub.com/Akshat-Sharma-110011/Loan-Status-Approval.mlflow/#/experiments/1.\n",
      "[I 2025-05-07 19:28:36,721] Trial 86 finished with value: 0.9325421232324284 and parameters: {'iterations': 1000, 'learning_rate': 0.15569235401221818, 'depth': 9, 'l2_leaf_reg': 8.279019016746695, 'random_strength': 0.2577895952351656, 'early_stopping_rounds': 51, 'bagging_temperature': 1.525985443636999, 'boosting_type': 'Plain', 'bootstrap_type': 'MVS', 'grow_policy': 'Lossguide', 'leaf_estimation_method': 'Newton', 'min_data_in_leaf': 13}. Best is trial 16 with value: 0.9335946549661313.\n"
     ]
    },
    {
     "name": "stdout",
     "output_type": "stream",
     "text": [
      "[✓] 2025-05-07 19:29:18 | root            | INFO  | Trial 87 finished with f1: 0.9283 - params: {'iterations': 1200, 'learning_rate': 0.15377187531022565, 'depth': 8, 'l2_leaf_reg': 9.202171657652519, 'random_strength': 0.41766462125244813, 'early_stopping_rounds': 50, 'bagging_temperature': 3.2113593807146508, 'boosting_type': 'Ordered', 'bootstrap_type': 'MVS', 'grow_policy': 'SymmetricTree', 'leaf_estimation_method': 'Newton'}\n",
      "[✓] 2025-05-07 19:29:18 | root            | INFO  | Trial 87 finished with f1: 0.9283 - params: {'iterations': 1200, 'learning_rate': 0.15377187531022565, 'depth': 8, 'l2_leaf_reg': 9.202171657652519, 'random_strength': 0.41766462125244813, 'early_stopping_rounds': 50, 'bagging_temperature': 3.2113593807146508, 'boosting_type': 'Ordered', 'bootstrap_type': 'MVS', 'grow_policy': 'SymmetricTree', 'leaf_estimation_method': 'Newton'}\n"
     ]
    },
    {
     "name": "stderr",
     "output_type": "stream",
     "text": [
      "2025/05/07 19:29:19 INFO mlflow.tracking._tracking_service.client: 🏃 View run colorful-roo-684 at: https://dagshub.com/Akshat-Sharma-110011/Loan-Status-Approval.mlflow/#/experiments/1/runs/050481a368b1426488eb5ef536281930.\n",
      "2025/05/07 19:29:19 INFO mlflow.tracking._tracking_service.client: 🧪 View experiment at: https://dagshub.com/Akshat-Sharma-110011/Loan-Status-Approval.mlflow/#/experiments/1.\n",
      "[I 2025-05-07 19:29:19,620] Trial 87 finished with value: 0.9282660077515305 and parameters: {'iterations': 1200, 'learning_rate': 0.15377187531022565, 'depth': 8, 'l2_leaf_reg': 9.202171657652519, 'random_strength': 0.41766462125244813, 'early_stopping_rounds': 50, 'bagging_temperature': 3.2113593807146508, 'boosting_type': 'Ordered', 'bootstrap_type': 'MVS', 'grow_policy': 'SymmetricTree', 'leaf_estimation_method': 'Newton'}. Best is trial 16 with value: 0.9335946549661313.\n"
     ]
    },
    {
     "name": "stdout",
     "output_type": "stream",
     "text": [
      "[✓] 2025-05-07 19:29:32 | root            | INFO  | Trial 88 finished with f1: 0.9333 - params: {'iterations': 1000, 'learning_rate': 0.12974121916184325, 'depth': 9, 'l2_leaf_reg': 4.751967467928095, 'random_strength': 0.2724789041629294, 'early_stopping_rounds': 58, 'bagging_temperature': 1.4324487473864045, 'boosting_type': 'Plain', 'bootstrap_type': 'MVS', 'grow_policy': 'Lossguide', 'leaf_estimation_method': 'Newton', 'min_data_in_leaf': 13}\n",
      "[✓] 2025-05-07 19:29:32 | root            | INFO  | Trial 88 finished with f1: 0.9333 - params: {'iterations': 1000, 'learning_rate': 0.12974121916184325, 'depth': 9, 'l2_leaf_reg': 4.751967467928095, 'random_strength': 0.2724789041629294, 'early_stopping_rounds': 58, 'bagging_temperature': 1.4324487473864045, 'boosting_type': 'Plain', 'bootstrap_type': 'MVS', 'grow_policy': 'Lossguide', 'leaf_estimation_method': 'Newton', 'min_data_in_leaf': 13}\n"
     ]
    },
    {
     "name": "stderr",
     "output_type": "stream",
     "text": [
      "2025/05/07 19:29:33 INFO mlflow.tracking._tracking_service.client: 🏃 View run resilient-eel-558 at: https://dagshub.com/Akshat-Sharma-110011/Loan-Status-Approval.mlflow/#/experiments/1/runs/785d238c73854d30b493a6d621cf60f7.\n",
      "2025/05/07 19:29:33 INFO mlflow.tracking._tracking_service.client: 🧪 View experiment at: https://dagshub.com/Akshat-Sharma-110011/Loan-Status-Approval.mlflow/#/experiments/1.\n",
      "[I 2025-05-07 19:29:33,434] Trial 88 finished with value: 0.9333241023977963 and parameters: {'iterations': 1000, 'learning_rate': 0.12974121916184325, 'depth': 9, 'l2_leaf_reg': 4.751967467928095, 'random_strength': 0.2724789041629294, 'early_stopping_rounds': 58, 'bagging_temperature': 1.4324487473864045, 'boosting_type': 'Plain', 'bootstrap_type': 'MVS', 'grow_policy': 'Lossguide', 'leaf_estimation_method': 'Newton', 'min_data_in_leaf': 13}. Best is trial 16 with value: 0.9335946549661313.\n"
     ]
    },
    {
     "name": "stdout",
     "output_type": "stream",
     "text": [
      "[✗] 2025-05-07 19:29:34 | root            | ERROR | Trial 89 failed: catboost/private/libs/options/bootstrap_options.cpp:44: Error: bagging temperature available for bayesian bootstrap only\n",
      "[✗] 2025-05-07 19:29:34 | root            | ERROR | Trial 89 failed: catboost/private/libs/options/bootstrap_options.cpp:44: Error: bagging temperature available for bayesian bootstrap only\n"
     ]
    },
    {
     "name": "stderr",
     "output_type": "stream",
     "text": [
      "2025/05/07 19:29:34 INFO mlflow.tracking._tracking_service.client: 🏃 View run bright-roo-348 at: https://dagshub.com/Akshat-Sharma-110011/Loan-Status-Approval.mlflow/#/experiments/1/runs/52dc04cfd0cc420dad6fa78765b3511a.\n",
      "2025/05/07 19:29:34 INFO mlflow.tracking._tracking_service.client: 🧪 View experiment at: https://dagshub.com/Akshat-Sharma-110011/Loan-Status-Approval.mlflow/#/experiments/1.\n",
      "[I 2025-05-07 19:29:35,081] Trial 89 finished with value: -inf and parameters: {'iterations': 1000, 'learning_rate': 0.2570070557549121, 'depth': 9, 'l2_leaf_reg': 5.90387023469698, 'random_strength': 0.2674460905755412, 'early_stopping_rounds': 58, 'bagging_temperature': 0.08716273118317708, 'boosting_type': 'Plain', 'bootstrap_type': 'Bernoulli', 'grow_policy': 'Lossguide', 'leaf_estimation_method': 'Gradient', 'subsample': 0.3553992903026879, 'min_data_in_leaf': 13}. Best is trial 16 with value: 0.9335946549661313.\n"
     ]
    },
    {
     "name": "stdout",
     "output_type": "stream",
     "text": [
      "[✓] 2025-05-07 19:29:49 | root            | INFO  | Trial 90 finished with f1: 0.9314 - params: {'iterations': 1100, 'learning_rate': 0.16599939328438382, 'depth': 8, 'l2_leaf_reg': 4.09446076512423, 'random_strength': 0.19961144605848435, 'early_stopping_rounds': 52, 'bagging_temperature': 1.5280557410290156, 'boosting_type': 'Plain', 'bootstrap_type': 'MVS', 'grow_policy': 'Lossguide', 'leaf_estimation_method': 'Newton', 'min_data_in_leaf': 9}\n",
      "[✓] 2025-05-07 19:29:49 | root            | INFO  | Trial 90 finished with f1: 0.9314 - params: {'iterations': 1100, 'learning_rate': 0.16599939328438382, 'depth': 8, 'l2_leaf_reg': 4.09446076512423, 'random_strength': 0.19961144605848435, 'early_stopping_rounds': 52, 'bagging_temperature': 1.5280557410290156, 'boosting_type': 'Plain', 'bootstrap_type': 'MVS', 'grow_policy': 'Lossguide', 'leaf_estimation_method': 'Newton', 'min_data_in_leaf': 9}\n"
     ]
    },
    {
     "name": "stderr",
     "output_type": "stream",
     "text": [
      "2025/05/07 19:29:49 INFO mlflow.tracking._tracking_service.client: 🏃 View run legendary-whale-83 at: https://dagshub.com/Akshat-Sharma-110011/Loan-Status-Approval.mlflow/#/experiments/1/runs/0e034f4c51ed4bb9947785f67b034198.\n",
      "2025/05/07 19:29:49 INFO mlflow.tracking._tracking_service.client: 🧪 View experiment at: https://dagshub.com/Akshat-Sharma-110011/Loan-Status-Approval.mlflow/#/experiments/1.\n",
      "[I 2025-05-07 19:29:50,290] Trial 90 finished with value: 0.9314345666059802 and parameters: {'iterations': 1100, 'learning_rate': 0.16599939328438382, 'depth': 8, 'l2_leaf_reg': 4.09446076512423, 'random_strength': 0.19961144605848435, 'early_stopping_rounds': 52, 'bagging_temperature': 1.5280557410290156, 'boosting_type': 'Plain', 'bootstrap_type': 'MVS', 'grow_policy': 'Lossguide', 'leaf_estimation_method': 'Newton', 'min_data_in_leaf': 9}. Best is trial 16 with value: 0.9335946549661313.\n"
     ]
    },
    {
     "name": "stdout",
     "output_type": "stream",
     "text": [
      "[✓] 2025-05-07 19:30:01 | root            | INFO  | Trial 91 finished with f1: 0.9312 - params: {'iterations': 1000, 'learning_rate': 0.1348900613661756, 'depth': 9, 'l2_leaf_reg': 4.944362971969874, 'random_strength': 0.24351964681964955, 'early_stopping_rounds': 64, 'bagging_temperature': 1.008140176211838, 'boosting_type': 'Plain', 'bootstrap_type': 'MVS', 'grow_policy': 'Lossguide', 'leaf_estimation_method': 'Newton', 'min_data_in_leaf': 13}\n",
      "[✓] 2025-05-07 19:30:01 | root            | INFO  | Trial 91 finished with f1: 0.9312 - params: {'iterations': 1000, 'learning_rate': 0.1348900613661756, 'depth': 9, 'l2_leaf_reg': 4.944362971969874, 'random_strength': 0.24351964681964955, 'early_stopping_rounds': 64, 'bagging_temperature': 1.008140176211838, 'boosting_type': 'Plain', 'bootstrap_type': 'MVS', 'grow_policy': 'Lossguide', 'leaf_estimation_method': 'Newton', 'min_data_in_leaf': 13}\n"
     ]
    },
    {
     "name": "stderr",
     "output_type": "stream",
     "text": [
      "2025/05/07 19:30:01 INFO mlflow.tracking._tracking_service.client: 🏃 View run dapper-squirrel-512 at: https://dagshub.com/Akshat-Sharma-110011/Loan-Status-Approval.mlflow/#/experiments/1/runs/0cb7ac531215412a8db460469a94c72c.\n",
      "2025/05/07 19:30:01 INFO mlflow.tracking._tracking_service.client: 🧪 View experiment at: https://dagshub.com/Akshat-Sharma-110011/Loan-Status-Approval.mlflow/#/experiments/1.\n",
      "[I 2025-05-07 19:30:02,278] Trial 91 finished with value: 0.9312104965622089 and parameters: {'iterations': 1000, 'learning_rate': 0.1348900613661756, 'depth': 9, 'l2_leaf_reg': 4.944362971969874, 'random_strength': 0.24351964681964955, 'early_stopping_rounds': 64, 'bagging_temperature': 1.008140176211838, 'boosting_type': 'Plain', 'bootstrap_type': 'MVS', 'grow_policy': 'Lossguide', 'leaf_estimation_method': 'Newton', 'min_data_in_leaf': 13}. Best is trial 16 with value: 0.9335946549661313.\n"
     ]
    },
    {
     "name": "stdout",
     "output_type": "stream",
     "text": [
      "[✓] 2025-05-07 19:30:34 | root            | INFO  | Trial 92 finished with f1: 0.9324 - params: {'iterations': 900, 'learning_rate': 0.08676299490071648, 'depth': 9, 'l2_leaf_reg': 8.259449591911455, 'random_strength': 0.4957583886267859, 'early_stopping_rounds': 59, 'bagging_temperature': 0.5313633785732068, 'boosting_type': 'Plain', 'bootstrap_type': 'MVS', 'grow_policy': 'Lossguide', 'leaf_estimation_method': 'Newton', 'min_data_in_leaf': 1}\n",
      "[✓] 2025-05-07 19:30:34 | root            | INFO  | Trial 92 finished with f1: 0.9324 - params: {'iterations': 900, 'learning_rate': 0.08676299490071648, 'depth': 9, 'l2_leaf_reg': 8.259449591911455, 'random_strength': 0.4957583886267859, 'early_stopping_rounds': 59, 'bagging_temperature': 0.5313633785732068, 'boosting_type': 'Plain', 'bootstrap_type': 'MVS', 'grow_policy': 'Lossguide', 'leaf_estimation_method': 'Newton', 'min_data_in_leaf': 1}\n"
     ]
    },
    {
     "name": "stderr",
     "output_type": "stream",
     "text": [
      "2025/05/07 19:30:34 INFO mlflow.tracking._tracking_service.client: 🏃 View run beautiful-snake-962 at: https://dagshub.com/Akshat-Sharma-110011/Loan-Status-Approval.mlflow/#/experiments/1/runs/012d5ccc2935487785dc07736437c1f8.\n",
      "2025/05/07 19:30:34 INFO mlflow.tracking._tracking_service.client: 🧪 View experiment at: https://dagshub.com/Akshat-Sharma-110011/Loan-Status-Approval.mlflow/#/experiments/1.\n",
      "[I 2025-05-07 19:30:34,836] Trial 92 finished with value: 0.9324364767918736 and parameters: {'iterations': 900, 'learning_rate': 0.08676299490071648, 'depth': 9, 'l2_leaf_reg': 8.259449591911455, 'random_strength': 0.4957583886267859, 'early_stopping_rounds': 59, 'bagging_temperature': 0.5313633785732068, 'boosting_type': 'Plain', 'bootstrap_type': 'MVS', 'grow_policy': 'Lossguide', 'leaf_estimation_method': 'Newton', 'min_data_in_leaf': 1}. Best is trial 16 with value: 0.9335946549661313.\n"
     ]
    },
    {
     "name": "stdout",
     "output_type": "stream",
     "text": [
      "[✓] 2025-05-07 19:30:47 | root            | INFO  | Trial 93 finished with f1: 0.9326 - params: {'iterations': 900, 'learning_rate': 0.20081045789364235, 'depth': 9, 'l2_leaf_reg': 4.54592039358865, 'random_strength': 0.47653558040935995, 'early_stopping_rounds': 56, 'bagging_temperature': 2.4305508304660868, 'boosting_type': 'Plain', 'bootstrap_type': 'MVS', 'grow_policy': 'Lossguide', 'leaf_estimation_method': 'Newton', 'min_data_in_leaf': 2}\n",
      "[✓] 2025-05-07 19:30:47 | root            | INFO  | Trial 93 finished with f1: 0.9326 - params: {'iterations': 900, 'learning_rate': 0.20081045789364235, 'depth': 9, 'l2_leaf_reg': 4.54592039358865, 'random_strength': 0.47653558040935995, 'early_stopping_rounds': 56, 'bagging_temperature': 2.4305508304660868, 'boosting_type': 'Plain', 'bootstrap_type': 'MVS', 'grow_policy': 'Lossguide', 'leaf_estimation_method': 'Newton', 'min_data_in_leaf': 2}\n"
     ]
    },
    {
     "name": "stderr",
     "output_type": "stream",
     "text": [
      "2025/05/07 19:30:47 INFO mlflow.tracking._tracking_service.client: 🏃 View run mysterious-owl-842 at: https://dagshub.com/Akshat-Sharma-110011/Loan-Status-Approval.mlflow/#/experiments/1/runs/9fa833bf84a5450b822d613f40fe393e.\n",
      "2025/05/07 19:30:47 INFO mlflow.tracking._tracking_service.client: 🧪 View experiment at: https://dagshub.com/Akshat-Sharma-110011/Loan-Status-Approval.mlflow/#/experiments/1.\n",
      "[I 2025-05-07 19:30:47,955] Trial 93 finished with value: 0.9326349849160355 and parameters: {'iterations': 900, 'learning_rate': 0.20081045789364235, 'depth': 9, 'l2_leaf_reg': 4.54592039358865, 'random_strength': 0.47653558040935995, 'early_stopping_rounds': 56, 'bagging_temperature': 2.4305508304660868, 'boosting_type': 'Plain', 'bootstrap_type': 'MVS', 'grow_policy': 'Lossguide', 'leaf_estimation_method': 'Newton', 'min_data_in_leaf': 2}. Best is trial 16 with value: 0.9335946549661313.\n"
     ]
    },
    {
     "name": "stdout",
     "output_type": "stream",
     "text": [
      "[✓] 2025-05-07 19:30:58 | root            | INFO  | Trial 94 finished with f1: 0.9324 - params: {'iterations': 900, 'learning_rate': 0.20493067634982445, 'depth': 8, 'l2_leaf_reg': 4.610717197513752, 'random_strength': 0.5098763054287755, 'early_stopping_rounds': 57, 'bagging_temperature': 0.5586917200635338, 'boosting_type': 'Plain', 'bootstrap_type': 'MVS', 'grow_policy': 'Lossguide', 'leaf_estimation_method': 'Newton', 'min_data_in_leaf': 1}\n",
      "[✓] 2025-05-07 19:30:58 | root            | INFO  | Trial 94 finished with f1: 0.9324 - params: {'iterations': 900, 'learning_rate': 0.20493067634982445, 'depth': 8, 'l2_leaf_reg': 4.610717197513752, 'random_strength': 0.5098763054287755, 'early_stopping_rounds': 57, 'bagging_temperature': 0.5586917200635338, 'boosting_type': 'Plain', 'bootstrap_type': 'MVS', 'grow_policy': 'Lossguide', 'leaf_estimation_method': 'Newton', 'min_data_in_leaf': 1}\n"
     ]
    },
    {
     "name": "stderr",
     "output_type": "stream",
     "text": [
      "2025/05/07 19:30:58 INFO mlflow.tracking._tracking_service.client: 🏃 View run zealous-smelt-641 at: https://dagshub.com/Akshat-Sharma-110011/Loan-Status-Approval.mlflow/#/experiments/1/runs/52f9972f718d4f9da42006cc491eedea.\n",
      "2025/05/07 19:30:58 INFO mlflow.tracking._tracking_service.client: 🧪 View experiment at: https://dagshub.com/Akshat-Sharma-110011/Loan-Status-Approval.mlflow/#/experiments/1.\n",
      "[I 2025-05-07 19:30:59,003] Trial 94 finished with value: 0.9324074588571315 and parameters: {'iterations': 900, 'learning_rate': 0.20493067634982445, 'depth': 8, 'l2_leaf_reg': 4.610717197513752, 'random_strength': 0.5098763054287755, 'early_stopping_rounds': 57, 'bagging_temperature': 0.5586917200635338, 'boosting_type': 'Plain', 'bootstrap_type': 'MVS', 'grow_policy': 'Lossguide', 'leaf_estimation_method': 'Newton', 'min_data_in_leaf': 1}. Best is trial 16 with value: 0.9335946549661313.\n"
     ]
    },
    {
     "name": "stdout",
     "output_type": "stream",
     "text": [
      "[✓] 2025-05-07 19:31:06 | root            | INFO  | Trial 95 finished with f1: 0.9302 - params: {'iterations': 900, 'learning_rate': 0.2979049921263134, 'depth': 8, 'l2_leaf_reg': 4.520692203799475, 'random_strength': 0.5119835569692818, 'early_stopping_rounds': 56, 'bagging_temperature': 0.5488881615806381, 'boosting_type': 'Plain', 'bootstrap_type': 'MVS', 'grow_policy': 'Lossguide', 'leaf_estimation_method': 'Newton', 'min_data_in_leaf': 1}\n",
      "[✓] 2025-05-07 19:31:06 | root            | INFO  | Trial 95 finished with f1: 0.9302 - params: {'iterations': 900, 'learning_rate': 0.2979049921263134, 'depth': 8, 'l2_leaf_reg': 4.520692203799475, 'random_strength': 0.5119835569692818, 'early_stopping_rounds': 56, 'bagging_temperature': 0.5488881615806381, 'boosting_type': 'Plain', 'bootstrap_type': 'MVS', 'grow_policy': 'Lossguide', 'leaf_estimation_method': 'Newton', 'min_data_in_leaf': 1}\n"
     ]
    },
    {
     "name": "stderr",
     "output_type": "stream",
     "text": [
      "2025/05/07 19:31:07 INFO mlflow.tracking._tracking_service.client: 🏃 View run agreeable-dog-198 at: https://dagshub.com/Akshat-Sharma-110011/Loan-Status-Approval.mlflow/#/experiments/1/runs/1be38c1fb50e463ca83cc3878beb7c56.\n",
      "2025/05/07 19:31:07 INFO mlflow.tracking._tracking_service.client: 🧪 View experiment at: https://dagshub.com/Akshat-Sharma-110011/Loan-Status-Approval.mlflow/#/experiments/1.\n",
      "[I 2025-05-07 19:31:07,639] Trial 95 finished with value: 0.9302347084591212 and parameters: {'iterations': 900, 'learning_rate': 0.2979049921263134, 'depth': 8, 'l2_leaf_reg': 4.520692203799475, 'random_strength': 0.5119835569692818, 'early_stopping_rounds': 56, 'bagging_temperature': 0.5488881615806381, 'boosting_type': 'Plain', 'bootstrap_type': 'MVS', 'grow_policy': 'Lossguide', 'leaf_estimation_method': 'Newton', 'min_data_in_leaf': 1}. Best is trial 16 with value: 0.9335946549661313.\n"
     ]
    },
    {
     "name": "stdout",
     "output_type": "stream",
     "text": [
      "[✓] 2025-05-07 19:31:18 | root            | INFO  | Trial 96 finished with f1: 0.9313 - params: {'iterations': 900, 'learning_rate': 0.19267578909715005, 'depth': 9, 'l2_leaf_reg': 4.66914064395814, 'random_strength': 0.612238014001471, 'early_stopping_rounds': 63, 'bagging_temperature': 0.4028332556926859, 'boosting_type': 'Plain', 'bootstrap_type': 'MVS', 'grow_policy': 'Lossguide', 'leaf_estimation_method': 'Newton', 'min_data_in_leaf': 10}\n",
      "[✓] 2025-05-07 19:31:18 | root            | INFO  | Trial 96 finished with f1: 0.9313 - params: {'iterations': 900, 'learning_rate': 0.19267578909715005, 'depth': 9, 'l2_leaf_reg': 4.66914064395814, 'random_strength': 0.612238014001471, 'early_stopping_rounds': 63, 'bagging_temperature': 0.4028332556926859, 'boosting_type': 'Plain', 'bootstrap_type': 'MVS', 'grow_policy': 'Lossguide', 'leaf_estimation_method': 'Newton', 'min_data_in_leaf': 10}\n"
     ]
    },
    {
     "name": "stderr",
     "output_type": "stream",
     "text": [
      "2025/05/07 19:31:18 INFO mlflow.tracking._tracking_service.client: 🏃 View run bright-fly-526 at: https://dagshub.com/Akshat-Sharma-110011/Loan-Status-Approval.mlflow/#/experiments/1/runs/00466703fb8f42e8bd4927452b3bad8c.\n",
      "2025/05/07 19:31:18 INFO mlflow.tracking._tracking_service.client: 🧪 View experiment at: https://dagshub.com/Akshat-Sharma-110011/Loan-Status-Approval.mlflow/#/experiments/1.\n",
      "[I 2025-05-07 19:31:19,058] Trial 96 finished with value: 0.9312624950286922 and parameters: {'iterations': 900, 'learning_rate': 0.19267578909715005, 'depth': 9, 'l2_leaf_reg': 4.66914064395814, 'random_strength': 0.612238014001471, 'early_stopping_rounds': 63, 'bagging_temperature': 0.4028332556926859, 'boosting_type': 'Plain', 'bootstrap_type': 'MVS', 'grow_policy': 'Lossguide', 'leaf_estimation_method': 'Newton', 'min_data_in_leaf': 10}. Best is trial 16 with value: 0.9335946549661313.\n"
     ]
    },
    {
     "name": "stdout",
     "output_type": "stream",
     "text": [
      "[✓] 2025-05-07 19:31:28 | root            | INFO  | Trial 97 finished with f1: 0.9274 - params: {'iterations': 1000, 'learning_rate': 0.21287957536555016, 'depth': 9, 'l2_leaf_reg': 3.7902087559728255, 'random_strength': 0.4764666725998343, 'early_stopping_rounds': 57, 'bagging_temperature': 0.8983276581644314, 'boosting_type': 'Plain', 'bootstrap_type': 'MVS', 'grow_policy': 'Lossguide', 'leaf_estimation_method': 'Newton', 'min_data_in_leaf': 3}\n",
      "[✓] 2025-05-07 19:31:28 | root            | INFO  | Trial 97 finished with f1: 0.9274 - params: {'iterations': 1000, 'learning_rate': 0.21287957536555016, 'depth': 9, 'l2_leaf_reg': 3.7902087559728255, 'random_strength': 0.4764666725998343, 'early_stopping_rounds': 57, 'bagging_temperature': 0.8983276581644314, 'boosting_type': 'Plain', 'bootstrap_type': 'MVS', 'grow_policy': 'Lossguide', 'leaf_estimation_method': 'Newton', 'min_data_in_leaf': 3}\n"
     ]
    },
    {
     "name": "stderr",
     "output_type": "stream",
     "text": [
      "2025/05/07 19:31:28 INFO mlflow.tracking._tracking_service.client: 🏃 View run magnificent-cod-417 at: https://dagshub.com/Akshat-Sharma-110011/Loan-Status-Approval.mlflow/#/experiments/1/runs/4144b0bb90384372b19807c74b6b5fdb.\n",
      "2025/05/07 19:31:28 INFO mlflow.tracking._tracking_service.client: 🧪 View experiment at: https://dagshub.com/Akshat-Sharma-110011/Loan-Status-Approval.mlflow/#/experiments/1.\n",
      "[I 2025-05-07 19:31:29,326] Trial 97 finished with value: 0.9273875346422151 and parameters: {'iterations': 1000, 'learning_rate': 0.21287957536555016, 'depth': 9, 'l2_leaf_reg': 3.7902087559728255, 'random_strength': 0.4764666725998343, 'early_stopping_rounds': 57, 'bagging_temperature': 0.8983276581644314, 'boosting_type': 'Plain', 'bootstrap_type': 'MVS', 'grow_policy': 'Lossguide', 'leaf_estimation_method': 'Newton', 'min_data_in_leaf': 3}. Best is trial 16 with value: 0.9335946549661313.\n"
     ]
    },
    {
     "name": "stdout",
     "output_type": "stream",
     "text": [
      "[✓] 2025-05-07 19:31:41 | root            | INFO  | Trial 98 finished with f1: 0.9286 - params: {'iterations': 900, 'learning_rate': 0.16686401875513293, 'depth': 8, 'l2_leaf_reg': 4.241617701357141, 'random_strength': 0.37323810456813367, 'early_stopping_rounds': 67, 'bagging_temperature': 1.243173118726442, 'boosting_type': 'Plain', 'bootstrap_type': 'MVS', 'grow_policy': 'Lossguide', 'leaf_estimation_method': 'Newton', 'min_data_in_leaf': 7}\n",
      "[✓] 2025-05-07 19:31:41 | root            | INFO  | Trial 98 finished with f1: 0.9286 - params: {'iterations': 900, 'learning_rate': 0.16686401875513293, 'depth': 8, 'l2_leaf_reg': 4.241617701357141, 'random_strength': 0.37323810456813367, 'early_stopping_rounds': 67, 'bagging_temperature': 1.243173118726442, 'boosting_type': 'Plain', 'bootstrap_type': 'MVS', 'grow_policy': 'Lossguide', 'leaf_estimation_method': 'Newton', 'min_data_in_leaf': 7}\n"
     ]
    },
    {
     "name": "stderr",
     "output_type": "stream",
     "text": [
      "2025/05/07 19:31:41 INFO mlflow.tracking._tracking_service.client: 🏃 View run wistful-fish-434 at: https://dagshub.com/Akshat-Sharma-110011/Loan-Status-Approval.mlflow/#/experiments/1/runs/002389c509af46f28cc8ef2319420a2f.\n",
      "2025/05/07 19:31:41 INFO mlflow.tracking._tracking_service.client: 🧪 View experiment at: https://dagshub.com/Akshat-Sharma-110011/Loan-Status-Approval.mlflow/#/experiments/1.\n",
      "[I 2025-05-07 19:31:42,289] Trial 98 finished with value: 0.9285622097626476 and parameters: {'iterations': 900, 'learning_rate': 0.16686401875513293, 'depth': 8, 'l2_leaf_reg': 4.241617701357141, 'random_strength': 0.37323810456813367, 'early_stopping_rounds': 67, 'bagging_temperature': 1.243173118726442, 'boosting_type': 'Plain', 'bootstrap_type': 'MVS', 'grow_policy': 'Lossguide', 'leaf_estimation_method': 'Newton', 'min_data_in_leaf': 7}. Best is trial 16 with value: 0.9335946549661313.\n"
     ]
    },
    {
     "name": "stdout",
     "output_type": "stream",
     "text": [
      "[✓] 2025-05-07 19:32:05 | root            | INFO  | Trial 99 finished with f1: 0.9247 - params: {'iterations': 1000, 'learning_rate': 0.13633604833590293, 'depth': 8, 'l2_leaf_reg': 3.5703708282593776, 'random_strength': 0.3068879480165315, 'early_stopping_rounds': 59, 'bagging_temperature': 2.416727495715776, 'boosting_type': 'Plain', 'bootstrap_type': 'Bayesian', 'grow_policy': 'Lossguide', 'leaf_estimation_method': 'Newton', 'min_data_in_leaf': 19}\n",
      "[✓] 2025-05-07 19:32:05 | root            | INFO  | Trial 99 finished with f1: 0.9247 - params: {'iterations': 1000, 'learning_rate': 0.13633604833590293, 'depth': 8, 'l2_leaf_reg': 3.5703708282593776, 'random_strength': 0.3068879480165315, 'early_stopping_rounds': 59, 'bagging_temperature': 2.416727495715776, 'boosting_type': 'Plain', 'bootstrap_type': 'Bayesian', 'grow_policy': 'Lossguide', 'leaf_estimation_method': 'Newton', 'min_data_in_leaf': 19}\n"
     ]
    },
    {
     "name": "stderr",
     "output_type": "stream",
     "text": [
      "2025/05/07 19:32:06 INFO mlflow.tracking._tracking_service.client: 🏃 View run dapper-jay-154 at: https://dagshub.com/Akshat-Sharma-110011/Loan-Status-Approval.mlflow/#/experiments/1/runs/3a7e06b3547e491c9802f4b4e563ea75.\n",
      "2025/05/07 19:32:06 INFO mlflow.tracking._tracking_service.client: 🧪 View experiment at: https://dagshub.com/Akshat-Sharma-110011/Loan-Status-Approval.mlflow/#/experiments/1.\n",
      "[I 2025-05-07 19:32:06,404] Trial 99 finished with value: 0.9247425671032797 and parameters: {'iterations': 1000, 'learning_rate': 0.13633604833590293, 'depth': 8, 'l2_leaf_reg': 3.5703708282593776, 'random_strength': 0.3068879480165315, 'early_stopping_rounds': 59, 'bagging_temperature': 2.416727495715776, 'boosting_type': 'Plain', 'bootstrap_type': 'Bayesian', 'grow_policy': 'Lossguide', 'leaf_estimation_method': 'Newton', 'min_data_in_leaf': 19}. Best is trial 16 with value: 0.9335946549661313.\n"
     ]
    },
    {
     "name": "stdout",
     "output_type": "stream",
     "text": [
      "[✓] 2025-05-07 19:32:06 | root            | INFO  | ==================================================\n",
      "[✓] 2025-05-07 19:32:06 | root            | INFO  | ==================================================\n",
      "[✓] 2025-05-07 19:32:06 | root            | INFO  | Best Trial Information:\n",
      "[✓] 2025-05-07 19:32:06 | root            | INFO  | Best Trial Information:\n",
      "[✓] 2025-05-07 19:32:06 | root            | INFO  | Best Trial Number: 16\n",
      "[✓] 2025-05-07 19:32:06 | root            | INFO  | Best Trial Number: 16\n",
      "[✓] 2025-05-07 19:32:06 | root            | INFO  | Best F1 Score: 0.9336\n",
      "[✓] 2025-05-07 19:32:06 | root            | INFO  | Best F1 Score: 0.9336\n",
      "[✓] 2025-05-07 19:32:06 | root            | INFO  | Best Parameters:\n",
      "[✓] 2025-05-07 19:32:06 | root            | INFO  | Best Parameters:\n",
      "[✓] 2025-05-07 19:32:06 | root            | INFO  |   iterations: 600\n",
      "[✓] 2025-05-07 19:32:06 | root            | INFO  |   iterations: 600\n",
      "[✓] 2025-05-07 19:32:06 | root            | INFO  |   learning_rate: 0.09069791143458081\n",
      "[✓] 2025-05-07 19:32:06 | root            | INFO  |   learning_rate: 0.09069791143458081\n",
      "[✓] 2025-05-07 19:32:06 | root            | INFO  |   depth: 6\n",
      "[✓] 2025-05-07 19:32:06 | root            | INFO  |   depth: 6\n",
      "[✓] 2025-05-07 19:32:06 | root            | INFO  |   l2_leaf_reg: 5.026670805382901\n",
      "[✓] 2025-05-07 19:32:06 | root            | INFO  |   l2_leaf_reg: 5.026670805382901\n",
      "[✓] 2025-05-07 19:32:06 | root            | INFO  |   random_strength: 0.7226657998312077\n",
      "[✓] 2025-05-07 19:32:06 | root            | INFO  |   random_strength: 0.7226657998312077\n",
      "[✓] 2025-05-07 19:32:06 | root            | INFO  |   early_stopping_rounds: 145\n",
      "[✓] 2025-05-07 19:32:06 | root            | INFO  |   early_stopping_rounds: 145\n",
      "[✓] 2025-05-07 19:32:06 | root            | INFO  |   bagging_temperature: 4.855931236523602\n",
      "[✓] 2025-05-07 19:32:06 | root            | INFO  |   bagging_temperature: 4.855931236523602\n",
      "[✓] 2025-05-07 19:32:06 | root            | INFO  |   boosting_type: Plain\n",
      "[✓] 2025-05-07 19:32:06 | root            | INFO  |   boosting_type: Plain\n",
      "[✓] 2025-05-07 19:32:06 | root            | INFO  |   bootstrap_type: MVS\n",
      "[✓] 2025-05-07 19:32:06 | root            | INFO  |   bootstrap_type: MVS\n",
      "[✓] 2025-05-07 19:32:06 | root            | INFO  |   grow_policy: Depthwise\n",
      "[✓] 2025-05-07 19:32:06 | root            | INFO  |   grow_policy: Depthwise\n",
      "[✓] 2025-05-07 19:32:06 | root            | INFO  |   leaf_estimation_method: Newton\n",
      "[✓] 2025-05-07 19:32:06 | root            | INFO  |   leaf_estimation_method: Newton\n",
      "[✓] 2025-05-07 19:32:06 | root            | INFO  |   min_data_in_leaf: 48\n",
      "[✓] 2025-05-07 19:32:06 | root            | INFO  |   min_data_in_leaf: 48\n",
      "[✓] 2025-05-07 19:32:06 | root            | INFO  | ==================================================\n",
      "[✓] 2025-05-07 19:32:06 | root            | INFO  | ==================================================\n"
     ]
    },
    {
     "name": "stderr",
     "output_type": "stream",
     "text": [
      "[W 2025-05-07 19:32:11,799] Trial 0 is omitted in visualization because its objective value is inf or nan.\n",
      "[W 2025-05-07 19:32:11,800] Trial 1 is omitted in visualization because its objective value is inf or nan.\n",
      "[W 2025-05-07 19:32:11,801] Trial 3 is omitted in visualization because its objective value is inf or nan.\n",
      "[W 2025-05-07 19:32:11,802] Trial 6 is omitted in visualization because its objective value is inf or nan.\n",
      "[W 2025-05-07 19:32:11,803] Trial 7 is omitted in visualization because its objective value is inf or nan.\n",
      "[W 2025-05-07 19:32:11,804] Trial 10 is omitted in visualization because its objective value is inf or nan.\n",
      "[W 2025-05-07 19:32:11,806] Trial 11 is omitted in visualization because its objective value is inf or nan.\n",
      "[W 2025-05-07 19:32:11,807] Trial 14 is omitted in visualization because its objective value is inf or nan.\n",
      "[W 2025-05-07 19:32:11,810] Trial 19 is omitted in visualization because its objective value is inf or nan.\n",
      "[W 2025-05-07 19:32:11,811] Trial 26 is omitted in visualization because its objective value is inf or nan.\n",
      "[W 2025-05-07 19:32:11,812] Trial 29 is omitted in visualization because its objective value is inf or nan.\n",
      "[W 2025-05-07 19:32:11,813] Trial 34 is omitted in visualization because its objective value is inf or nan.\n",
      "[W 2025-05-07 19:32:11,814] Trial 39 is omitted in visualization because its objective value is inf or nan.\n",
      "[W 2025-05-07 19:32:11,815] Trial 40 is omitted in visualization because its objective value is inf or nan.\n",
      "[W 2025-05-07 19:32:11,816] Trial 47 is omitted in visualization because its objective value is inf or nan.\n",
      "[W 2025-05-07 19:32:11,817] Trial 56 is omitted in visualization because its objective value is inf or nan.\n",
      "[W 2025-05-07 19:32:11,818] Trial 58 is omitted in visualization because its objective value is inf or nan.\n",
      "[W 2025-05-07 19:32:11,819] Trial 69 is omitted in visualization because its objective value is inf or nan.\n",
      "[W 2025-05-07 19:32:11,820] Trial 77 is omitted in visualization because its objective value is inf or nan.\n",
      "[W 2025-05-07 19:32:11,821] Trial 89 is omitted in visualization because its objective value is inf or nan.\n"
     ]
    },
    {
     "name": "stdout",
     "output_type": "stream",
     "text": [
      "[✓] 2025-05-07 19:32:16 | root            | INFO  | Saved optimization visualizations to artifacts\n",
      "[✓] 2025-05-07 19:32:16 | root            | INFO  | Saved optimization visualizations to artifacts\n",
      "[✓] 2025-05-07 19:32:16 | root            | INFO  | Training final model with best parameters...\n",
      "[✓] 2025-05-07 19:32:16 | root            | INFO  | Training final model with best parameters...\n",
      "[✓] 2025-05-07 19:32:30 | root            | INFO  | ==================================================\n",
      "[✓] 2025-05-07 19:32:30 | root            | INFO  | ==================================================\n",
      "[✓] 2025-05-07 19:32:30 | root            | INFO  | Final Model Performance:\n",
      "[✓] 2025-05-07 19:32:30 | root            | INFO  | Final Model Performance:\n",
      "[✓] 2025-05-07 19:32:30 | root            | INFO  |   final_accuracy: 0.9326\n",
      "[✓] 2025-05-07 19:32:30 | root            | INFO  |   final_accuracy: 0.9326\n",
      "[✓] 2025-05-07 19:32:30 | root            | INFO  |   final_precision: 0.9318\n",
      "[✓] 2025-05-07 19:32:30 | root            | INFO  |   final_precision: 0.9318\n",
      "[✓] 2025-05-07 19:32:30 | root            | INFO  |   final_recall: 0.9326\n",
      "[✓] 2025-05-07 19:32:30 | root            | INFO  |   final_recall: 0.9326\n",
      "[✓] 2025-05-07 19:32:30 | root            | INFO  |   final_f1_score: 0.9321\n",
      "[✓] 2025-05-07 19:32:30 | root            | INFO  |   final_f1_score: 0.9321\n",
      "[✓] 2025-05-07 19:32:30 | root            | INFO  | \n",
      "Classification Report:\n",
      "[✓] 2025-05-07 19:32:30 | root            | INFO  | \n",
      "Classification Report:\n",
      "[✓] 2025-05-07 19:32:30 | root            | INFO  | \n",
      "              precision    recall  f1-score   support\n",
      "\n",
      "           0       0.95      0.96      0.96      7000\n",
      "           1       0.86      0.83      0.85      2000\n",
      "\n",
      "    accuracy                           0.93      9000\n",
      "   macro avg       0.91      0.90      0.90      9000\n",
      "weighted avg       0.93      0.93      0.93      9000\n",
      "\n",
      "[✓] 2025-05-07 19:32:30 | root            | INFO  | \n",
      "              precision    recall  f1-score   support\n",
      "\n",
      "           0       0.95      0.96      0.96      7000\n",
      "           1       0.86      0.83      0.85      2000\n",
      "\n",
      "    accuracy                           0.93      9000\n",
      "   macro avg       0.91      0.90      0.90      9000\n",
      "weighted avg       0.93      0.93      0.93      9000\n",
      "\n",
      "[✓] 2025-05-07 19:32:30 | root            | INFO  | \n",
      "Confusion Matrix:\n",
      "[✓] 2025-05-07 19:32:30 | root            | INFO  | \n",
      "Confusion Matrix:\n",
      "[✓] 2025-05-07 19:32:30 | root            | INFO  | \n",
      "[[6736  264]\n",
      " [ 343 1657]]\n",
      "[✓] 2025-05-07 19:32:30 | root            | INFO  | \n",
      "[[6736  264]\n",
      " [ 343 1657]]\n",
      "[✓] 2025-05-07 19:32:30 | root            | INFO  | ==================================================\n",
      "[✓] 2025-05-07 19:32:30 | root            | INFO  | ==================================================\n"
     ]
    },
    {
     "name": "stderr",
     "output_type": "stream",
     "text": [
      "2025/05/07 19:32:45 WARNING mlflow.models.model: Input example should be provided to infer model signature if the model signature is not provided when logging the model.\n"
     ]
    },
    {
     "name": "stdout",
     "output_type": "stream",
     "text": [
      "[✓] 2025-05-07 19:32:46 | root            | INFO  | \n",
      "Top 10 Important Features:\n",
      "[✓] 2025-05-07 19:32:46 | root            | INFO  | \n",
      "Top 10 Important Features:\n",
      "[✓] 2025-05-07 19:32:46 | root            | INFO  |   previous_loan_defaults_on_file_Yes: 47.2752\n",
      "[✓] 2025-05-07 19:32:46 | root            | INFO  |   previous_loan_defaults_on_file_Yes: 47.2752\n",
      "[✓] 2025-05-07 19:32:46 | root            | INFO  |   loan_percent_income: 15.1122\n",
      "[✓] 2025-05-07 19:32:46 | root            | INFO  |   loan_percent_income: 15.1122\n",
      "[✓] 2025-05-07 19:32:46 | root            | INFO  |   person_income: 6.8218\n",
      "[✓] 2025-05-07 19:32:46 | root            | INFO  |   person_income: 6.8218\n",
      "[✓] 2025-05-07 19:32:46 | root            | INFO  |   cb_person_cred_hist_length: 6.5606\n",
      "[✓] 2025-05-07 19:32:46 | root            | INFO  |   cb_person_cred_hist_length: 6.5606\n",
      "[✓] 2025-05-07 19:32:46 | root            | INFO  |   loan_int_rate: 5.2535\n",
      "[✓] 2025-05-07 19:32:46 | root            | INFO  |   loan_int_rate: 5.2535\n",
      "[✓] 2025-05-07 19:32:46 | root            | INFO  |   person_age: 4.8100\n",
      "[✓] 2025-05-07 19:32:46 | root            | INFO  |   person_age: 4.8100\n",
      "[✓] 2025-05-07 19:32:46 | root            | INFO  |   person_emp_exp: 4.2294\n",
      "[✓] 2025-05-07 19:32:46 | root            | INFO  |   person_emp_exp: 4.2294\n",
      "[✓] 2025-05-07 19:32:46 | root            | INFO  |   person_home_ownership_RENT: 2.6227\n",
      "[✓] 2025-05-07 19:32:46 | root            | INFO  |   person_home_ownership_RENT: 2.6227\n",
      "[✓] 2025-05-07 19:32:46 | root            | INFO  |   loan_amnt: 1.9027\n",
      "[✓] 2025-05-07 19:32:46 | root            | INFO  |   loan_amnt: 1.9027\n",
      "[✓] 2025-05-07 19:32:46 | root            | INFO  |   credit_score: 1.3855\n",
      "[✓] 2025-05-07 19:32:46 | root            | INFO  |   credit_score: 1.3855\n",
      "[✓] 2025-05-07 19:32:46 | root            | INFO  | \n",
      "Total tuning + final training time: 1521.87 seconds (25.36 minutes)\n",
      "[✓] 2025-05-07 19:32:46 | root            | INFO  | \n",
      "Total tuning + final training time: 1521.87 seconds (25.36 minutes)\n",
      "[✓] 2025-05-07 19:32:46 | root            | INFO  | \n",
      "Optimization complete! Best model saved to MLflow.\n",
      "[✓] 2025-05-07 19:32:46 | root            | INFO  | \n",
      "Optimization complete! Best model saved to MLflow.\n"
     ]
    },
    {
     "name": "stderr",
     "output_type": "stream",
     "text": [
      "2025/05/07 19:32:47 INFO mlflow.tracking._tracking_service.client: 🏃 View run CatBoost_Optuna_HPO at: https://dagshub.com/Akshat-Sharma-110011/Loan-Status-Approval.mlflow/#/experiments/1/runs/2f52bd8928ef40d2b895fdcd25da20af.\n",
      "2025/05/07 19:32:47 INFO mlflow.tracking._tracking_service.client: 🧪 View experiment at: https://dagshub.com/Akshat-Sharma-110011/Loan-Status-Approval.mlflow/#/experiments/1.\n"
     ]
    }
   ],
   "execution_count": 9
  },
  {
   "metadata": {},
   "cell_type": "code",
   "outputs": [],
   "execution_count": null,
   "source": "",
   "id": "aa1c7264a502ae46"
  }
 ],
 "metadata": {
  "kernelspec": {
   "display_name": "Python 3",
   "language": "python",
   "name": "python3"
  },
  "language_info": {
   "codemirror_mode": {
    "name": "ipython",
    "version": 2
   },
   "file_extension": ".py",
   "mimetype": "text/x-python",
   "name": "python",
   "nbconvert_exporter": "python",
   "pygments_lexer": "ipython2",
   "version": "2.7.6"
  }
 },
 "nbformat": 4,
 "nbformat_minor": 5
}
