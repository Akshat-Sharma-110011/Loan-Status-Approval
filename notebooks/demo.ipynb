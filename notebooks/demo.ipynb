{
 "cells": [
  {
   "cell_type": "code",
   "id": "initial_id",
   "metadata": {
    "collapsed": true,
    "ExecuteTime": {
     "end_time": "2025-05-04T14:15:27.501048Z",
     "start_time": "2025-05-04T14:15:26.487459Z"
    }
   },
   "source": "import pandas as pd",
   "outputs": [],
   "execution_count": 1
  },
  {
   "metadata": {
    "ExecuteTime": {
     "end_time": "2025-05-04T14:16:52.689831Z",
     "start_time": "2025-05-04T14:16:52.478758Z"
    }
   },
   "cell_type": "code",
   "source": [
    "df = pd.read_csv('train_processed.csv')\n",
    "df.head()"
   ],
   "id": "9c984561af0f9f80",
   "outputs": [
    {
     "data": {
      "text/plain": [
       "   person_age person_gender person_education  person_income  person_emp_exp  \\\n",
       "0    1.253907        female         Bachelor       0.664828        1.101366   \n",
       "1   -0.335826          male      High School       0.159686       -0.078303   \n",
       "2    1.782277        female           Master       2.623655        1.621472   \n",
       "3    0.176694          male        Associate       0.609886        0.154245   \n",
       "4    0.176694          male           Master       0.427254        0.655721   \n",
       "\n",
       "  person_home_ownership  loan_amnt      loan_intent  loan_int_rate  \\\n",
       "0              MORTGAGE   0.964450         PERSONAL          12.73   \n",
       "1                  RENT   0.599600          VENTURE          11.86   \n",
       "2              MORTGAGE   1.798002         PERSONAL          10.37   \n",
       "3                  RENT   0.253269        EDUCATION          17.14   \n",
       "4                  RENT  -0.195311  HOMEIMPROVEMENT          12.97   \n",
       "\n",
       "   loan_percent_income  cb_person_cred_hist_length  credit_score  \\\n",
       "0             0.337536                    1.047467     -0.143301   \n",
       "1             0.453536                   -0.275828      0.468757   \n",
       "2            -0.832058                    1.332346      1.052801   \n",
       "3            -0.336945                    0.665514      0.067033   \n",
       "4            -0.658384                   -0.797265      1.667391   \n",
       "\n",
       "  previous_loan_defaults_on_file  loan_status  \n",
       "0                             No            0  \n",
       "1                            Yes            0  \n",
       "2                            Yes            0  \n",
       "3                             No            0  \n",
       "4                            Yes            0  "
      ],
      "text/html": [
       "<div>\n",
       "<style scoped>\n",
       "    .dataframe tbody tr th:only-of-type {\n",
       "        vertical-align: middle;\n",
       "    }\n",
       "\n",
       "    .dataframe tbody tr th {\n",
       "        vertical-align: top;\n",
       "    }\n",
       "\n",
       "    .dataframe thead th {\n",
       "        text-align: right;\n",
       "    }\n",
       "</style>\n",
       "<table border=\"1\" class=\"dataframe\">\n",
       "  <thead>\n",
       "    <tr style=\"text-align: right;\">\n",
       "      <th></th>\n",
       "      <th>person_age</th>\n",
       "      <th>person_gender</th>\n",
       "      <th>person_education</th>\n",
       "      <th>person_income</th>\n",
       "      <th>person_emp_exp</th>\n",
       "      <th>person_home_ownership</th>\n",
       "      <th>loan_amnt</th>\n",
       "      <th>loan_intent</th>\n",
       "      <th>loan_int_rate</th>\n",
       "      <th>loan_percent_income</th>\n",
       "      <th>cb_person_cred_hist_length</th>\n",
       "      <th>credit_score</th>\n",
       "      <th>previous_loan_defaults_on_file</th>\n",
       "      <th>loan_status</th>\n",
       "    </tr>\n",
       "  </thead>\n",
       "  <tbody>\n",
       "    <tr>\n",
       "      <th>0</th>\n",
       "      <td>1.253907</td>\n",
       "      <td>female</td>\n",
       "      <td>Bachelor</td>\n",
       "      <td>0.664828</td>\n",
       "      <td>1.101366</td>\n",
       "      <td>MORTGAGE</td>\n",
       "      <td>0.964450</td>\n",
       "      <td>PERSONAL</td>\n",
       "      <td>12.73</td>\n",
       "      <td>0.337536</td>\n",
       "      <td>1.047467</td>\n",
       "      <td>-0.143301</td>\n",
       "      <td>No</td>\n",
       "      <td>0</td>\n",
       "    </tr>\n",
       "    <tr>\n",
       "      <th>1</th>\n",
       "      <td>-0.335826</td>\n",
       "      <td>male</td>\n",
       "      <td>High School</td>\n",
       "      <td>0.159686</td>\n",
       "      <td>-0.078303</td>\n",
       "      <td>RENT</td>\n",
       "      <td>0.599600</td>\n",
       "      <td>VENTURE</td>\n",
       "      <td>11.86</td>\n",
       "      <td>0.453536</td>\n",
       "      <td>-0.275828</td>\n",
       "      <td>0.468757</td>\n",
       "      <td>Yes</td>\n",
       "      <td>0</td>\n",
       "    </tr>\n",
       "    <tr>\n",
       "      <th>2</th>\n",
       "      <td>1.782277</td>\n",
       "      <td>female</td>\n",
       "      <td>Master</td>\n",
       "      <td>2.623655</td>\n",
       "      <td>1.621472</td>\n",
       "      <td>MORTGAGE</td>\n",
       "      <td>1.798002</td>\n",
       "      <td>PERSONAL</td>\n",
       "      <td>10.37</td>\n",
       "      <td>-0.832058</td>\n",
       "      <td>1.332346</td>\n",
       "      <td>1.052801</td>\n",
       "      <td>Yes</td>\n",
       "      <td>0</td>\n",
       "    </tr>\n",
       "    <tr>\n",
       "      <th>3</th>\n",
       "      <td>0.176694</td>\n",
       "      <td>male</td>\n",
       "      <td>Associate</td>\n",
       "      <td>0.609886</td>\n",
       "      <td>0.154245</td>\n",
       "      <td>RENT</td>\n",
       "      <td>0.253269</td>\n",
       "      <td>EDUCATION</td>\n",
       "      <td>17.14</td>\n",
       "      <td>-0.336945</td>\n",
       "      <td>0.665514</td>\n",
       "      <td>0.067033</td>\n",
       "      <td>No</td>\n",
       "      <td>0</td>\n",
       "    </tr>\n",
       "    <tr>\n",
       "      <th>4</th>\n",
       "      <td>0.176694</td>\n",
       "      <td>male</td>\n",
       "      <td>Master</td>\n",
       "      <td>0.427254</td>\n",
       "      <td>0.655721</td>\n",
       "      <td>RENT</td>\n",
       "      <td>-0.195311</td>\n",
       "      <td>HOMEIMPROVEMENT</td>\n",
       "      <td>12.97</td>\n",
       "      <td>-0.658384</td>\n",
       "      <td>-0.797265</td>\n",
       "      <td>1.667391</td>\n",
       "      <td>Yes</td>\n",
       "      <td>0</td>\n",
       "    </tr>\n",
       "  </tbody>\n",
       "</table>\n",
       "</div>"
      ]
     },
     "execution_count": 5,
     "metadata": {},
     "output_type": "execute_result"
    }
   ],
   "execution_count": 5
  },
  {
   "metadata": {
    "ExecuteTime": {
     "end_time": "2025-05-04T14:17:15.308340Z",
     "start_time": "2025-05-04T14:17:15.281576Z"
    }
   },
   "cell_type": "code",
   "source": "df.isnull().sum()",
   "id": "e99dbe388bbb1e3e",
   "outputs": [
    {
     "data": {
      "text/plain": [
       "person_age                        0\n",
       "person_gender                     0\n",
       "person_education                  0\n",
       "person_income                     0\n",
       "person_emp_exp                    0\n",
       "person_home_ownership             0\n",
       "loan_amnt                         0\n",
       "loan_intent                       0\n",
       "loan_int_rate                     0\n",
       "loan_percent_income               0\n",
       "cb_person_cred_hist_length        0\n",
       "credit_score                      0\n",
       "previous_loan_defaults_on_file    0\n",
       "loan_status                       0\n",
       "dtype: int64"
      ]
     },
     "execution_count": 6,
     "metadata": {},
     "output_type": "execute_result"
    }
   ],
   "execution_count": 6
  },
  {
   "metadata": {},
   "cell_type": "code",
   "outputs": [],
   "execution_count": null,
   "source": "",
   "id": "68bd879af376a235"
  }
 ],
 "metadata": {
  "kernelspec": {
   "display_name": "Python 3",
   "language": "python",
   "name": "python3"
  },
  "language_info": {
   "codemirror_mode": {
    "name": "ipython",
    "version": 2
   },
   "file_extension": ".py",
   "mimetype": "text/x-python",
   "name": "python",
   "nbconvert_exporter": "python",
   "pygments_lexer": "ipython2",
   "version": "2.7.6"
  }
 },
 "nbformat": 4,
 "nbformat_minor": 5
}
